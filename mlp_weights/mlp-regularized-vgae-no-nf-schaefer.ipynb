{
 "cells": [
  {
   "cell_type": "code",
   "execution_count": 3,
   "metadata": {},
   "outputs": [
    {
     "name": "stderr",
     "output_type": "stream",
     "text": [
      "  4%|▍         | 20/500 [00:04<01:45,  4.53it/s]"
     ]
    },
    {
     "name": "stdout",
     "output_type": "stream",
     "text": [
      "Epoch 20/500 - Train Loss: 5.9570 - Val Loss: 12.5374\n",
      "\n"
     ]
    },
    {
     "name": "stderr",
     "output_type": "stream",
     "text": [
      "  8%|▊         | 40/500 [00:08<01:41,  4.54it/s]"
     ]
    },
    {
     "name": "stdout",
     "output_type": "stream",
     "text": [
      "Epoch 40/500 - Train Loss: 5.4337 - Val Loss: 11.5747\n",
      "\n"
     ]
    },
    {
     "name": "stderr",
     "output_type": "stream",
     "text": [
      " 12%|█▏        | 60/500 [00:13<01:36,  4.56it/s]"
     ]
    },
    {
     "name": "stdout",
     "output_type": "stream",
     "text": [
      "Epoch 60/500 - Train Loss: 5.6681 - Val Loss: 10.7687\n",
      "\n"
     ]
    },
    {
     "name": "stderr",
     "output_type": "stream",
     "text": [
      " 16%|█▌        | 80/500 [00:17<01:31,  4.57it/s]"
     ]
    },
    {
     "name": "stdout",
     "output_type": "stream",
     "text": [
      "Epoch 80/500 - Train Loss: 5.4516 - Val Loss: 10.6780\n",
      "\n"
     ]
    },
    {
     "name": "stderr",
     "output_type": "stream",
     "text": [
      " 20%|██        | 100/500 [00:21<01:26,  4.64it/s]"
     ]
    },
    {
     "name": "stdout",
     "output_type": "stream",
     "text": [
      "Epoch 100/500 - Train Loss: 5.2727 - Val Loss: 11.0040\n",
      "\n"
     ]
    },
    {
     "name": "stderr",
     "output_type": "stream",
     "text": [
      " 24%|██▍       | 120/500 [00:26<01:21,  4.64it/s]"
     ]
    },
    {
     "name": "stdout",
     "output_type": "stream",
     "text": [
      "Epoch 120/500 - Train Loss: 5.2290 - Val Loss: 11.0004\n",
      "\n"
     ]
    },
    {
     "name": "stderr",
     "output_type": "stream",
     "text": [
      " 28%|██▊       | 140/500 [00:30<01:17,  4.63it/s]"
     ]
    },
    {
     "name": "stdout",
     "output_type": "stream",
     "text": [
      "Epoch 140/500 - Train Loss: 5.4822 - Val Loss: 11.4652\n",
      "\n"
     ]
    },
    {
     "name": "stderr",
     "output_type": "stream",
     "text": [
      " 32%|███▏      | 160/500 [00:34<01:14,  4.57it/s]"
     ]
    },
    {
     "name": "stdout",
     "output_type": "stream",
     "text": [
      "Epoch 160/500 - Train Loss: 5.2486 - Val Loss: 11.4032\n",
      "\n"
     ]
    },
    {
     "name": "stderr",
     "output_type": "stream",
     "text": [
      " 36%|███▌      | 180/500 [00:39<01:09,  4.58it/s]"
     ]
    },
    {
     "name": "stdout",
     "output_type": "stream",
     "text": [
      "Epoch 180/500 - Train Loss: 5.6204 - Val Loss: 12.3314\n",
      "\n"
     ]
    },
    {
     "name": "stderr",
     "output_type": "stream",
     "text": [
      " 40%|████      | 200/500 [00:43<01:05,  4.60it/s]"
     ]
    },
    {
     "name": "stdout",
     "output_type": "stream",
     "text": [
      "Epoch 200/500 - Train Loss: 5.7027 - Val Loss: 11.5381\n",
      "\n"
     ]
    },
    {
     "name": "stderr",
     "output_type": "stream",
     "text": [
      " 44%|████▍     | 220/500 [00:48<01:02,  4.49it/s]"
     ]
    },
    {
     "name": "stdout",
     "output_type": "stream",
     "text": [
      "Epoch 220/500 - Train Loss: 5.8190 - Val Loss: 11.3112\n",
      "\n"
     ]
    },
    {
     "name": "stderr",
     "output_type": "stream",
     "text": [
      " 48%|████▊     | 240/500 [00:52<00:58,  4.48it/s]"
     ]
    },
    {
     "name": "stdout",
     "output_type": "stream",
     "text": [
      "Epoch 240/500 - Train Loss: 5.3141 - Val Loss: 11.8890\n",
      "\n"
     ]
    },
    {
     "name": "stderr",
     "output_type": "stream",
     "text": [
      " 52%|█████▏    | 260/500 [00:57<00:53,  4.48it/s]"
     ]
    },
    {
     "name": "stdout",
     "output_type": "stream",
     "text": [
      "Epoch 260/500 - Train Loss: 5.0176 - Val Loss: 11.8572\n",
      "\n"
     ]
    },
    {
     "name": "stderr",
     "output_type": "stream",
     "text": [
      " 56%|█████▌    | 280/500 [01:01<00:48,  4.51it/s]"
     ]
    },
    {
     "name": "stdout",
     "output_type": "stream",
     "text": [
      "Epoch 280/500 - Train Loss: 5.4493 - Val Loss: 11.3419\n",
      "\n"
     ]
    },
    {
     "name": "stderr",
     "output_type": "stream",
     "text": [
      " 60%|██████    | 300/500 [01:05<00:44,  4.50it/s]"
     ]
    },
    {
     "name": "stdout",
     "output_type": "stream",
     "text": [
      "Epoch 300/500 - Train Loss: 5.1849 - Val Loss: 11.4481\n",
      "\n"
     ]
    },
    {
     "name": "stderr",
     "output_type": "stream",
     "text": [
      " 64%|██████▍   | 320/500 [01:10<00:40,  4.48it/s]"
     ]
    },
    {
     "name": "stdout",
     "output_type": "stream",
     "text": [
      "Epoch 320/500 - Train Loss: 5.2702 - Val Loss: 11.5000\n",
      "\n"
     ]
    },
    {
     "name": "stderr",
     "output_type": "stream",
     "text": [
      " 68%|██████▊   | 340/500 [01:14<00:35,  4.49it/s]"
     ]
    },
    {
     "name": "stdout",
     "output_type": "stream",
     "text": [
      "Epoch 340/500 - Train Loss: 4.9322 - Val Loss: 11.4171\n",
      "\n"
     ]
    },
    {
     "name": "stderr",
     "output_type": "stream",
     "text": [
      " 72%|███████▏  | 360/500 [01:19<00:31,  4.50it/s]"
     ]
    },
    {
     "name": "stdout",
     "output_type": "stream",
     "text": [
      "Epoch 360/500 - Train Loss: 5.2220 - Val Loss: 11.4953\n",
      "\n"
     ]
    },
    {
     "name": "stderr",
     "output_type": "stream",
     "text": [
      " 76%|███████▌  | 380/500 [01:23<00:26,  4.51it/s]"
     ]
    },
    {
     "name": "stdout",
     "output_type": "stream",
     "text": [
      "Epoch 380/500 - Train Loss: 4.6183 - Val Loss: 11.1647\n",
      "\n"
     ]
    },
    {
     "name": "stderr",
     "output_type": "stream",
     "text": [
      " 80%|████████  | 400/500 [01:28<00:22,  4.49it/s]"
     ]
    },
    {
     "name": "stdout",
     "output_type": "stream",
     "text": [
      "Epoch 400/500 - Train Loss: 5.1151 - Val Loss: 11.3828\n",
      "\n"
     ]
    },
    {
     "name": "stderr",
     "output_type": "stream",
     "text": [
      " 84%|████████▍ | 420/500 [01:32<00:17,  4.49it/s]"
     ]
    },
    {
     "name": "stdout",
     "output_type": "stream",
     "text": [
      "Epoch 420/500 - Train Loss: 4.9643 - Val Loss: 11.4208\n",
      "\n"
     ]
    },
    {
     "name": "stderr",
     "output_type": "stream",
     "text": [
      " 88%|████████▊ | 440/500 [01:37<00:13,  4.50it/s]"
     ]
    },
    {
     "name": "stdout",
     "output_type": "stream",
     "text": [
      "Epoch 440/500 - Train Loss: 4.9925 - Val Loss: 12.1590\n",
      "\n"
     ]
    },
    {
     "name": "stderr",
     "output_type": "stream",
     "text": [
      " 92%|█████████▏| 460/500 [01:41<00:08,  4.51it/s]"
     ]
    },
    {
     "name": "stdout",
     "output_type": "stream",
     "text": [
      "Epoch 460/500 - Train Loss: 4.7204 - Val Loss: 11.5570\n",
      "\n"
     ]
    },
    {
     "name": "stderr",
     "output_type": "stream",
     "text": [
      " 96%|█████████▌| 480/500 [01:45<00:04,  4.49it/s]"
     ]
    },
    {
     "name": "stdout",
     "output_type": "stream",
     "text": [
      "Epoch 480/500 - Train Loss: 5.1708 - Val Loss: 11.8302\n",
      "\n"
     ]
    },
    {
     "name": "stderr",
     "output_type": "stream",
     "text": [
      "100%|██████████| 500/500 [01:50<00:00,  4.53it/s]\n"
     ]
    },
    {
     "name": "stdout",
     "output_type": "stream",
     "text": [
      "Epoch 500/500 - Train Loss: 4.9459 - Val Loss: 11.7085\n",
      "\n"
     ]
    },
    {
     "name": "stderr",
     "output_type": "stream",
     "text": [
      "  4%|▍         | 20/500 [00:04<01:46,  4.49it/s]"
     ]
    },
    {
     "name": "stdout",
     "output_type": "stream",
     "text": [
      "Epoch 20/500 - Train Loss: 7.1313 - Val Loss: 7.4063\n",
      "\n"
     ]
    },
    {
     "name": "stderr",
     "output_type": "stream",
     "text": [
      "  8%|▊         | 40/500 [00:08<01:42,  4.50it/s]"
     ]
    },
    {
     "name": "stdout",
     "output_type": "stream",
     "text": [
      "Epoch 40/500 - Train Loss: 6.8374 - Val Loss: 7.4198\n",
      "\n"
     ]
    },
    {
     "name": "stderr",
     "output_type": "stream",
     "text": [
      " 12%|█▏        | 60/500 [00:13<01:37,  4.53it/s]"
     ]
    },
    {
     "name": "stdout",
     "output_type": "stream",
     "text": [
      "Epoch 60/500 - Train Loss: 6.3160 - Val Loss: 7.3092\n",
      "\n"
     ]
    },
    {
     "name": "stderr",
     "output_type": "stream",
     "text": [
      " 16%|█▌        | 80/500 [00:17<01:32,  4.53it/s]"
     ]
    },
    {
     "name": "stdout",
     "output_type": "stream",
     "text": [
      "Epoch 80/500 - Train Loss: 6.7338 - Val Loss: 7.7136\n",
      "\n"
     ]
    },
    {
     "name": "stderr",
     "output_type": "stream",
     "text": [
      " 20%|██        | 100/500 [00:22<01:28,  4.51it/s]"
     ]
    },
    {
     "name": "stdout",
     "output_type": "stream",
     "text": [
      "Epoch 100/500 - Train Loss: 6.2553 - Val Loss: 7.4122\n",
      "\n"
     ]
    },
    {
     "name": "stderr",
     "output_type": "stream",
     "text": [
      " 24%|██▍       | 120/500 [00:26<01:24,  4.52it/s]"
     ]
    },
    {
     "name": "stdout",
     "output_type": "stream",
     "text": [
      "Epoch 120/500 - Train Loss: 6.4093 - Val Loss: 7.8241\n",
      "\n"
     ]
    },
    {
     "name": "stderr",
     "output_type": "stream",
     "text": [
      " 28%|██▊       | 140/500 [00:31<01:19,  4.51it/s]"
     ]
    },
    {
     "name": "stdout",
     "output_type": "stream",
     "text": [
      "Epoch 140/500 - Train Loss: 5.6184 - Val Loss: 7.3314\n",
      "\n"
     ]
    },
    {
     "name": "stderr",
     "output_type": "stream",
     "text": [
      " 32%|███▏      | 160/500 [00:35<01:15,  4.53it/s]"
     ]
    },
    {
     "name": "stdout",
     "output_type": "stream",
     "text": [
      "Epoch 160/500 - Train Loss: 5.9069 - Val Loss: 7.9450\n",
      "\n"
     ]
    },
    {
     "name": "stderr",
     "output_type": "stream",
     "text": [
      " 36%|███▌      | 180/500 [00:39<01:10,  4.51it/s]"
     ]
    },
    {
     "name": "stdout",
     "output_type": "stream",
     "text": [
      "Epoch 180/500 - Train Loss: 6.3001 - Val Loss: 7.0514\n",
      "\n"
     ]
    },
    {
     "name": "stderr",
     "output_type": "stream",
     "text": [
      " 40%|████      | 200/500 [00:44<01:06,  4.49it/s]"
     ]
    },
    {
     "name": "stdout",
     "output_type": "stream",
     "text": [
      "Epoch 200/500 - Train Loss: 6.0498 - Val Loss: 7.3819\n",
      "\n"
     ]
    },
    {
     "name": "stderr",
     "output_type": "stream",
     "text": [
      " 44%|████▍     | 220/500 [00:48<01:02,  4.50it/s]"
     ]
    },
    {
     "name": "stdout",
     "output_type": "stream",
     "text": [
      "Epoch 220/500 - Train Loss: 5.9446 - Val Loss: 7.9123\n",
      "\n"
     ]
    },
    {
     "name": "stderr",
     "output_type": "stream",
     "text": [
      " 48%|████▊     | 240/500 [00:53<00:58,  4.47it/s]"
     ]
    },
    {
     "name": "stdout",
     "output_type": "stream",
     "text": [
      "Epoch 240/500 - Train Loss: 6.1590 - Val Loss: 9.1796\n",
      "\n"
     ]
    },
    {
     "name": "stderr",
     "output_type": "stream",
     "text": [
      " 52%|█████▏    | 260/500 [00:57<00:53,  4.49it/s]"
     ]
    },
    {
     "name": "stdout",
     "output_type": "stream",
     "text": [
      "Epoch 260/500 - Train Loss: 6.0157 - Val Loss: 7.9657\n",
      "\n"
     ]
    },
    {
     "name": "stderr",
     "output_type": "stream",
     "text": [
      " 56%|█████▌    | 280/500 [01:02<00:48,  4.50it/s]"
     ]
    },
    {
     "name": "stdout",
     "output_type": "stream",
     "text": [
      "Epoch 280/500 - Train Loss: 6.1839 - Val Loss: 9.0609\n",
      "\n"
     ]
    },
    {
     "name": "stderr",
     "output_type": "stream",
     "text": [
      " 60%|██████    | 300/500 [01:06<00:44,  4.50it/s]"
     ]
    },
    {
     "name": "stdout",
     "output_type": "stream",
     "text": [
      "Epoch 300/500 - Train Loss: 6.3756 - Val Loss: 7.7007\n",
      "\n"
     ]
    },
    {
     "name": "stderr",
     "output_type": "stream",
     "text": [
      " 64%|██████▍   | 320/500 [01:11<00:40,  4.47it/s]"
     ]
    },
    {
     "name": "stdout",
     "output_type": "stream",
     "text": [
      "Epoch 320/500 - Train Loss: 5.9242 - Val Loss: 8.7054\n",
      "\n"
     ]
    },
    {
     "name": "stderr",
     "output_type": "stream",
     "text": [
      " 68%|██████▊   | 340/500 [01:15<00:35,  4.51it/s]"
     ]
    },
    {
     "name": "stdout",
     "output_type": "stream",
     "text": [
      "Epoch 340/500 - Train Loss: 5.6783 - Val Loss: 8.1376\n",
      "\n"
     ]
    },
    {
     "name": "stderr",
     "output_type": "stream",
     "text": [
      " 72%|███████▏  | 360/500 [01:19<00:31,  4.49it/s]"
     ]
    },
    {
     "name": "stdout",
     "output_type": "stream",
     "text": [
      "Epoch 360/500 - Train Loss: 6.0476 - Val Loss: 7.9634\n",
      "\n"
     ]
    },
    {
     "name": "stderr",
     "output_type": "stream",
     "text": [
      " 76%|███████▌  | 380/500 [01:24<00:26,  4.48it/s]"
     ]
    },
    {
     "name": "stdout",
     "output_type": "stream",
     "text": [
      "Epoch 380/500 - Train Loss: 6.3894 - Val Loss: 8.8588\n",
      "\n"
     ]
    },
    {
     "name": "stderr",
     "output_type": "stream",
     "text": [
      " 80%|████████  | 400/500 [01:28<00:22,  4.51it/s]"
     ]
    },
    {
     "name": "stdout",
     "output_type": "stream",
     "text": [
      "Epoch 400/500 - Train Loss: 5.3840 - Val Loss: 9.1227\n",
      "\n"
     ]
    },
    {
     "name": "stderr",
     "output_type": "stream",
     "text": [
      " 84%|████████▍ | 420/500 [01:33<00:18,  4.35it/s]"
     ]
    },
    {
     "name": "stdout",
     "output_type": "stream",
     "text": [
      "Epoch 420/500 - Train Loss: 5.1787 - Val Loss: 7.8648\n",
      "\n"
     ]
    },
    {
     "name": "stderr",
     "output_type": "stream",
     "text": [
      " 88%|████████▊ | 440/500 [01:38<00:14,  4.07it/s]"
     ]
    },
    {
     "name": "stdout",
     "output_type": "stream",
     "text": [
      "Epoch 440/500 - Train Loss: 5.5351 - Val Loss: 7.9512\n",
      "\n"
     ]
    },
    {
     "name": "stderr",
     "output_type": "stream",
     "text": [
      " 92%|█████████▏| 460/500 [01:43<00:10,  3.98it/s]"
     ]
    },
    {
     "name": "stdout",
     "output_type": "stream",
     "text": [
      "Epoch 460/500 - Train Loss: 5.2715 - Val Loss: 9.1008\n",
      "\n"
     ]
    },
    {
     "name": "stderr",
     "output_type": "stream",
     "text": [
      " 96%|█████████▌| 480/500 [01:48<00:04,  4.08it/s]"
     ]
    },
    {
     "name": "stdout",
     "output_type": "stream",
     "text": [
      "Epoch 480/500 - Train Loss: 5.7945 - Val Loss: 7.7730\n",
      "\n"
     ]
    },
    {
     "name": "stderr",
     "output_type": "stream",
     "text": [
      "100%|██████████| 500/500 [01:52<00:00,  4.43it/s]\n"
     ]
    },
    {
     "name": "stdout",
     "output_type": "stream",
     "text": [
      "Epoch 500/500 - Train Loss: 5.5174 - Val Loss: 8.5649\n",
      "\n"
     ]
    },
    {
     "name": "stderr",
     "output_type": "stream",
     "text": [
      "  4%|▍         | 20/500 [00:05<01:59,  4.02it/s]"
     ]
    },
    {
     "name": "stdout",
     "output_type": "stream",
     "text": [
      "Epoch 20/500 - Train Loss: 7.4825 - Val Loss: 6.0558\n",
      "\n"
     ]
    },
    {
     "name": "stderr",
     "output_type": "stream",
     "text": [
      "  8%|▊         | 40/500 [00:09<01:54,  4.02it/s]"
     ]
    },
    {
     "name": "stdout",
     "output_type": "stream",
     "text": [
      "Epoch 40/500 - Train Loss: 6.9931 - Val Loss: 5.0643\n",
      "\n"
     ]
    },
    {
     "name": "stderr",
     "output_type": "stream",
     "text": [
      " 12%|█▏        | 60/500 [00:14<01:50,  3.98it/s]"
     ]
    },
    {
     "name": "stdout",
     "output_type": "stream",
     "text": [
      "Epoch 60/500 - Train Loss: 6.5367 - Val Loss: 4.7058\n",
      "\n"
     ]
    },
    {
     "name": "stderr",
     "output_type": "stream",
     "text": [
      " 16%|█▌        | 80/500 [00:19<01:44,  4.03it/s]"
     ]
    },
    {
     "name": "stdout",
     "output_type": "stream",
     "text": [
      "Epoch 80/500 - Train Loss: 6.5340 - Val Loss: 5.7325\n",
      "\n"
     ]
    },
    {
     "name": "stderr",
     "output_type": "stream",
     "text": [
      " 20%|██        | 100/500 [00:24<01:29,  4.46it/s]"
     ]
    },
    {
     "name": "stdout",
     "output_type": "stream",
     "text": [
      "Epoch 100/500 - Train Loss: 6.4776 - Val Loss: 8.1316\n",
      "\n"
     ]
    },
    {
     "name": "stderr",
     "output_type": "stream",
     "text": [
      " 24%|██▍       | 120/500 [00:29<01:23,  4.54it/s]"
     ]
    },
    {
     "name": "stdout",
     "output_type": "stream",
     "text": [
      "Epoch 120/500 - Train Loss: 6.1413 - Val Loss: 4.8177\n",
      "\n"
     ]
    },
    {
     "name": "stderr",
     "output_type": "stream",
     "text": [
      " 28%|██▊       | 140/500 [00:33<01:19,  4.54it/s]"
     ]
    },
    {
     "name": "stdout",
     "output_type": "stream",
     "text": [
      "Epoch 140/500 - Train Loss: 6.0171 - Val Loss: 6.4207\n",
      "\n"
     ]
    },
    {
     "name": "stderr",
     "output_type": "stream",
     "text": [
      " 32%|███▏      | 160/500 [00:37<01:14,  4.54it/s]"
     ]
    },
    {
     "name": "stdout",
     "output_type": "stream",
     "text": [
      "Epoch 160/500 - Train Loss: 6.5250 - Val Loss: 7.1291\n",
      "\n"
     ]
    },
    {
     "name": "stderr",
     "output_type": "stream",
     "text": [
      " 36%|███▌      | 180/500 [00:42<01:10,  4.54it/s]"
     ]
    },
    {
     "name": "stdout",
     "output_type": "stream",
     "text": [
      "Epoch 180/500 - Train Loss: 6.0360 - Val Loss: 5.6544\n",
      "\n"
     ]
    },
    {
     "name": "stderr",
     "output_type": "stream",
     "text": [
      " 40%|████      | 200/500 [00:46<01:06,  4.54it/s]"
     ]
    },
    {
     "name": "stdout",
     "output_type": "stream",
     "text": [
      "Epoch 200/500 - Train Loss: 6.0248 - Val Loss: 7.5446\n",
      "\n"
     ]
    },
    {
     "name": "stderr",
     "output_type": "stream",
     "text": [
      " 44%|████▍     | 220/500 [00:51<01:01,  4.56it/s]"
     ]
    },
    {
     "name": "stdout",
     "output_type": "stream",
     "text": [
      "Epoch 220/500 - Train Loss: 6.0598 - Val Loss: 7.5569\n",
      "\n"
     ]
    },
    {
     "name": "stderr",
     "output_type": "stream",
     "text": [
      " 48%|████▊     | 240/500 [00:55<00:57,  4.53it/s]"
     ]
    },
    {
     "name": "stdout",
     "output_type": "stream",
     "text": [
      "Epoch 240/500 - Train Loss: 5.8670 - Val Loss: 7.6064\n",
      "\n"
     ]
    },
    {
     "name": "stderr",
     "output_type": "stream",
     "text": [
      " 52%|█████▏    | 260/500 [00:59<00:53,  4.53it/s]"
     ]
    },
    {
     "name": "stdout",
     "output_type": "stream",
     "text": [
      "Epoch 260/500 - Train Loss: 6.0760 - Val Loss: 6.4991\n",
      "\n"
     ]
    },
    {
     "name": "stderr",
     "output_type": "stream",
     "text": [
      " 56%|█████▌    | 280/500 [01:04<00:48,  4.57it/s]"
     ]
    },
    {
     "name": "stdout",
     "output_type": "stream",
     "text": [
      "Epoch 280/500 - Train Loss: 5.7885 - Val Loss: 7.5949\n",
      "\n"
     ]
    },
    {
     "name": "stderr",
     "output_type": "stream",
     "text": [
      " 60%|██████    | 300/500 [01:08<00:44,  4.53it/s]"
     ]
    },
    {
     "name": "stdout",
     "output_type": "stream",
     "text": [
      "Epoch 300/500 - Train Loss: 5.9392 - Val Loss: 7.9036\n",
      "\n"
     ]
    },
    {
     "name": "stderr",
     "output_type": "stream",
     "text": [
      " 64%|██████▍   | 320/500 [01:13<00:39,  4.55it/s]"
     ]
    },
    {
     "name": "stdout",
     "output_type": "stream",
     "text": [
      "Epoch 320/500 - Train Loss: 6.2737 - Val Loss: 5.8851\n",
      "\n"
     ]
    },
    {
     "name": "stderr",
     "output_type": "stream",
     "text": [
      " 68%|██████▊   | 340/500 [01:17<00:35,  4.54it/s]"
     ]
    },
    {
     "name": "stdout",
     "output_type": "stream",
     "text": [
      "Epoch 340/500 - Train Loss: 6.1995 - Val Loss: 6.2325\n",
      "\n"
     ]
    },
    {
     "name": "stderr",
     "output_type": "stream",
     "text": [
      " 72%|███████▏  | 360/500 [01:21<00:30,  4.52it/s]"
     ]
    },
    {
     "name": "stdout",
     "output_type": "stream",
     "text": [
      "Epoch 360/500 - Train Loss: 6.1969 - Val Loss: 6.4805\n",
      "\n"
     ]
    },
    {
     "name": "stderr",
     "output_type": "stream",
     "text": [
      " 76%|███████▌  | 380/500 [01:26<00:26,  4.57it/s]"
     ]
    },
    {
     "name": "stdout",
     "output_type": "stream",
     "text": [
      "Epoch 380/500 - Train Loss: 6.2558 - Val Loss: 7.7446\n",
      "\n"
     ]
    },
    {
     "name": "stderr",
     "output_type": "stream",
     "text": [
      " 80%|████████  | 400/500 [01:30<00:22,  4.53it/s]"
     ]
    },
    {
     "name": "stdout",
     "output_type": "stream",
     "text": [
      "Epoch 400/500 - Train Loss: 5.7126 - Val Loss: 7.6664\n",
      "\n"
     ]
    },
    {
     "name": "stderr",
     "output_type": "stream",
     "text": [
      " 84%|████████▍ | 420/500 [01:35<00:17,  4.54it/s]"
     ]
    },
    {
     "name": "stdout",
     "output_type": "stream",
     "text": [
      "Epoch 420/500 - Train Loss: 6.0938 - Val Loss: 5.6523\n",
      "\n"
     ]
    },
    {
     "name": "stderr",
     "output_type": "stream",
     "text": [
      " 88%|████████▊ | 440/500 [01:39<00:13,  4.57it/s]"
     ]
    },
    {
     "name": "stdout",
     "output_type": "stream",
     "text": [
      "Epoch 440/500 - Train Loss: 5.5606 - Val Loss: 6.2038\n",
      "\n"
     ]
    },
    {
     "name": "stderr",
     "output_type": "stream",
     "text": [
      " 92%|█████████▏| 460/500 [01:43<00:08,  4.54it/s]"
     ]
    },
    {
     "name": "stdout",
     "output_type": "stream",
     "text": [
      "Epoch 460/500 - Train Loss: 5.9605 - Val Loss: 6.4663\n",
      "\n"
     ]
    },
    {
     "name": "stderr",
     "output_type": "stream",
     "text": [
      " 96%|█████████▌| 480/500 [01:48<00:04,  4.55it/s]"
     ]
    },
    {
     "name": "stdout",
     "output_type": "stream",
     "text": [
      "Epoch 480/500 - Train Loss: 5.9085 - Val Loss: 6.8357\n",
      "\n"
     ]
    },
    {
     "name": "stderr",
     "output_type": "stream",
     "text": [
      "100%|██████████| 500/500 [01:52<00:00,  4.43it/s]\n"
     ]
    },
    {
     "name": "stdout",
     "output_type": "stream",
     "text": [
      "Epoch 500/500 - Train Loss: 5.8417 - Val Loss: 6.6281\n",
      "\n"
     ]
    },
    {
     "name": "stderr",
     "output_type": "stream",
     "text": [
      "  4%|▍         | 20/500 [00:04<01:45,  4.54it/s]"
     ]
    },
    {
     "name": "stdout",
     "output_type": "stream",
     "text": [
      "Epoch 20/500 - Train Loss: 7.5317 - Val Loss: 5.7427\n",
      "\n"
     ]
    },
    {
     "name": "stderr",
     "output_type": "stream",
     "text": [
      "  8%|▊         | 40/500 [00:08<01:40,  4.56it/s]"
     ]
    },
    {
     "name": "stdout",
     "output_type": "stream",
     "text": [
      "Epoch 40/500 - Train Loss: 7.1484 - Val Loss: 5.8731\n",
      "\n"
     ]
    },
    {
     "name": "stderr",
     "output_type": "stream",
     "text": [
      " 12%|█▏        | 60/500 [00:13<01:36,  4.54it/s]"
     ]
    },
    {
     "name": "stdout",
     "output_type": "stream",
     "text": [
      "Epoch 60/500 - Train Loss: 7.1749 - Val Loss: 6.4256\n",
      "\n"
     ]
    },
    {
     "name": "stderr",
     "output_type": "stream",
     "text": [
      " 16%|█▌        | 80/500 [00:17<01:32,  4.53it/s]"
     ]
    },
    {
     "name": "stdout",
     "output_type": "stream",
     "text": [
      "Epoch 80/500 - Train Loss: 6.4819 - Val Loss: 6.5603\n",
      "\n"
     ]
    },
    {
     "name": "stderr",
     "output_type": "stream",
     "text": [
      " 20%|██        | 100/500 [00:22<01:28,  4.53it/s]"
     ]
    },
    {
     "name": "stdout",
     "output_type": "stream",
     "text": [
      "Epoch 100/500 - Train Loss: 6.1276 - Val Loss: 8.2616\n",
      "\n"
     ]
    },
    {
     "name": "stderr",
     "output_type": "stream",
     "text": [
      " 24%|██▍       | 120/500 [00:26<01:23,  4.53it/s]"
     ]
    },
    {
     "name": "stdout",
     "output_type": "stream",
     "text": [
      "Epoch 120/500 - Train Loss: 5.9045 - Val Loss: 9.1812\n",
      "\n"
     ]
    },
    {
     "name": "stderr",
     "output_type": "stream",
     "text": [
      " 28%|██▊       | 140/500 [00:30<01:19,  4.55it/s]"
     ]
    },
    {
     "name": "stdout",
     "output_type": "stream",
     "text": [
      "Epoch 140/500 - Train Loss: 6.4624 - Val Loss: 8.0681\n",
      "\n"
     ]
    },
    {
     "name": "stderr",
     "output_type": "stream",
     "text": [
      " 32%|███▏      | 160/500 [00:35<01:15,  4.52it/s]"
     ]
    },
    {
     "name": "stdout",
     "output_type": "stream",
     "text": [
      "Epoch 160/500 - Train Loss: 6.3506 - Val Loss: 11.3812\n",
      "\n"
     ]
    },
    {
     "name": "stderr",
     "output_type": "stream",
     "text": [
      " 36%|███▌      | 180/500 [00:39<01:10,  4.54it/s]"
     ]
    },
    {
     "name": "stdout",
     "output_type": "stream",
     "text": [
      "Epoch 180/500 - Train Loss: 5.7298 - Val Loss: 8.0571\n",
      "\n"
     ]
    },
    {
     "name": "stderr",
     "output_type": "stream",
     "text": [
      " 40%|████      | 200/500 [00:44<01:06,  4.54it/s]"
     ]
    },
    {
     "name": "stdout",
     "output_type": "stream",
     "text": [
      "Epoch 200/500 - Train Loss: 5.6387 - Val Loss: 8.8667\n",
      "\n"
     ]
    },
    {
     "name": "stderr",
     "output_type": "stream",
     "text": [
      " 44%|████▍     | 220/500 [00:48<01:01,  4.56it/s]"
     ]
    },
    {
     "name": "stdout",
     "output_type": "stream",
     "text": [
      "Epoch 220/500 - Train Loss: 5.7126 - Val Loss: 8.9034\n",
      "\n"
     ]
    },
    {
     "name": "stderr",
     "output_type": "stream",
     "text": [
      " 48%|████▊     | 240/500 [00:52<00:57,  4.55it/s]"
     ]
    },
    {
     "name": "stdout",
     "output_type": "stream",
     "text": [
      "Epoch 240/500 - Train Loss: 6.0347 - Val Loss: 9.3005\n",
      "\n"
     ]
    },
    {
     "name": "stderr",
     "output_type": "stream",
     "text": [
      " 52%|█████▏    | 260/500 [00:57<00:52,  4.56it/s]"
     ]
    },
    {
     "name": "stdout",
     "output_type": "stream",
     "text": [
      "Epoch 260/500 - Train Loss: 5.4680 - Val Loss: 7.4644\n",
      "\n"
     ]
    },
    {
     "name": "stderr",
     "output_type": "stream",
     "text": [
      " 56%|█████▌    | 280/500 [01:01<00:48,  4.54it/s]"
     ]
    },
    {
     "name": "stdout",
     "output_type": "stream",
     "text": [
      "Epoch 280/500 - Train Loss: 5.8504 - Val Loss: 8.2088\n",
      "\n"
     ]
    },
    {
     "name": "stderr",
     "output_type": "stream",
     "text": [
      " 60%|██████    | 300/500 [01:05<00:43,  4.58it/s]"
     ]
    },
    {
     "name": "stdout",
     "output_type": "stream",
     "text": [
      "Epoch 300/500 - Train Loss: 5.7526 - Val Loss: 12.6968\n",
      "\n"
     ]
    },
    {
     "name": "stderr",
     "output_type": "stream",
     "text": [
      " 64%|██████▍   | 320/500 [01:10<00:38,  4.70it/s]"
     ]
    },
    {
     "name": "stdout",
     "output_type": "stream",
     "text": [
      "Epoch 320/500 - Train Loss: 5.3830 - Val Loss: 8.2768\n",
      "\n"
     ]
    },
    {
     "name": "stderr",
     "output_type": "stream",
     "text": [
      " 68%|██████▊   | 340/500 [01:15<00:39,  4.02it/s]"
     ]
    },
    {
     "name": "stdout",
     "output_type": "stream",
     "text": [
      "Epoch 340/500 - Train Loss: 5.4531 - Val Loss: 9.6851\n",
      "\n"
     ]
    },
    {
     "name": "stderr",
     "output_type": "stream",
     "text": [
      " 72%|███████▏  | 360/500 [01:19<00:30,  4.55it/s]"
     ]
    },
    {
     "name": "stdout",
     "output_type": "stream",
     "text": [
      "Epoch 360/500 - Train Loss: 6.0820 - Val Loss: 9.6060\n",
      "\n"
     ]
    },
    {
     "name": "stderr",
     "output_type": "stream",
     "text": [
      " 76%|███████▌  | 380/500 [01:23<00:26,  4.59it/s]"
     ]
    },
    {
     "name": "stdout",
     "output_type": "stream",
     "text": [
      "Epoch 380/500 - Train Loss: 5.2244 - Val Loss: 12.2424\n",
      "\n"
     ]
    },
    {
     "name": "stderr",
     "output_type": "stream",
     "text": [
      " 80%|████████  | 400/500 [01:28<00:21,  4.64it/s]"
     ]
    },
    {
     "name": "stdout",
     "output_type": "stream",
     "text": [
      "Epoch 400/500 - Train Loss: 5.7268 - Val Loss: 8.2060\n",
      "\n"
     ]
    },
    {
     "name": "stderr",
     "output_type": "stream",
     "text": [
      " 84%|████████▍ | 420/500 [01:32<00:16,  4.72it/s]"
     ]
    },
    {
     "name": "stdout",
     "output_type": "stream",
     "text": [
      "Epoch 420/500 - Train Loss: 5.1644 - Val Loss: 8.1613\n",
      "\n"
     ]
    },
    {
     "name": "stderr",
     "output_type": "stream",
     "text": [
      " 88%|████████▊ | 440/500 [01:36<00:12,  4.63it/s]"
     ]
    },
    {
     "name": "stdout",
     "output_type": "stream",
     "text": [
      "Epoch 440/500 - Train Loss: 5.4980 - Val Loss: 9.5244\n",
      "\n"
     ]
    },
    {
     "name": "stderr",
     "output_type": "stream",
     "text": [
      " 92%|█████████▏| 460/500 [01:41<00:08,  4.66it/s]"
     ]
    },
    {
     "name": "stdout",
     "output_type": "stream",
     "text": [
      "Epoch 460/500 - Train Loss: 5.8926 - Val Loss: 11.4152\n",
      "\n"
     ]
    },
    {
     "name": "stderr",
     "output_type": "stream",
     "text": [
      " 96%|█████████▌| 480/500 [01:45<00:04,  4.61it/s]"
     ]
    },
    {
     "name": "stdout",
     "output_type": "stream",
     "text": [
      "Epoch 480/500 - Train Loss: 5.1657 - Val Loss: 7.8880\n",
      "\n"
     ]
    },
    {
     "name": "stderr",
     "output_type": "stream",
     "text": [
      "100%|██████████| 500/500 [01:49<00:00,  4.56it/s]\n"
     ]
    },
    {
     "name": "stdout",
     "output_type": "stream",
     "text": [
      "Epoch 500/500 - Train Loss: 4.0025 - Val Loss: 10.4363\n",
      "\n"
     ]
    },
    {
     "name": "stderr",
     "output_type": "stream",
     "text": [
      "  4%|▍         | 20/500 [00:04<01:42,  4.67it/s]"
     ]
    },
    {
     "name": "stdout",
     "output_type": "stream",
     "text": [
      "Epoch 20/500 - Train Loss: 7.4355 - Val Loss: 6.1045\n",
      "\n"
     ]
    },
    {
     "name": "stderr",
     "output_type": "stream",
     "text": [
      "  8%|▊         | 40/500 [00:08<01:39,  4.63it/s]"
     ]
    },
    {
     "name": "stdout",
     "output_type": "stream",
     "text": [
      "Epoch 40/500 - Train Loss: 6.9936 - Val Loss: 5.3580\n",
      "\n"
     ]
    },
    {
     "name": "stderr",
     "output_type": "stream",
     "text": [
      " 12%|█▏        | 60/500 [00:12<01:34,  4.65it/s]"
     ]
    },
    {
     "name": "stdout",
     "output_type": "stream",
     "text": [
      "Epoch 60/500 - Train Loss: 7.3149 - Val Loss: 5.7769\n",
      "\n"
     ]
    },
    {
     "name": "stderr",
     "output_type": "stream",
     "text": [
      " 16%|█▌        | 80/500 [00:17<01:30,  4.63it/s]"
     ]
    },
    {
     "name": "stdout",
     "output_type": "stream",
     "text": [
      "Epoch 80/500 - Train Loss: 6.8148 - Val Loss: 6.3956\n",
      "\n"
     ]
    },
    {
     "name": "stderr",
     "output_type": "stream",
     "text": [
      " 20%|██        | 100/500 [00:21<01:26,  4.64it/s]"
     ]
    },
    {
     "name": "stdout",
     "output_type": "stream",
     "text": [
      "Epoch 100/500 - Train Loss: 7.0445 - Val Loss: 7.9261\n",
      "\n"
     ]
    },
    {
     "name": "stderr",
     "output_type": "stream",
     "text": [
      " 24%|██▍       | 120/500 [00:25<01:22,  4.62it/s]"
     ]
    },
    {
     "name": "stdout",
     "output_type": "stream",
     "text": [
      "Epoch 120/500 - Train Loss: 6.0657 - Val Loss: 7.0850\n",
      "\n"
     ]
    },
    {
     "name": "stderr",
     "output_type": "stream",
     "text": [
      " 28%|██▊       | 140/500 [00:30<01:18,  4.58it/s]"
     ]
    },
    {
     "name": "stdout",
     "output_type": "stream",
     "text": [
      "Epoch 140/500 - Train Loss: 6.6905 - Val Loss: 7.1615\n",
      "\n"
     ]
    },
    {
     "name": "stderr",
     "output_type": "stream",
     "text": [
      " 32%|███▏      | 160/500 [00:34<01:12,  4.66it/s]"
     ]
    },
    {
     "name": "stdout",
     "output_type": "stream",
     "text": [
      "Epoch 160/500 - Train Loss: 6.3069 - Val Loss: 6.8960\n",
      "\n"
     ]
    },
    {
     "name": "stderr",
     "output_type": "stream",
     "text": [
      " 36%|███▌      | 180/500 [00:38<01:08,  4.65it/s]"
     ]
    },
    {
     "name": "stdout",
     "output_type": "stream",
     "text": [
      "Epoch 180/500 - Train Loss: 5.9237 - Val Loss: 5.9710\n",
      "\n"
     ]
    },
    {
     "name": "stderr",
     "output_type": "stream",
     "text": [
      " 40%|████      | 200/500 [00:43<01:03,  4.70it/s]"
     ]
    },
    {
     "name": "stdout",
     "output_type": "stream",
     "text": [
      "Epoch 200/500 - Train Loss: 5.6789 - Val Loss: 6.1874\n",
      "\n"
     ]
    },
    {
     "name": "stderr",
     "output_type": "stream",
     "text": [
      " 44%|████▍     | 220/500 [00:47<00:59,  4.70it/s]"
     ]
    },
    {
     "name": "stdout",
     "output_type": "stream",
     "text": [
      "Epoch 220/500 - Train Loss: 5.7386 - Val Loss: 6.8231\n",
      "\n"
     ]
    },
    {
     "name": "stderr",
     "output_type": "stream",
     "text": [
      " 48%|████▊     | 240/500 [00:51<00:55,  4.67it/s]"
     ]
    },
    {
     "name": "stdout",
     "output_type": "stream",
     "text": [
      "Epoch 240/500 - Train Loss: 5.8666 - Val Loss: 5.7016\n",
      "\n"
     ]
    },
    {
     "name": "stderr",
     "output_type": "stream",
     "text": [
      " 52%|█████▏    | 260/500 [00:55<00:50,  4.76it/s]"
     ]
    },
    {
     "name": "stdout",
     "output_type": "stream",
     "text": [
      "Epoch 260/500 - Train Loss: 5.5018 - Val Loss: 5.9300\n",
      "\n"
     ]
    },
    {
     "name": "stderr",
     "output_type": "stream",
     "text": [
      " 56%|█████▌    | 280/500 [01:00<00:46,  4.75it/s]"
     ]
    },
    {
     "name": "stdout",
     "output_type": "stream",
     "text": [
      "Epoch 280/500 - Train Loss: 5.3982 - Val Loss: 8.6107\n",
      "\n"
     ]
    },
    {
     "name": "stderr",
     "output_type": "stream",
     "text": [
      " 60%|██████    | 300/500 [01:04<00:42,  4.70it/s]"
     ]
    },
    {
     "name": "stdout",
     "output_type": "stream",
     "text": [
      "Epoch 300/500 - Train Loss: 5.5383 - Val Loss: 8.5765\n",
      "\n"
     ]
    },
    {
     "name": "stderr",
     "output_type": "stream",
     "text": [
      " 64%|██████▍   | 320/500 [01:08<00:38,  4.68it/s]"
     ]
    },
    {
     "name": "stdout",
     "output_type": "stream",
     "text": [
      "Epoch 320/500 - Train Loss: 5.2135 - Val Loss: 7.6817\n",
      "\n"
     ]
    },
    {
     "name": "stderr",
     "output_type": "stream",
     "text": [
      " 68%|██████▊   | 340/500 [01:12<00:33,  4.71it/s]"
     ]
    },
    {
     "name": "stdout",
     "output_type": "stream",
     "text": [
      "Epoch 340/500 - Train Loss: 5.5145 - Val Loss: 9.3881\n",
      "\n"
     ]
    },
    {
     "name": "stderr",
     "output_type": "stream",
     "text": [
      " 72%|███████▏  | 360/500 [01:17<00:29,  4.72it/s]"
     ]
    },
    {
     "name": "stdout",
     "output_type": "stream",
     "text": [
      "Epoch 360/500 - Train Loss: 5.0749 - Val Loss: 6.0135\n",
      "\n"
     ]
    },
    {
     "name": "stderr",
     "output_type": "stream",
     "text": [
      " 76%|███████▌  | 380/500 [01:21<00:25,  4.70it/s]"
     ]
    },
    {
     "name": "stdout",
     "output_type": "stream",
     "text": [
      "Epoch 380/500 - Train Loss: 4.9859 - Val Loss: 8.8618\n",
      "\n"
     ]
    },
    {
     "name": "stderr",
     "output_type": "stream",
     "text": [
      " 80%|████████  | 400/500 [01:25<00:21,  4.69it/s]"
     ]
    },
    {
     "name": "stdout",
     "output_type": "stream",
     "text": [
      "Epoch 400/500 - Train Loss: 5.7856 - Val Loss: 7.7645\n",
      "\n"
     ]
    },
    {
     "name": "stderr",
     "output_type": "stream",
     "text": [
      " 84%|████████▍ | 420/500 [01:29<00:17,  4.65it/s]"
     ]
    },
    {
     "name": "stdout",
     "output_type": "stream",
     "text": [
      "Epoch 420/500 - Train Loss: 5.0672 - Val Loss: 6.5851\n",
      "\n"
     ]
    },
    {
     "name": "stderr",
     "output_type": "stream",
     "text": [
      " 88%|████████▊ | 440/500 [01:34<00:12,  4.65it/s]"
     ]
    },
    {
     "name": "stdout",
     "output_type": "stream",
     "text": [
      "Epoch 440/500 - Train Loss: 4.7485 - Val Loss: 10.2516\n",
      "\n"
     ]
    },
    {
     "name": "stderr",
     "output_type": "stream",
     "text": [
      " 92%|█████████▏| 460/500 [01:38<00:08,  4.67it/s]"
     ]
    },
    {
     "name": "stdout",
     "output_type": "stream",
     "text": [
      "Epoch 460/500 - Train Loss: 4.9950 - Val Loss: 7.9866\n",
      "\n"
     ]
    },
    {
     "name": "stderr",
     "output_type": "stream",
     "text": [
      " 96%|█████████▌| 480/500 [01:42<00:04,  4.63it/s]"
     ]
    },
    {
     "name": "stdout",
     "output_type": "stream",
     "text": [
      "Epoch 480/500 - Train Loss: 5.0925 - Val Loss: 9.5367\n",
      "\n"
     ]
    },
    {
     "name": "stderr",
     "output_type": "stream",
     "text": [
      "100%|██████████| 500/500 [01:46<00:00,  4.68it/s]"
     ]
    },
    {
     "name": "stdout",
     "output_type": "stream",
     "text": [
      "Epoch 500/500 - Train Loss: 4.6097 - Val Loss: 8.1343\n",
      "\n"
     ]
    },
    {
     "name": "stderr",
     "output_type": "stream",
     "text": [
      "\n"
     ]
    }
   ],
   "source": [
    "import sys\n",
    "sys.path.append('../')\n",
    "from models import VGAE, LatentMLP \n",
    "from utils import BrainGraphDataset, project_root, get_data_labels\n",
    "import torch\n",
    "import torch.nn as nn\n",
    "import torch.optim as optim\n",
    "import os\n",
    "from tqdm import tqdm\n",
    "import copy\n",
    "\n",
    "device = torch.device(\"cuda:0\" if torch.cuda.is_available() else \"cpu\")\n",
    "root = project_root()\n",
    "\n",
    "# instantiate the VGAE model\n",
    "lr = 0.001\n",
    "batch_size = 64\n",
    "\n",
    "nf = 1\n",
    "ef = 1\n",
    "num_nodes = 100\n",
    "hidden_dim = 128\n",
    "latent_size = 8\n",
    "\n",
    "criterion = nn.L1Loss(reduction='sum')\n",
    "\n",
    "\n",
    "categories = ['patient_n','condition','bdi_before']\n",
    "\n",
    "data_labels = get_data_labels()\n",
    "data_labels = data_labels[categories]\n",
    "\n",
    "annotations = 'annotations.csv'\n",
    "\n",
    "data_labels.loc[data_labels[\"condition\"] == \"P\", \"condition\"] = 1\n",
    "data_labels.loc[data_labels[\"condition\"] == \"E\", \"condition\"] = -1\n",
    "data_labels['condition'] = data_labels['condition'].astype('float64')\n",
    "\n",
    "dataroot = 'fc_matrices/psilo_schaefer_before/'\n",
    "\n",
    "dataset = BrainGraphDataset(img_dir=os.path.join(root, dataroot),\n",
    "                            annotations_file=os.path.join(root, annotations),\n",
    "                            transform=None, extra_data=data_labels, setting='lz')\n",
    "\n",
    "# Get the number of samples in the dataset\n",
    "num_samples = len(dataset)\n",
    "\n",
    "import torch\n",
    "from torch.utils.data import DataLoader\n",
    "from sklearn.model_selection import KFold\n",
    "\n",
    "# Assuming you have your dataset defined as 'dataset'\n",
    "num_folds = 5  # Specify the number of folds\n",
    "batch_size = 8  # Specify your desired batch size\n",
    "random_seed = 42  # Specify the random seed\n",
    "\n",
    "# Create indices for k-fold cross-validation with seeded random number generator\n",
    "kf = KFold(n_splits=num_folds, shuffle=True, random_state=random_seed)\n",
    "\n",
    "# Create empty lists to store train and validation loaders\n",
    "train_loaders = []\n",
    "val_loaders = []\n",
    "\n",
    "for train_index, val_index in kf.split(dataset):\n",
    "    # Split dataset into train and validation sets for the current fold\n",
    "    train_set = torch.utils.data.Subset(dataset, train_index)\n",
    "    val_set = torch.utils.data.Subset(dataset, val_index)\n",
    "\n",
    "    # Define the dataloaders for the current fold\n",
    "    train_loader = DataLoader(train_set, batch_size=batch_size, shuffle=True)\n",
    "    val_loader = DataLoader(val_set, batch_size=batch_size, shuffle=False)\n",
    "\n",
    "    # Append the loaders to the respective lists\n",
    "    train_loaders.append(train_loader)\n",
    "    val_loaders.append(val_loader)\n",
    "\n",
    "\n",
    "num_epochs = 500\n",
    "\n",
    "import json\n",
    "\n",
    "# Dictionary to store training and validation curves\n",
    "loss_curves = {}\n",
    "best_set = [0] * num_folds\n",
    "dropout_list = [0]\n",
    "\n",
    "for i, train_loader in enumerate(train_loaders):\n",
    "    val_loader = val_loaders[i]\n",
    "    for dropout in dropout_list:\n",
    "        \n",
    "        vgae = VGAE(1, 1, 100, 64, 4, device, dropout=0, l2_strength=0.001, use_nf=False).to(device)\n",
    "        # load the trained VGAE weights\n",
    "        vgae.load_state_dict(torch.load(os.path.join(root, 'vgae_weights/vgae_no_nf_schaefer.pt'), map_location=device))\n",
    "\n",
    "        # define the optimizer and the loss function\n",
    "\n",
    "\n",
    "        # Convert the model to the device\n",
    "        vgae.to(device)\n",
    "\n",
    "        \n",
    "        best_val_loss = float('inf')  # set to infinity to start\n",
    "        best_model_state = None\n",
    "        train_losses = []\n",
    "        val_losses = []\n",
    "\n",
    "        model = LatentMLP(64, 256, 1, dropout=dropout)\n",
    "        optimizer = optim.Adam(model.parameters(), lr=lr)\n",
    "\n",
    "        src, dest = vgae.edge_index\n",
    "\n",
    "        for epoch in tqdm(range(num_epochs)):\n",
    "            train_loss = 0.0\n",
    "            val_loss = 0.0\n",
    "\n",
    "            # training\n",
    "            model.train()\n",
    "            for batch_idx, ((graph, _, baseline_bdi), label) in enumerate(train_loader):\n",
    "                graph = graph.to(device)  # move data to device\n",
    "                label = label.to(device)\n",
    "                optimizer.zero_grad()\n",
    "\n",
    "                rcn_edges, z, _, _ = vgae(None, graph)\n",
    "                graph = graph[:, src, dest]\n",
    "\n",
    "                output_bdi = model(z.view(z.shape[0], -1), baseline_bdi)\n",
    "\n",
    "                l1_loss, l2_loss = model.loss(output_bdi, label.view(output_bdi.shape))\n",
    "                loss = l1_loss + l2_loss\n",
    "                loss.backward()\n",
    "                optimizer.step()\n",
    "                train_loss += loss.item()\n",
    "\n",
    "            # validation\n",
    "            model.eval()\n",
    "            val_label = []\n",
    "            val_output = []\n",
    "            val_base = []\n",
    "            with torch.no_grad():\n",
    "                for batch_idx, ((graph, _, baseline_bdi), label) in enumerate(val_loader):\n",
    "                    graph = graph.to(device)  # move data to device\n",
    "                    label = label.to(device)\n",
    "\n",
    "                    rcn_edges, z, _, _ = vgae(None, graph)\n",
    "                    graph = graph[:, src, dest]\n",
    "\n",
    "                    output_bdi = model(z.view(z.shape[0], -1), baseline_bdi)\n",
    "                    val_label.extend(label)\n",
    "                    val_output.extend(output_bdi)\n",
    "                    val_base.extend(baseline_bdi)\n",
    "                    \n",
    "                    l1_loss, l2_loss = model.loss(output_bdi, label.view(output_bdi.shape))\n",
    "                    loss = l1_loss + l2_loss\n",
    "                    val_loss += loss.item()\n",
    "            # append losses to lists\n",
    "            train_losses.append(train_loss/len(train_set))\n",
    "            val_losses.append(val_loss/len(val_set))\n",
    "\n",
    "            # save the model if the validation loss is at its minimum\n",
    "            if val_losses[-1] < best_val_loss:\n",
    "                best_val_loss = val_losses[-1]\n",
    "\n",
    "                best_model_state = (copy.deepcopy(vgae.state_dict()), copy.deepcopy(model.state_dict()))\n",
    "                best_set[i] = (val_label, val_output, val_base)\n",
    "            # print the losses\n",
    "            with open('dropout_train.txt', 'a') as f:\n",
    "                if (epoch + 1) % 20 == 0:\n",
    "                    print(f'Epoch {epoch+1}/{num_epochs} - Train Loss: {train_losses[-1]:.4f} - Val Loss: {val_losses[-1]:.4f}\\n')\n",
    "                f.write(f'Epoch {epoch+1}/{num_epochs} - Train Loss: {train_losses[-1]:.4f} - Val Loss: {val_losses[-1]:.4f}\\n')\n",
    "\n",
    "#         # save the best model for this configuration\n",
    "#         torch.save(best_model_state[1], os.path.join(root, f'mlp_weights/vgae_model_weight_{i}_no_nf.pt'))\n",
    "#         torch.save(best_model_state[0], os.path.join(root, f'mlp_weights/vgae_vgae_weight_{i}_no_nf.pt'))\n",
    "\n",
    "#         # add the loss curves to the dictionary\n",
    "#         loss_curves[f\"dropout_{dropout}\"] = {\"train_loss\": train_losses, \"val_loss\": val_losses}\n",
    "\n",
    "#     # save the loss curves to a file\n",
    "#     with open(\"loss_curves_mlp_vgae.json\", \"w\") as f:\n",
    "#         json.dump(loss_curves, f)"
   ]
  },
  {
   "cell_type": "code",
   "execution_count": 1,
   "metadata": {},
   "outputs": [
    {
     "ename": "NameError",
     "evalue": "name 'best_set' is not defined",
     "output_type": "error",
     "traceback": [
      "\u001b[0;31m---------------------------------------------------------------------------\u001b[0m",
      "\u001b[0;31mNameError\u001b[0m                                 Traceback (most recent call last)",
      "Cell \u001b[0;32mIn[1], line 15\u001b[0m\n\u001b[1;32m     11\u001b[0m l2 \u001b[38;5;241m=\u001b[39m []\n\u001b[1;32m     13\u001b[0m colors \u001b[38;5;241m=\u001b[39m [\u001b[38;5;124m'\u001b[39m\u001b[38;5;124mred\u001b[39m\u001b[38;5;124m'\u001b[39m, \u001b[38;5;124m'\u001b[39m\u001b[38;5;124mblue\u001b[39m\u001b[38;5;124m'\u001b[39m, \u001b[38;5;124m'\u001b[39m\u001b[38;5;124mgreen\u001b[39m\u001b[38;5;124m'\u001b[39m, \u001b[38;5;124m'\u001b[39m\u001b[38;5;124morange\u001b[39m\u001b[38;5;124m'\u001b[39m, \u001b[38;5;124m'\u001b[39m\u001b[38;5;124mpurple\u001b[39m\u001b[38;5;124m'\u001b[39m]\n\u001b[0;32m---> 15\u001b[0m \u001b[38;5;28;01mfor\u001b[39;00m fold \u001b[38;5;129;01min\u001b[39;00m \u001b[43mbest_set\u001b[49m:\n\u001b[1;32m     16\u001b[0m     l1\u001b[38;5;241m.\u001b[39mextend([t\u001b[38;5;241m.\u001b[39mitem() \u001b[38;5;28;01mfor\u001b[39;00m t \u001b[38;5;129;01min\u001b[39;00m fold[\u001b[38;5;241m0\u001b[39m]])\n\u001b[1;32m     17\u001b[0m     l2\u001b[38;5;241m.\u001b[39mextend([t\u001b[38;5;241m.\u001b[39mitem() \u001b[38;5;28;01mfor\u001b[39;00m t \u001b[38;5;129;01min\u001b[39;00m fold[\u001b[38;5;241m1\u001b[39m]])\n",
      "\u001b[0;31mNameError\u001b[0m: name 'best_set' is not defined"
     ]
    }
   ],
   "source": [
    "import numpy as np\n",
    "import matplotlib.pyplot as plt\n",
    "from scipy.stats import pearsonr\n",
    "from sklearn.metrics import r2_score, mean_absolute_error\n",
    "\n",
    "r2_scores = []\n",
    "mae_scores = []\n",
    "r_scores = []\n",
    "\n",
    "l1 = []\n",
    "l2 = []\n",
    "\n",
    "colors = ['red', 'blue', 'green', 'orange', 'purple']\n",
    "\n",
    "for fold in best_set:\n",
    "    l1.extend([t.item() for t in fold[0]])\n",
    "    l2.extend([t.item() for t in fold[1]])\n",
    "\n",
    "\n",
    "print(r2_score(l1, l2))\n",
    "print(pearsonr(l1, l2))\n",
    "print(mean_absolute_error(l1,l2))\n",
    "\n",
    "print()\n",
    "\n",
    "total_true = []\n",
    "total_pred = []\n",
    "total_drug = []\n",
    "total_base = []\n",
    "\n",
    "for i, (true, pred, base) in enumerate(best_set):\n",
    "    true = [t.item() for t in true]\n",
    "    pred = [p.item() for p in pred]\n",
    "    drug = [d[0].item() for d in base]\n",
    "    base = [d[1].item() for d in base]\n",
    "    \n",
    "    total_true.extend(true)\n",
    "    total_pred.extend(pred)\n",
    "    total_drug.extend(drug)\n",
    "    total_base.extend(base)\n",
    "    # Calculate R-squared (Pearson correlation coefficient)\n",
    "    r2 = r2_score(true, pred)\n",
    "    r2_scores.append(r2)\n",
    "\n",
    "    r_scores.append(pearsonr(true, pred))\n",
    "    \n",
    "    # Calculate Mean Absolute Error (MAE)\n",
    "    mae = mean_absolute_error(true, pred)\n",
    "    mae_scores.append(mae)\n",
    "    \n",
    "    for t, p, d in zip(true, pred, drug):\n",
    "        marker = 'x' if d == -1 else 'o'\n",
    "        plt.scatter(t, p, color=colors[i], marker=marker)\n",
    "\n",
    "        \n",
    "min_val = min(min(true), min(pred))\n",
    "max_val = max(max(true), max(pred))\n",
    "plt.plot([min_val, max_val], [min_val, max_val], 'k--')\n",
    "        \n",
    "plt.xlabel('True BDI')\n",
    "plt.ylabel('Predicted BDI')\n",
    "plt.title('MLP trained with featureless VGAE')\n",
    "plt.legend(['Psilocybin', 'Escitalopram'])\n",
    "plt.savefig('mlp_featureless_vgae.png', bbox_inches='tight')\n",
    "plt.show()\n",
    "\n",
    "# Calculate average R-squared and MAE across all folds\n",
    "avg_r2 = np.mean(r2_scores)\n",
    "avg_mae = np.mean(mae_scores)\n",
    "\n",
    "import csv\n",
    "head = ['r2', 'pearson_r', 'pval']\n",
    "with open('no_nf.csv', 'w', newline='') as f:\n",
    "    writer = csv.writer(f)\n",
    "\n",
    "    # Write the header\n",
    "    writer.writerow(head)\n",
    "\n",
    "    # Write the data rows\n",
    "    for i in range(5):\n",
    "        writer.writerow([r2_scores[i], r_scores[i][0], r_scores[i][1]])\n",
    "        \n",
    "# Specify the filename for the CSV file\n",
    "filename = 'featureless-vgae-full-val-results.csv'\n",
    "\n",
    "# Create a list of rows with headers\n",
    "rows = [['true_post_bdi', 'predicted_post_bdi', 'drug (1 for psilo)', 'base_bdi']]\n",
    "for true, pred, drug, base in zip(total_true, total_pred, total_drug, total_base):\n",
    "    rows.append([true, pred, drug, base])\n",
    "\n",
    "# Write the rows to the CSV file\n",
    "with open(filename, 'w', newline='') as file:\n",
    "    writer = csv.writer(file)\n",
    "    writer.writerows(rows)\n",
    "        \n",
    "print('Average R-squared:', avg_r2)\n",
    "print('Average MAE:', avg_mae)"
   ]
  },
  {
   "cell_type": "code",
   "execution_count": null,
   "metadata": {},
   "outputs": [],
   "source": []
  }
 ],
 "metadata": {
  "kernelspec": {
   "display_name": "FYP",
   "language": "python",
   "name": "fyp"
  },
  "language_info": {
   "codemirror_mode": {
    "name": "ipython",
    "version": 3
   },
   "file_extension": ".py",
   "mimetype": "text/x-python",
   "name": "python",
   "nbconvert_exporter": "python",
   "pygments_lexer": "ipython3",
   "version": "3.10.8"
  }
 },
 "nbformat": 4,
 "nbformat_minor": 2
}
