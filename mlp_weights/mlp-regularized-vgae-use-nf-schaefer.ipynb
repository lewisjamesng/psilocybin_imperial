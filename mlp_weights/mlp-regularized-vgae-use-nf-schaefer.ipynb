{
 "cells": [
  {
   "cell_type": "code",
   "execution_count": 1,
   "metadata": {},
   "outputs": [
    {
     "name": "stderr",
     "output_type": "stream",
     "text": [
      "  4%|▍         | 20/500 [00:04<01:49,  4.38it/s]"
     ]
    },
    {
     "name": "stdout",
     "output_type": "stream",
     "text": [
      "Epoch 20/500 - Train Loss: 5.8957 - Val Loss: 12.1301\n",
      "\n"
     ]
    },
    {
     "name": "stderr",
     "output_type": "stream",
     "text": [
      "  8%|▊         | 40/500 [00:09<01:44,  4.38it/s]"
     ]
    },
    {
     "name": "stdout",
     "output_type": "stream",
     "text": [
      "Epoch 40/500 - Train Loss: 5.6920 - Val Loss: 11.7469\n",
      "\n"
     ]
    },
    {
     "name": "stderr",
     "output_type": "stream",
     "text": [
      " 12%|█▏        | 60/500 [00:13<01:39,  4.43it/s]"
     ]
    },
    {
     "name": "stdout",
     "output_type": "stream",
     "text": [
      "Epoch 60/500 - Train Loss: 5.0098 - Val Loss: 10.8113\n",
      "\n"
     ]
    },
    {
     "name": "stderr",
     "output_type": "stream",
     "text": [
      " 16%|█▌        | 80/500 [00:18<01:34,  4.43it/s]"
     ]
    },
    {
     "name": "stdout",
     "output_type": "stream",
     "text": [
      "Epoch 80/500 - Train Loss: 4.6969 - Val Loss: 10.3663\n",
      "\n"
     ]
    },
    {
     "name": "stderr",
     "output_type": "stream",
     "text": [
      " 20%|██        | 100/500 [00:22<01:30,  4.44it/s]"
     ]
    },
    {
     "name": "stdout",
     "output_type": "stream",
     "text": [
      "Epoch 100/500 - Train Loss: 4.2145 - Val Loss: 10.1006\n",
      "\n"
     ]
    },
    {
     "name": "stderr",
     "output_type": "stream",
     "text": [
      " 24%|██▍       | 120/500 [00:27<01:26,  4.39it/s]"
     ]
    },
    {
     "name": "stdout",
     "output_type": "stream",
     "text": [
      "Epoch 120/500 - Train Loss: 4.0227 - Val Loss: 8.7984\n",
      "\n"
     ]
    },
    {
     "name": "stderr",
     "output_type": "stream",
     "text": [
      " 28%|██▊       | 140/500 [00:31<01:20,  4.46it/s]"
     ]
    },
    {
     "name": "stdout",
     "output_type": "stream",
     "text": [
      "Epoch 140/500 - Train Loss: 3.0404 - Val Loss: 9.3409\n",
      "\n"
     ]
    },
    {
     "name": "stderr",
     "output_type": "stream",
     "text": [
      " 32%|███▏      | 160/500 [00:36<01:16,  4.46it/s]"
     ]
    },
    {
     "name": "stdout",
     "output_type": "stream",
     "text": [
      "Epoch 160/500 - Train Loss: 2.9008 - Val Loss: 9.2084\n",
      "\n"
     ]
    },
    {
     "name": "stderr",
     "output_type": "stream",
     "text": [
      " 36%|███▌      | 180/500 [00:40<01:11,  4.45it/s]"
     ]
    },
    {
     "name": "stdout",
     "output_type": "stream",
     "text": [
      "Epoch 180/500 - Train Loss: 2.8318 - Val Loss: 8.7512\n",
      "\n"
     ]
    },
    {
     "name": "stderr",
     "output_type": "stream",
     "text": [
      " 40%|████      | 200/500 [00:45<01:07,  4.44it/s]"
     ]
    },
    {
     "name": "stdout",
     "output_type": "stream",
     "text": [
      "Epoch 200/500 - Train Loss: 2.7437 - Val Loss: 8.8221\n",
      "\n"
     ]
    },
    {
     "name": "stderr",
     "output_type": "stream",
     "text": [
      " 44%|████▍     | 220/500 [00:49<01:02,  4.45it/s]"
     ]
    },
    {
     "name": "stdout",
     "output_type": "stream",
     "text": [
      "Epoch 220/500 - Train Loss: 2.4311 - Val Loss: 9.2824\n",
      "\n"
     ]
    },
    {
     "name": "stderr",
     "output_type": "stream",
     "text": [
      " 48%|████▊     | 240/500 [00:54<00:58,  4.47it/s]"
     ]
    },
    {
     "name": "stdout",
     "output_type": "stream",
     "text": [
      "Epoch 240/500 - Train Loss: 2.8804 - Val Loss: 9.0708\n",
      "\n"
     ]
    },
    {
     "name": "stderr",
     "output_type": "stream",
     "text": [
      " 52%|█████▏    | 260/500 [00:58<00:53,  4.48it/s]"
     ]
    },
    {
     "name": "stdout",
     "output_type": "stream",
     "text": [
      "Epoch 260/500 - Train Loss: 2.4367 - Val Loss: 9.3393\n",
      "\n"
     ]
    },
    {
     "name": "stderr",
     "output_type": "stream",
     "text": [
      " 56%|█████▌    | 280/500 [01:03<00:49,  4.46it/s]"
     ]
    },
    {
     "name": "stdout",
     "output_type": "stream",
     "text": [
      "Epoch 280/500 - Train Loss: 2.2765 - Val Loss: 10.2055\n",
      "\n"
     ]
    },
    {
     "name": "stderr",
     "output_type": "stream",
     "text": [
      " 60%|██████    | 300/500 [01:07<00:45,  4.44it/s]"
     ]
    },
    {
     "name": "stdout",
     "output_type": "stream",
     "text": [
      "Epoch 300/500 - Train Loss: 2.1251 - Val Loss: 9.7276\n",
      "\n"
     ]
    },
    {
     "name": "stderr",
     "output_type": "stream",
     "text": [
      " 64%|██████▍   | 320/500 [01:12<00:40,  4.46it/s]"
     ]
    },
    {
     "name": "stdout",
     "output_type": "stream",
     "text": [
      "Epoch 320/500 - Train Loss: 2.3449 - Val Loss: 9.9806\n",
      "\n"
     ]
    },
    {
     "name": "stderr",
     "output_type": "stream",
     "text": [
      " 68%|██████▊   | 340/500 [01:16<00:35,  4.47it/s]"
     ]
    },
    {
     "name": "stdout",
     "output_type": "stream",
     "text": [
      "Epoch 340/500 - Train Loss: 2.0386 - Val Loss: 11.6164\n",
      "\n"
     ]
    },
    {
     "name": "stderr",
     "output_type": "stream",
     "text": [
      " 72%|███████▏  | 360/500 [01:21<00:31,  4.43it/s]"
     ]
    },
    {
     "name": "stdout",
     "output_type": "stream",
     "text": [
      "Epoch 360/500 - Train Loss: 1.7980 - Val Loss: 10.8443\n",
      "\n"
     ]
    },
    {
     "name": "stderr",
     "output_type": "stream",
     "text": [
      " 76%|███████▌  | 380/500 [01:25<00:26,  4.48it/s]"
     ]
    },
    {
     "name": "stdout",
     "output_type": "stream",
     "text": [
      "Epoch 380/500 - Train Loss: 1.6358 - Val Loss: 11.9657\n",
      "\n"
     ]
    },
    {
     "name": "stderr",
     "output_type": "stream",
     "text": [
      " 80%|████████  | 400/500 [01:30<00:22,  4.47it/s]"
     ]
    },
    {
     "name": "stdout",
     "output_type": "stream",
     "text": [
      "Epoch 400/500 - Train Loss: 2.1985 - Val Loss: 11.2486\n",
      "\n"
     ]
    },
    {
     "name": "stderr",
     "output_type": "stream",
     "text": [
      " 84%|████████▍ | 420/500 [01:34<00:17,  4.48it/s]"
     ]
    },
    {
     "name": "stdout",
     "output_type": "stream",
     "text": [
      "Epoch 420/500 - Train Loss: 1.6080 - Val Loss: 11.9442\n",
      "\n"
     ]
    },
    {
     "name": "stderr",
     "output_type": "stream",
     "text": [
      " 88%|████████▊ | 440/500 [01:39<00:13,  4.47it/s]"
     ]
    },
    {
     "name": "stdout",
     "output_type": "stream",
     "text": [
      "Epoch 440/500 - Train Loss: 1.4253 - Val Loss: 11.5685\n",
      "\n"
     ]
    },
    {
     "name": "stderr",
     "output_type": "stream",
     "text": [
      " 92%|█████████▏| 460/500 [01:43<00:08,  4.47it/s]"
     ]
    },
    {
     "name": "stdout",
     "output_type": "stream",
     "text": [
      "Epoch 460/500 - Train Loss: 1.5155 - Val Loss: 11.9625\n",
      "\n"
     ]
    },
    {
     "name": "stderr",
     "output_type": "stream",
     "text": [
      " 96%|█████████▌| 480/500 [01:47<00:04,  4.46it/s]"
     ]
    },
    {
     "name": "stdout",
     "output_type": "stream",
     "text": [
      "Epoch 480/500 - Train Loss: 1.3716 - Val Loss: 12.3721\n",
      "\n"
     ]
    },
    {
     "name": "stderr",
     "output_type": "stream",
     "text": [
      "100%|██████████| 500/500 [01:52<00:00,  4.45it/s]\n"
     ]
    },
    {
     "name": "stdout",
     "output_type": "stream",
     "text": [
      "Epoch 500/500 - Train Loss: 2.0560 - Val Loss: 12.2221\n",
      "\n"
     ]
    },
    {
     "name": "stderr",
     "output_type": "stream",
     "text": [
      "  4%|▍         | 20/500 [00:04<01:47,  4.46it/s]"
     ]
    },
    {
     "name": "stdout",
     "output_type": "stream",
     "text": [
      "Epoch 20/500 - Train Loss: 6.9565 - Val Loss: 7.2745\n",
      "\n"
     ]
    },
    {
     "name": "stderr",
     "output_type": "stream",
     "text": [
      "  8%|▊         | 40/500 [00:08<01:42,  4.51it/s]"
     ]
    },
    {
     "name": "stdout",
     "output_type": "stream",
     "text": [
      "Epoch 40/500 - Train Loss: 5.6458 - Val Loss: 11.4063\n",
      "\n"
     ]
    },
    {
     "name": "stderr",
     "output_type": "stream",
     "text": [
      " 12%|█▏        | 60/500 [00:13<01:37,  4.51it/s]"
     ]
    },
    {
     "name": "stdout",
     "output_type": "stream",
     "text": [
      "Epoch 60/500 - Train Loss: 5.1263 - Val Loss: 11.3016\n",
      "\n"
     ]
    },
    {
     "name": "stderr",
     "output_type": "stream",
     "text": [
      " 16%|█▌        | 80/500 [00:17<01:33,  4.51it/s]"
     ]
    },
    {
     "name": "stdout",
     "output_type": "stream",
     "text": [
      "Epoch 80/500 - Train Loss: 4.7195 - Val Loss: 10.9753\n",
      "\n"
     ]
    },
    {
     "name": "stderr",
     "output_type": "stream",
     "text": [
      " 20%|██        | 100/500 [00:22<01:28,  4.52it/s]"
     ]
    },
    {
     "name": "stdout",
     "output_type": "stream",
     "text": [
      "Epoch 100/500 - Train Loss: 4.3126 - Val Loss: 10.4461\n",
      "\n"
     ]
    },
    {
     "name": "stderr",
     "output_type": "stream",
     "text": [
      " 24%|██▍       | 120/500 [00:26<01:23,  4.53it/s]"
     ]
    },
    {
     "name": "stdout",
     "output_type": "stream",
     "text": [
      "Epoch 120/500 - Train Loss: 4.4133 - Val Loss: 10.9112\n",
      "\n"
     ]
    },
    {
     "name": "stderr",
     "output_type": "stream",
     "text": [
      " 28%|██▊       | 140/500 [00:31<01:20,  4.47it/s]"
     ]
    },
    {
     "name": "stdout",
     "output_type": "stream",
     "text": [
      "Epoch 140/500 - Train Loss: 4.0199 - Val Loss: 12.5520\n",
      "\n"
     ]
    },
    {
     "name": "stderr",
     "output_type": "stream",
     "text": [
      " 32%|███▏      | 160/500 [00:35<01:15,  4.53it/s]"
     ]
    },
    {
     "name": "stdout",
     "output_type": "stream",
     "text": [
      "Epoch 160/500 - Train Loss: 3.8533 - Val Loss: 10.0750\n",
      "\n"
     ]
    },
    {
     "name": "stderr",
     "output_type": "stream",
     "text": [
      " 36%|███▌      | 180/500 [00:39<01:11,  4.50it/s]"
     ]
    },
    {
     "name": "stdout",
     "output_type": "stream",
     "text": [
      "Epoch 180/500 - Train Loss: 3.5323 - Val Loss: 10.2510\n",
      "\n"
     ]
    },
    {
     "name": "stderr",
     "output_type": "stream",
     "text": [
      " 40%|████      | 200/500 [00:44<01:06,  4.53it/s]"
     ]
    },
    {
     "name": "stdout",
     "output_type": "stream",
     "text": [
      "Epoch 200/500 - Train Loss: 4.0936 - Val Loss: 9.7263\n",
      "\n"
     ]
    },
    {
     "name": "stderr",
     "output_type": "stream",
     "text": [
      " 44%|████▍     | 220/500 [00:48<01:02,  4.46it/s]"
     ]
    },
    {
     "name": "stdout",
     "output_type": "stream",
     "text": [
      "Epoch 220/500 - Train Loss: 3.7710 - Val Loss: 9.7098\n",
      "\n"
     ]
    },
    {
     "name": "stderr",
     "output_type": "stream",
     "text": [
      " 48%|████▊     | 240/500 [00:53<00:58,  4.47it/s]"
     ]
    },
    {
     "name": "stdout",
     "output_type": "stream",
     "text": [
      "Epoch 240/500 - Train Loss: 3.4655 - Val Loss: 10.0791\n",
      "\n"
     ]
    },
    {
     "name": "stderr",
     "output_type": "stream",
     "text": [
      " 52%|█████▏    | 260/500 [00:57<00:53,  4.45it/s]"
     ]
    },
    {
     "name": "stdout",
     "output_type": "stream",
     "text": [
      "Epoch 260/500 - Train Loss: 3.1658 - Val Loss: 8.8206\n",
      "\n"
     ]
    },
    {
     "name": "stderr",
     "output_type": "stream",
     "text": [
      " 56%|█████▌    | 280/500 [01:02<00:49,  4.45it/s]"
     ]
    },
    {
     "name": "stdout",
     "output_type": "stream",
     "text": [
      "Epoch 280/500 - Train Loss: 3.1033 - Val Loss: 9.1504\n",
      "\n"
     ]
    },
    {
     "name": "stderr",
     "output_type": "stream",
     "text": [
      " 60%|██████    | 300/500 [01:06<00:44,  4.47it/s]"
     ]
    },
    {
     "name": "stdout",
     "output_type": "stream",
     "text": [
      "Epoch 300/500 - Train Loss: 3.4981 - Val Loss: 10.8327\n",
      "\n"
     ]
    },
    {
     "name": "stderr",
     "output_type": "stream",
     "text": [
      " 64%|██████▍   | 320/500 [01:11<00:40,  4.46it/s]"
     ]
    },
    {
     "name": "stdout",
     "output_type": "stream",
     "text": [
      "Epoch 320/500 - Train Loss: 3.1894 - Val Loss: 11.4576\n",
      "\n"
     ]
    },
    {
     "name": "stderr",
     "output_type": "stream",
     "text": [
      " 68%|██████▊   | 340/500 [01:15<00:35,  4.46it/s]"
     ]
    },
    {
     "name": "stdout",
     "output_type": "stream",
     "text": [
      "Epoch 340/500 - Train Loss: 3.3236 - Val Loss: 10.2667\n",
      "\n"
     ]
    },
    {
     "name": "stderr",
     "output_type": "stream",
     "text": [
      " 72%|███████▏  | 360/500 [01:20<00:31,  4.46it/s]"
     ]
    },
    {
     "name": "stdout",
     "output_type": "stream",
     "text": [
      "Epoch 360/500 - Train Loss: 2.6427 - Val Loss: 9.0285\n",
      "\n"
     ]
    },
    {
     "name": "stderr",
     "output_type": "stream",
     "text": [
      " 76%|███████▌  | 380/500 [01:24<00:26,  4.48it/s]"
     ]
    },
    {
     "name": "stdout",
     "output_type": "stream",
     "text": [
      "Epoch 380/500 - Train Loss: 3.0128 - Val Loss: 10.3162\n",
      "\n"
     ]
    },
    {
     "name": "stderr",
     "output_type": "stream",
     "text": [
      " 80%|████████  | 400/500 [01:29<00:22,  4.46it/s]"
     ]
    },
    {
     "name": "stdout",
     "output_type": "stream",
     "text": [
      "Epoch 400/500 - Train Loss: 2.6120 - Val Loss: 9.6557\n",
      "\n"
     ]
    },
    {
     "name": "stderr",
     "output_type": "stream",
     "text": [
      " 84%|████████▍ | 420/500 [01:33<00:17,  4.47it/s]"
     ]
    },
    {
     "name": "stdout",
     "output_type": "stream",
     "text": [
      "Epoch 420/500 - Train Loss: 2.8507 - Val Loss: 10.9221\n",
      "\n"
     ]
    },
    {
     "name": "stderr",
     "output_type": "stream",
     "text": [
      " 88%|████████▊ | 440/500 [01:38<00:13,  4.47it/s]"
     ]
    },
    {
     "name": "stdout",
     "output_type": "stream",
     "text": [
      "Epoch 440/500 - Train Loss: 2.8124 - Val Loss: 10.0644\n",
      "\n"
     ]
    },
    {
     "name": "stderr",
     "output_type": "stream",
     "text": [
      " 92%|█████████▏| 460/500 [01:42<00:08,  4.47it/s]"
     ]
    },
    {
     "name": "stdout",
     "output_type": "stream",
     "text": [
      "Epoch 460/500 - Train Loss: 2.7977 - Val Loss: 11.1228\n",
      "\n"
     ]
    },
    {
     "name": "stderr",
     "output_type": "stream",
     "text": [
      " 96%|█████████▌| 480/500 [01:47<00:04,  4.47it/s]"
     ]
    },
    {
     "name": "stdout",
     "output_type": "stream",
     "text": [
      "Epoch 480/500 - Train Loss: 2.7063 - Val Loss: 10.6784\n",
      "\n"
     ]
    },
    {
     "name": "stderr",
     "output_type": "stream",
     "text": [
      "100%|██████████| 500/500 [01:51<00:00,  4.48it/s]\n"
     ]
    },
    {
     "name": "stdout",
     "output_type": "stream",
     "text": [
      "Epoch 500/500 - Train Loss: 2.3618 - Val Loss: 11.5742\n",
      "\n"
     ]
    },
    {
     "name": "stderr",
     "output_type": "stream",
     "text": [
      "  4%|▍         | 20/500 [00:04<01:47,  4.47it/s]"
     ]
    },
    {
     "name": "stdout",
     "output_type": "stream",
     "text": [
      "Epoch 20/500 - Train Loss: 7.2932 - Val Loss: 6.0713\n",
      "\n"
     ]
    },
    {
     "name": "stderr",
     "output_type": "stream",
     "text": [
      "  8%|▊         | 40/500 [00:08<01:42,  4.50it/s]"
     ]
    },
    {
     "name": "stdout",
     "output_type": "stream",
     "text": [
      "Epoch 40/500 - Train Loss: 6.9155 - Val Loss: 5.9750\n",
      "\n"
     ]
    },
    {
     "name": "stderr",
     "output_type": "stream",
     "text": [
      " 12%|█▏        | 60/500 [00:13<01:38,  4.48it/s]"
     ]
    },
    {
     "name": "stdout",
     "output_type": "stream",
     "text": [
      "Epoch 60/500 - Train Loss: 6.0523 - Val Loss: 5.8381\n",
      "\n"
     ]
    },
    {
     "name": "stderr",
     "output_type": "stream",
     "text": [
      " 16%|█▌        | 80/500 [00:17<01:33,  4.49it/s]"
     ]
    },
    {
     "name": "stdout",
     "output_type": "stream",
     "text": [
      "Epoch 80/500 - Train Loss: 5.7931 - Val Loss: 5.3404\n",
      "\n"
     ]
    },
    {
     "name": "stderr",
     "output_type": "stream",
     "text": [
      " 20%|██        | 100/500 [00:22<01:29,  4.49it/s]"
     ]
    },
    {
     "name": "stdout",
     "output_type": "stream",
     "text": [
      "Epoch 100/500 - Train Loss: 5.5142 - Val Loss: 4.6940\n",
      "\n"
     ]
    },
    {
     "name": "stderr",
     "output_type": "stream",
     "text": [
      " 24%|██▍       | 120/500 [00:26<01:24,  4.49it/s]"
     ]
    },
    {
     "name": "stdout",
     "output_type": "stream",
     "text": [
      "Epoch 120/500 - Train Loss: 4.8029 - Val Loss: 4.7458\n",
      "\n"
     ]
    },
    {
     "name": "stderr",
     "output_type": "stream",
     "text": [
      " 28%|██▊       | 140/500 [00:31<01:20,  4.49it/s]"
     ]
    },
    {
     "name": "stdout",
     "output_type": "stream",
     "text": [
      "Epoch 140/500 - Train Loss: 4.4935 - Val Loss: 5.0796\n",
      "\n"
     ]
    },
    {
     "name": "stderr",
     "output_type": "stream",
     "text": [
      " 32%|███▏      | 160/500 [00:35<01:16,  4.47it/s]"
     ]
    },
    {
     "name": "stdout",
     "output_type": "stream",
     "text": [
      "Epoch 160/500 - Train Loss: 3.9982 - Val Loss: 5.7844\n",
      "\n"
     ]
    },
    {
     "name": "stderr",
     "output_type": "stream",
     "text": [
      " 36%|███▌      | 180/500 [00:40<01:11,  4.48it/s]"
     ]
    },
    {
     "name": "stdout",
     "output_type": "stream",
     "text": [
      "Epoch 180/500 - Train Loss: 3.8563 - Val Loss: 6.2863\n",
      "\n"
     ]
    },
    {
     "name": "stderr",
     "output_type": "stream",
     "text": [
      " 40%|████      | 200/500 [00:44<01:06,  4.49it/s]"
     ]
    },
    {
     "name": "stdout",
     "output_type": "stream",
     "text": [
      "Epoch 200/500 - Train Loss: 3.2672 - Val Loss: 6.3881\n",
      "\n"
     ]
    },
    {
     "name": "stderr",
     "output_type": "stream",
     "text": [
      " 44%|████▍     | 220/500 [00:49<01:01,  4.54it/s]"
     ]
    },
    {
     "name": "stdout",
     "output_type": "stream",
     "text": [
      "Epoch 220/500 - Train Loss: 2.9778 - Val Loss: 6.6662\n",
      "\n"
     ]
    },
    {
     "name": "stderr",
     "output_type": "stream",
     "text": [
      " 48%|████▊     | 240/500 [00:53<00:57,  4.54it/s]"
     ]
    },
    {
     "name": "stdout",
     "output_type": "stream",
     "text": [
      "Epoch 240/500 - Train Loss: 3.0205 - Val Loss: 7.0817\n",
      "\n"
     ]
    },
    {
     "name": "stderr",
     "output_type": "stream",
     "text": [
      " 52%|█████▏    | 260/500 [00:57<00:52,  4.53it/s]"
     ]
    },
    {
     "name": "stdout",
     "output_type": "stream",
     "text": [
      "Epoch 260/500 - Train Loss: 2.8928 - Val Loss: 5.6116\n",
      "\n"
     ]
    },
    {
     "name": "stderr",
     "output_type": "stream",
     "text": [
      " 56%|█████▌    | 280/500 [01:02<00:48,  4.54it/s]"
     ]
    },
    {
     "name": "stdout",
     "output_type": "stream",
     "text": [
      "Epoch 280/500 - Train Loss: 2.5278 - Val Loss: 6.9040\n",
      "\n"
     ]
    },
    {
     "name": "stderr",
     "output_type": "stream",
     "text": [
      " 60%|██████    | 300/500 [01:06<00:44,  4.54it/s]"
     ]
    },
    {
     "name": "stdout",
     "output_type": "stream",
     "text": [
      "Epoch 300/500 - Train Loss: 2.4817 - Val Loss: 7.7317\n",
      "\n"
     ]
    },
    {
     "name": "stderr",
     "output_type": "stream",
     "text": [
      " 64%|██████▍   | 320/500 [01:11<00:39,  4.54it/s]"
     ]
    },
    {
     "name": "stdout",
     "output_type": "stream",
     "text": [
      "Epoch 320/500 - Train Loss: 2.3190 - Val Loss: 7.0376\n",
      "\n"
     ]
    },
    {
     "name": "stderr",
     "output_type": "stream",
     "text": [
      " 68%|██████▊   | 340/500 [01:15<00:35,  4.54it/s]"
     ]
    },
    {
     "name": "stdout",
     "output_type": "stream",
     "text": [
      "Epoch 340/500 - Train Loss: 2.3253 - Val Loss: 7.2906\n",
      "\n"
     ]
    },
    {
     "name": "stderr",
     "output_type": "stream",
     "text": [
      " 72%|███████▏  | 360/500 [01:19<00:30,  4.54it/s]"
     ]
    },
    {
     "name": "stdout",
     "output_type": "stream",
     "text": [
      "Epoch 360/500 - Train Loss: 2.1419 - Val Loss: 7.8386\n",
      "\n"
     ]
    },
    {
     "name": "stderr",
     "output_type": "stream",
     "text": [
      " 76%|███████▌  | 380/500 [01:24<00:26,  4.54it/s]"
     ]
    },
    {
     "name": "stdout",
     "output_type": "stream",
     "text": [
      "Epoch 380/500 - Train Loss: 2.8214 - Val Loss: 7.7178\n",
      "\n"
     ]
    },
    {
     "name": "stderr",
     "output_type": "stream",
     "text": [
      " 80%|████████  | 400/500 [01:28<00:22,  4.54it/s]"
     ]
    },
    {
     "name": "stdout",
     "output_type": "stream",
     "text": [
      "Epoch 400/500 - Train Loss: 1.9937 - Val Loss: 7.7978\n",
      "\n"
     ]
    },
    {
     "name": "stderr",
     "output_type": "stream",
     "text": [
      " 84%|████████▍ | 420/500 [01:33<00:17,  4.54it/s]"
     ]
    },
    {
     "name": "stdout",
     "output_type": "stream",
     "text": [
      "Epoch 420/500 - Train Loss: 2.5355 - Val Loss: 8.0125\n",
      "\n"
     ]
    },
    {
     "name": "stderr",
     "output_type": "stream",
     "text": [
      " 88%|████████▊ | 440/500 [01:37<00:13,  4.53it/s]"
     ]
    },
    {
     "name": "stdout",
     "output_type": "stream",
     "text": [
      "Epoch 440/500 - Train Loss: 2.2740 - Val Loss: 8.4329\n",
      "\n"
     ]
    },
    {
     "name": "stderr",
     "output_type": "stream",
     "text": [
      " 92%|█████████▏| 460/500 [01:41<00:08,  4.52it/s]"
     ]
    },
    {
     "name": "stdout",
     "output_type": "stream",
     "text": [
      "Epoch 460/500 - Train Loss: 2.8799 - Val Loss: 10.1002\n",
      "\n"
     ]
    },
    {
     "name": "stderr",
     "output_type": "stream",
     "text": [
      " 96%|█████████▌| 480/500 [01:46<00:04,  4.53it/s]"
     ]
    },
    {
     "name": "stdout",
     "output_type": "stream",
     "text": [
      "Epoch 480/500 - Train Loss: 1.4979 - Val Loss: 8.4022\n",
      "\n"
     ]
    },
    {
     "name": "stderr",
     "output_type": "stream",
     "text": [
      "100%|██████████| 500/500 [01:50<00:00,  4.52it/s]\n"
     ]
    },
    {
     "name": "stdout",
     "output_type": "stream",
     "text": [
      "Epoch 500/500 - Train Loss: 1.6110 - Val Loss: 10.4768\n",
      "\n"
     ]
    },
    {
     "name": "stderr",
     "output_type": "stream",
     "text": [
      "  4%|▍         | 20/500 [00:04<01:45,  4.54it/s]"
     ]
    },
    {
     "name": "stdout",
     "output_type": "stream",
     "text": [
      "Epoch 20/500 - Train Loss: 7.1492 - Val Loss: 6.3324\n",
      "\n"
     ]
    },
    {
     "name": "stderr",
     "output_type": "stream",
     "text": [
      "  8%|▊         | 40/500 [00:08<01:41,  4.54it/s]"
     ]
    },
    {
     "name": "stdout",
     "output_type": "stream",
     "text": [
      "Epoch 40/500 - Train Loss: 6.4584 - Val Loss: 6.6169\n",
      "\n"
     ]
    },
    {
     "name": "stderr",
     "output_type": "stream",
     "text": [
      " 12%|█▏        | 60/500 [00:13<01:37,  4.53it/s]"
     ]
    },
    {
     "name": "stdout",
     "output_type": "stream",
     "text": [
      "Epoch 60/500 - Train Loss: 5.6595 - Val Loss: 5.9725\n",
      "\n"
     ]
    },
    {
     "name": "stderr",
     "output_type": "stream",
     "text": [
      " 16%|█▌        | 80/500 [00:17<01:32,  4.53it/s]"
     ]
    },
    {
     "name": "stdout",
     "output_type": "stream",
     "text": [
      "Epoch 80/500 - Train Loss: 4.6411 - Val Loss: 5.5667\n",
      "\n"
     ]
    },
    {
     "name": "stderr",
     "output_type": "stream",
     "text": [
      " 20%|██        | 100/500 [00:22<01:28,  4.53it/s]"
     ]
    },
    {
     "name": "stdout",
     "output_type": "stream",
     "text": [
      "Epoch 100/500 - Train Loss: 4.2364 - Val Loss: 5.7935\n",
      "\n"
     ]
    },
    {
     "name": "stderr",
     "output_type": "stream",
     "text": [
      " 24%|██▍       | 120/500 [00:26<01:23,  4.53it/s]"
     ]
    },
    {
     "name": "stdout",
     "output_type": "stream",
     "text": [
      "Epoch 120/500 - Train Loss: 3.7028 - Val Loss: 6.2039\n",
      "\n"
     ]
    },
    {
     "name": "stderr",
     "output_type": "stream",
     "text": [
      " 28%|██▊       | 140/500 [00:30<01:19,  4.53it/s]"
     ]
    },
    {
     "name": "stdout",
     "output_type": "stream",
     "text": [
      "Epoch 140/500 - Train Loss: 3.5302 - Val Loss: 5.8254\n",
      "\n"
     ]
    },
    {
     "name": "stderr",
     "output_type": "stream",
     "text": [
      " 32%|███▏      | 160/500 [00:35<01:14,  4.54it/s]"
     ]
    },
    {
     "name": "stdout",
     "output_type": "stream",
     "text": [
      "Epoch 160/500 - Train Loss: 3.2430 - Val Loss: 5.5124\n",
      "\n"
     ]
    },
    {
     "name": "stderr",
     "output_type": "stream",
     "text": [
      " 36%|███▌      | 180/500 [00:39<01:10,  4.53it/s]"
     ]
    },
    {
     "name": "stdout",
     "output_type": "stream",
     "text": [
      "Epoch 180/500 - Train Loss: 2.8701 - Val Loss: 5.9063\n",
      "\n"
     ]
    },
    {
     "name": "stderr",
     "output_type": "stream",
     "text": [
      " 40%|████      | 200/500 [00:44<01:06,  4.54it/s]"
     ]
    },
    {
     "name": "stdout",
     "output_type": "stream",
     "text": [
      "Epoch 200/500 - Train Loss: 2.8855 - Val Loss: 7.1734\n",
      "\n"
     ]
    },
    {
     "name": "stderr",
     "output_type": "stream",
     "text": [
      " 44%|████▍     | 220/500 [00:48<01:01,  4.53it/s]"
     ]
    },
    {
     "name": "stdout",
     "output_type": "stream",
     "text": [
      "Epoch 220/500 - Train Loss: 2.6112 - Val Loss: 6.1637\n",
      "\n"
     ]
    },
    {
     "name": "stderr",
     "output_type": "stream",
     "text": [
      " 48%|████▊     | 240/500 [00:52<00:57,  4.53it/s]"
     ]
    },
    {
     "name": "stdout",
     "output_type": "stream",
     "text": [
      "Epoch 240/500 - Train Loss: 2.8183 - Val Loss: 5.9624\n",
      "\n"
     ]
    },
    {
     "name": "stderr",
     "output_type": "stream",
     "text": [
      " 52%|█████▏    | 260/500 [00:57<00:52,  4.54it/s]"
     ]
    },
    {
     "name": "stdout",
     "output_type": "stream",
     "text": [
      "Epoch 260/500 - Train Loss: 2.6904 - Val Loss: 6.4263\n",
      "\n"
     ]
    },
    {
     "name": "stderr",
     "output_type": "stream",
     "text": [
      " 56%|█████▌    | 280/500 [01:01<00:48,  4.54it/s]"
     ]
    },
    {
     "name": "stdout",
     "output_type": "stream",
     "text": [
      "Epoch 280/500 - Train Loss: 2.4776 - Val Loss: 6.3807\n",
      "\n"
     ]
    },
    {
     "name": "stderr",
     "output_type": "stream",
     "text": [
      " 60%|██████    | 300/500 [01:06<00:44,  4.54it/s]"
     ]
    },
    {
     "name": "stdout",
     "output_type": "stream",
     "text": [
      "Epoch 300/500 - Train Loss: 2.4922 - Val Loss: 7.0444\n",
      "\n"
     ]
    },
    {
     "name": "stderr",
     "output_type": "stream",
     "text": [
      " 64%|██████▍   | 320/500 [01:10<00:39,  4.54it/s]"
     ]
    },
    {
     "name": "stdout",
     "output_type": "stream",
     "text": [
      "Epoch 320/500 - Train Loss: 2.3324 - Val Loss: 5.8201\n",
      "\n"
     ]
    },
    {
     "name": "stderr",
     "output_type": "stream",
     "text": [
      " 68%|██████▊   | 340/500 [01:14<00:35,  4.55it/s]"
     ]
    },
    {
     "name": "stdout",
     "output_type": "stream",
     "text": [
      "Epoch 340/500 - Train Loss: 2.5932 - Val Loss: 7.4199\n",
      "\n"
     ]
    },
    {
     "name": "stderr",
     "output_type": "stream",
     "text": [
      " 72%|███████▏  | 360/500 [01:19<00:30,  4.54it/s]"
     ]
    },
    {
     "name": "stdout",
     "output_type": "stream",
     "text": [
      "Epoch 360/500 - Train Loss: 2.2075 - Val Loss: 5.9309\n",
      "\n"
     ]
    },
    {
     "name": "stderr",
     "output_type": "stream",
     "text": [
      " 76%|███████▌  | 380/500 [01:23<00:26,  4.54it/s]"
     ]
    },
    {
     "name": "stdout",
     "output_type": "stream",
     "text": [
      "Epoch 380/500 - Train Loss: 2.2264 - Val Loss: 7.1366\n",
      "\n"
     ]
    },
    {
     "name": "stderr",
     "output_type": "stream",
     "text": [
      " 80%|████████  | 400/500 [01:28<00:22,  4.54it/s]"
     ]
    },
    {
     "name": "stdout",
     "output_type": "stream",
     "text": [
      "Epoch 400/500 - Train Loss: 2.2851 - Val Loss: 7.3986\n",
      "\n"
     ]
    },
    {
     "name": "stderr",
     "output_type": "stream",
     "text": [
      " 84%|████████▍ | 420/500 [01:32<00:17,  4.53it/s]"
     ]
    },
    {
     "name": "stdout",
     "output_type": "stream",
     "text": [
      "Epoch 420/500 - Train Loss: 2.2480 - Val Loss: 7.4887\n",
      "\n"
     ]
    },
    {
     "name": "stderr",
     "output_type": "stream",
     "text": [
      " 88%|████████▊ | 440/500 [01:37<00:13,  4.54it/s]"
     ]
    },
    {
     "name": "stdout",
     "output_type": "stream",
     "text": [
      "Epoch 440/500 - Train Loss: 2.1503 - Val Loss: 7.4244\n",
      "\n"
     ]
    },
    {
     "name": "stderr",
     "output_type": "stream",
     "text": [
      " 92%|█████████▏| 460/500 [01:41<00:08,  4.54it/s]"
     ]
    },
    {
     "name": "stdout",
     "output_type": "stream",
     "text": [
      "Epoch 460/500 - Train Loss: 2.0470 - Val Loss: 7.8538\n",
      "\n"
     ]
    },
    {
     "name": "stderr",
     "output_type": "stream",
     "text": [
      " 96%|█████████▌| 480/500 [01:45<00:04,  4.53it/s]"
     ]
    },
    {
     "name": "stdout",
     "output_type": "stream",
     "text": [
      "Epoch 480/500 - Train Loss: 2.0111 - Val Loss: 7.1367\n",
      "\n"
     ]
    },
    {
     "name": "stderr",
     "output_type": "stream",
     "text": [
      "100%|██████████| 500/500 [01:50<00:00,  4.54it/s]\n"
     ]
    },
    {
     "name": "stdout",
     "output_type": "stream",
     "text": [
      "Epoch 500/500 - Train Loss: 1.4799 - Val Loss: 9.0044\n",
      "\n"
     ]
    },
    {
     "name": "stderr",
     "output_type": "stream",
     "text": [
      "  4%|▍         | 20/500 [00:04<01:45,  4.53it/s]"
     ]
    },
    {
     "name": "stdout",
     "output_type": "stream",
     "text": [
      "Epoch 20/500 - Train Loss: 7.3062 - Val Loss: 5.7112\n",
      "\n"
     ]
    },
    {
     "name": "stderr",
     "output_type": "stream",
     "text": [
      "  8%|▊         | 40/500 [00:08<01:42,  4.51it/s]"
     ]
    },
    {
     "name": "stdout",
     "output_type": "stream",
     "text": [
      "Epoch 40/500 - Train Loss: 6.9062 - Val Loss: 5.5467\n",
      "\n"
     ]
    },
    {
     "name": "stderr",
     "output_type": "stream",
     "text": [
      " 12%|█▏        | 60/500 [00:13<01:37,  4.49it/s]"
     ]
    },
    {
     "name": "stdout",
     "output_type": "stream",
     "text": [
      "Epoch 60/500 - Train Loss: 6.4033 - Val Loss: 4.8425\n",
      "\n"
     ]
    },
    {
     "name": "stderr",
     "output_type": "stream",
     "text": [
      " 16%|█▌        | 80/500 [00:17<01:33,  4.49it/s]"
     ]
    },
    {
     "name": "stdout",
     "output_type": "stream",
     "text": [
      "Epoch 80/500 - Train Loss: 5.8694 - Val Loss: 4.5785\n",
      "\n"
     ]
    },
    {
     "name": "stderr",
     "output_type": "stream",
     "text": [
      " 20%|██        | 100/500 [00:22<01:29,  4.49it/s]"
     ]
    },
    {
     "name": "stdout",
     "output_type": "stream",
     "text": [
      "Epoch 100/500 - Train Loss: 5.3323 - Val Loss: 4.6730\n",
      "\n"
     ]
    },
    {
     "name": "stderr",
     "output_type": "stream",
     "text": [
      " 24%|██▍       | 120/500 [00:26<01:24,  4.48it/s]"
     ]
    },
    {
     "name": "stdout",
     "output_type": "stream",
     "text": [
      "Epoch 120/500 - Train Loss: 5.0734 - Val Loss: 5.8611\n",
      "\n"
     ]
    },
    {
     "name": "stderr",
     "output_type": "stream",
     "text": [
      " 28%|██▊       | 140/500 [00:31<01:20,  4.46it/s]"
     ]
    },
    {
     "name": "stdout",
     "output_type": "stream",
     "text": [
      "Epoch 140/500 - Train Loss: 5.1103 - Val Loss: 5.7733\n",
      "\n"
     ]
    },
    {
     "name": "stderr",
     "output_type": "stream",
     "text": [
      " 32%|███▏      | 160/500 [00:35<01:15,  4.48it/s]"
     ]
    },
    {
     "name": "stdout",
     "output_type": "stream",
     "text": [
      "Epoch 160/500 - Train Loss: 4.3017 - Val Loss: 4.8036\n",
      "\n"
     ]
    },
    {
     "name": "stderr",
     "output_type": "stream",
     "text": [
      " 36%|███▌      | 180/500 [00:40<01:11,  4.48it/s]"
     ]
    },
    {
     "name": "stdout",
     "output_type": "stream",
     "text": [
      "Epoch 180/500 - Train Loss: 4.0052 - Val Loss: 5.1957\n",
      "\n"
     ]
    },
    {
     "name": "stderr",
     "output_type": "stream",
     "text": [
      " 40%|████      | 200/500 [00:44<01:06,  4.49it/s]"
     ]
    },
    {
     "name": "stdout",
     "output_type": "stream",
     "text": [
      "Epoch 200/500 - Train Loss: 4.1474 - Val Loss: 6.3868\n",
      "\n"
     ]
    },
    {
     "name": "stderr",
     "output_type": "stream",
     "text": [
      " 44%|████▍     | 220/500 [00:48<01:02,  4.49it/s]"
     ]
    },
    {
     "name": "stdout",
     "output_type": "stream",
     "text": [
      "Epoch 220/500 - Train Loss: 4.4819 - Val Loss: 6.8852\n",
      "\n"
     ]
    },
    {
     "name": "stderr",
     "output_type": "stream",
     "text": [
      " 48%|████▊     | 240/500 [00:53<00:57,  4.50it/s]"
     ]
    },
    {
     "name": "stdout",
     "output_type": "stream",
     "text": [
      "Epoch 240/500 - Train Loss: 3.6349 - Val Loss: 6.5324\n",
      "\n"
     ]
    },
    {
     "name": "stderr",
     "output_type": "stream",
     "text": [
      " 52%|█████▏    | 260/500 [00:57<00:53,  4.51it/s]"
     ]
    },
    {
     "name": "stdout",
     "output_type": "stream",
     "text": [
      "Epoch 260/500 - Train Loss: 3.9340 - Val Loss: 6.1754\n",
      "\n"
     ]
    },
    {
     "name": "stderr",
     "output_type": "stream",
     "text": [
      " 56%|█████▌    | 280/500 [01:02<00:48,  4.49it/s]"
     ]
    },
    {
     "name": "stdout",
     "output_type": "stream",
     "text": [
      "Epoch 280/500 - Train Loss: 3.7641 - Val Loss: 8.8800\n",
      "\n"
     ]
    },
    {
     "name": "stderr",
     "output_type": "stream",
     "text": [
      " 60%|██████    | 300/500 [01:06<00:44,  4.48it/s]"
     ]
    },
    {
     "name": "stdout",
     "output_type": "stream",
     "text": [
      "Epoch 300/500 - Train Loss: 3.4107 - Val Loss: 7.8083\n",
      "\n"
     ]
    },
    {
     "name": "stderr",
     "output_type": "stream",
     "text": [
      " 64%|██████▍   | 320/500 [01:11<00:40,  4.48it/s]"
     ]
    },
    {
     "name": "stdout",
     "output_type": "stream",
     "text": [
      "Epoch 320/500 - Train Loss: 4.0322 - Val Loss: 7.7166\n",
      "\n"
     ]
    },
    {
     "name": "stderr",
     "output_type": "stream",
     "text": [
      " 68%|██████▊   | 340/500 [01:15<00:35,  4.47it/s]"
     ]
    },
    {
     "name": "stdout",
     "output_type": "stream",
     "text": [
      "Epoch 340/500 - Train Loss: 3.7035 - Val Loss: 6.7586\n",
      "\n"
     ]
    },
    {
     "name": "stderr",
     "output_type": "stream",
     "text": [
      " 72%|███████▏  | 360/500 [01:20<00:31,  4.48it/s]"
     ]
    },
    {
     "name": "stdout",
     "output_type": "stream",
     "text": [
      "Epoch 360/500 - Train Loss: 3.8669 - Val Loss: 9.5183\n",
      "\n"
     ]
    },
    {
     "name": "stderr",
     "output_type": "stream",
     "text": [
      " 76%|███████▌  | 380/500 [01:24<00:26,  4.48it/s]"
     ]
    },
    {
     "name": "stdout",
     "output_type": "stream",
     "text": [
      "Epoch 380/500 - Train Loss: 4.2419 - Val Loss: 8.0768\n",
      "\n"
     ]
    },
    {
     "name": "stderr",
     "output_type": "stream",
     "text": [
      " 80%|████████  | 400/500 [01:29<00:22,  4.47it/s]"
     ]
    },
    {
     "name": "stdout",
     "output_type": "stream",
     "text": [
      "Epoch 400/500 - Train Loss: 3.1952 - Val Loss: 8.3997\n",
      "\n"
     ]
    },
    {
     "name": "stderr",
     "output_type": "stream",
     "text": [
      " 84%|████████▍ | 420/500 [01:33<00:17,  4.46it/s]"
     ]
    },
    {
     "name": "stdout",
     "output_type": "stream",
     "text": [
      "Epoch 420/500 - Train Loss: 3.4749 - Val Loss: 9.4643\n",
      "\n"
     ]
    },
    {
     "name": "stderr",
     "output_type": "stream",
     "text": [
      " 88%|████████▊ | 440/500 [01:38<00:13,  4.45it/s]"
     ]
    },
    {
     "name": "stdout",
     "output_type": "stream",
     "text": [
      "Epoch 440/500 - Train Loss: 3.2835 - Val Loss: 10.6029\n",
      "\n"
     ]
    },
    {
     "name": "stderr",
     "output_type": "stream",
     "text": [
      " 92%|█████████▏| 460/500 [01:42<00:08,  4.45it/s]"
     ]
    },
    {
     "name": "stdout",
     "output_type": "stream",
     "text": [
      "Epoch 460/500 - Train Loss: 3.4803 - Val Loss: 9.2394\n",
      "\n"
     ]
    },
    {
     "name": "stderr",
     "output_type": "stream",
     "text": [
      " 96%|█████████▌| 480/500 [01:47<00:04,  4.46it/s]"
     ]
    },
    {
     "name": "stdout",
     "output_type": "stream",
     "text": [
      "Epoch 480/500 - Train Loss: 3.4469 - Val Loss: 10.8758\n",
      "\n"
     ]
    },
    {
     "name": "stderr",
     "output_type": "stream",
     "text": [
      "100%|██████████| 500/500 [01:51<00:00,  4.48it/s]"
     ]
    },
    {
     "name": "stdout",
     "output_type": "stream",
     "text": [
      "Epoch 500/500 - Train Loss: 2.7651 - Val Loss: 7.6462\n",
      "\n"
     ]
    },
    {
     "name": "stderr",
     "output_type": "stream",
     "text": [
      "\n"
     ]
    }
   ],
   "source": [
    "import sys\n",
    "sys.path.append('../')\n",
    "from models import VGAE, LatentMLP \n",
    "from utils import BrainGraphDataset, project_root, get_data_labels\n",
    "import torch\n",
    "import torch.nn as nn\n",
    "import torch.optim as optim\n",
    "import os\n",
    "from tqdm import tqdm\n",
    "import copy\n",
    "\n",
    "device = torch.device(\"cuda:0\" if torch.cuda.is_available() else \"cpu\")\n",
    "root = project_root()\n",
    "\n",
    "# instantiate the VGAE model\n",
    "lr = 0.001\n",
    "batch_size = 64\n",
    "\n",
    "nf = 1\n",
    "ef = 1\n",
    "num_nodes = 100\n",
    "hidden_dim = 128\n",
    "latent_size = 8\n",
    "\n",
    "criterion = nn.L1Loss(reduction='sum')\n",
    "categories = ['patient_n','condition','bdi_before']\n",
    "\n",
    "data_labels = get_data_labels()\n",
    "data_labels = data_labels[categories]\n",
    "\n",
    "annotations = 'annotations.csv'\n",
    "\n",
    "data_labels.loc[data_labels[\"condition\"] == \"P\", \"condition\"] = 1\n",
    "data_labels.loc[data_labels[\"condition\"] == \"E\", \"condition\"] = -1\n",
    "data_labels['condition'] = data_labels['condition'].astype('float64')\n",
    "\n",
    "dataroot = 'fc_matrices/psilo_schaefer_before/'\n",
    "\n",
    "dataset = BrainGraphDataset(img_dir=os.path.join(root, dataroot),\n",
    "                            annotations_file=os.path.join(root, annotations),\n",
    "                            transform=None, extra_data=data_labels, setting='lz')\n",
    "\n",
    "# Define the train, validation, and test ratios\n",
    "train_ratio = 0.8\n",
    "val_ratio = 0.2\n",
    "test_ratio = 0.2\n",
    "\n",
    "# Get the number of samples in the dataset\n",
    "num_samples = len(dataset)\n",
    "\n",
    "# Calculate the number of samples for each set\n",
    "train_size = int(train_ratio * num_samples)\n",
    "val_size = num_samples - train_size\n",
    "\n",
    "torch.manual_seed(0)\n",
    "# Split the dataset into train, validation, and test sets\n",
    "\n",
    "\n",
    "import torch\n",
    "from torch.utils.data import DataLoader\n",
    "from sklearn.model_selection import KFold\n",
    "\n",
    "# Assuming you have your dataset defined as 'dataset'\n",
    "num_folds = 5  # Specify the number of folds\n",
    "batch_size = 8  # Specify your desired batch size\n",
    "random_seed = 42  # Specify the random seed\n",
    "\n",
    "# Create indices for k-fold cross-validation with seeded random number generator\n",
    "kf = KFold(n_splits=num_folds, shuffle=True, random_state=random_seed)\n",
    "\n",
    "# Create empty lists to store train and validation loaders\n",
    "train_loaders = []\n",
    "val_loaders = []\n",
    "\n",
    "for train_index, val_index in kf.split(dataset):\n",
    "    # Split dataset into train and validation sets for the current fold\n",
    "    train_set = torch.utils.data.Subset(dataset, train_index)\n",
    "    val_set = torch.utils.data.Subset(dataset, val_index)\n",
    "\n",
    "    # Define the dataloaders for the current fold\n",
    "    train_loader = DataLoader(train_set, batch_size=batch_size, shuffle=True)\n",
    "    val_loader = DataLoader(val_set, batch_size=batch_size, shuffle=False)\n",
    "\n",
    "    # Append the loaders to the respective lists\n",
    "    train_loaders.append(train_loader)\n",
    "    val_loaders.append(val_loader)\n",
    "\n",
    "\n",
    "num_epochs = 500\n",
    "\n",
    "import json\n",
    "\n",
    "# Dictionary to store training and validation curves\n",
    "results = []\n",
    "dropout_list = [0]\n",
    "best_set = [0] * num_folds\n",
    "\n",
    "for i, train_loader in enumerate(train_loaders):\n",
    "    val_loader = val_loaders[i]\n",
    "    for dropout in dropout_list:\n",
    "        vgae = VGAE(1, 1, 100, 32, 8, device, dropout=0, l2_strength=0.001).to(device)\n",
    "        # load the trained VGAE weights\n",
    "        vgae.load_state_dict(torch.load(os.path.join(root, 'vgae_weights/vgae_nf_schaefer_32_8.pt'), map_location=device))\n",
    "        # Convert the model to the device\n",
    "        vgae.to(device)\n",
    "\n",
    "        \n",
    "        best_val_loss = float('inf')  # set to infinity to start\n",
    "        best_model_state = None\n",
    "        train_losses = []\n",
    "        val_losses = []\n",
    "\n",
    "        model = LatentMLP(64, 64, 1, dropout=dropout)\n",
    "        optimizer = optim.Adam(model.parameters(), lr=lr)\n",
    "\n",
    "        src, dest = vgae.edge_index\n",
    "\n",
    "        for epoch in tqdm(range(num_epochs)):\n",
    "            train_loss = 0.0\n",
    "            val_loss = 0.0\n",
    "\n",
    "            # training\n",
    "            model.train()\n",
    "            for batch_idx, ((graph, lz, baseline_bdi), label) in enumerate(train_loader):\n",
    "                graph = graph.to(device)  # move data to device\n",
    "                lz = lz.to(device)\n",
    "                label = label.to(device)\n",
    "                optimizer.zero_grad()\n",
    "\n",
    "                rcn_lz, rcn_edges, z, _, _ = vgae(lz, graph)\n",
    "                graph = graph[:, src, dest]\n",
    "\n",
    "                output_bdi = model(z.view(z.shape[0], -1), baseline_bdi)\n",
    "\n",
    "                l1_loss, l2_loss = model.loss(output_bdi, label.view(output_bdi.shape))\n",
    "                loss = l1_loss + l2_loss\n",
    "                loss.backward()\n",
    "                optimizer.step()\n",
    "                train_loss += loss.item()\n",
    "\n",
    "            # validation\n",
    "            model.eval()\n",
    "            val_label = []\n",
    "            val_output = []\n",
    "            val_base = []\n",
    "            with torch.no_grad():\n",
    "                for batch_idx, ((graph, lz, baseline_bdi), label) in enumerate(val_loader):\n",
    "                    graph = graph.to(device)  # move data to device\n",
    "                    lz = lz.to(device)\n",
    "                    label = label.to(device)\n",
    "\n",
    "                    rcn_lz, rcn_edges, z, _, _ = vgae(lz, graph)\n",
    "                    graph = graph[:, src, dest]\n",
    "\n",
    "                    output_bdi = model(z.view(z.shape[0], -1), baseline_bdi)\n",
    "\n",
    "                    val_label.extend(label)\n",
    "                    val_output.extend(output_bdi)\n",
    "                    val_base.extend(baseline_bdi)\n",
    "                    \n",
    "                    l1_loss, l2_loss = model.loss(output_bdi, label.view(output_bdi.shape))\n",
    "                    loss = l1_loss + l2_loss\n",
    "                    val_loss += loss.item()\n",
    "            # append losses to lists\n",
    "            train_losses.append(train_loss/len(train_set))\n",
    "            val_losses.append(val_loss/len(val_set))\n",
    "\n",
    "            # save the model if the validation loss is at its minimum\n",
    "            if val_losses[-1] < best_val_loss:\n",
    "                best_val_loss = val_losses[-1]\n",
    "\n",
    "                best_model_state = (copy.deepcopy(vgae.state_dict()), copy.deepcopy(model.state_dict()))\n",
    "                best_set[i] = (val_label, val_output, val_base)\n",
    "            # print the losses\n",
    "            with open('dropout_train.txt', 'a') as f:\n",
    "                if (epoch + 1) % 20 == 0:\n",
    "                    print(f'Epoch {epoch+1}/{num_epochs} - Train Loss: {train_losses[-1]:.4f} - Val Loss: {val_losses[-1]:.4f}\\n')\n",
    "                f.write(f'Epoch {epoch+1}/{num_epochs} - Train Loss: {train_losses[-1]:.4f} - Val Loss: {val_losses[-1]:.4f}\\n')\n",
    "\n",
    "        # save the best model for this configuration\n",
    "        torch.save(best_model_state[1], os.path.join(root, f'mlp_weights/vgae_model_weight_schaefer_final.pt'))\n",
    "        torch.save(best_model_state[0], os.path.join(root, f'mlp_weights/vgae_vgae_weight_schaefer_final.pt'))\n",
    "\n",
    "#         # add the loss curves to the dictionary\n",
    "#         loss_curves[f\"dropout_{dropout}\"] = {\"train_loss\": train_losses, \"val_loss\": val_losses}\n",
    "\n",
    "    \n",
    "#     # save the loss curves to a file\n",
    "#     with open(\"loss_curves_mlp_vgae.json\", \"w\") as f:\n",
    "#         json.dump(loss_curves, f)"
   ]
  },
  {
   "cell_type": "code",
   "execution_count": 5,
   "metadata": {},
   "outputs": [
    {
     "name": "stdout",
     "output_type": "stream",
     "text": [
      "0.5042092590776817\n",
      "PearsonRResult(statistic=0.7179322350064347, pvalue=8.710638776474666e-08)\n",
      "4.8858191555454615\n",
      "\n",
      "[1.059599757194519, 11.641514778137207, 21.460678100585938, 14.969383239746094, 7.895935535430908, 5.431248188018799, 15.897588729858398, 2.7566659450531006, 13.584549903869629]\n",
      "[12.99699592590332, 12.13060474395752, 11.85741901397705, 14.703347206115723, 13.055713653564453, 11.568425178527832, 6.745298385620117, 17.152210235595703, 9.076345443725586]\n",
      "[15.888208389282227, 27.6628360748291, 11.468611717224121, 20.97898292541504, 3.0240118503570557, 13.189098358154297, 4.262567520141602, 8.639876365661621]\n",
      "[12.262824058532715, 11.662641525268555, 3.6981444358825684, 15.554696083068848, 9.195324897766113, 2.7442283630371094, 8.524956703186035, 8.214929580688477]\n",
      "[14.63080883026123, -0.8816412091255188, 14.893753051757812, 10.842512130737305, 29.479936599731445, 11.938239097595215, 20.030864715576172, 5.979874610900879]\n"
     ]
    },
    {
     "data": {
      "image/png": "[encoded data removed]",
      "text/plain": [
       "<Figure size 640x480 with 1 Axes>"
      ]
     },
     "metadata": {},
     "output_type": "display_data"
    },
    {
     "name": "stdout",
     "output_type": "stream",
     "text": [
      "Average R-squared: 0.46682231626390164\n",
      "Average MAE: 4.800151989360651\n"
     ]
    }
   ],
   "source": [
    "import numpy as np\n",
    "import matplotlib.pyplot as plt\n",
    "from scipy.stats import pearsonr\n",
    "from sklearn.metrics import r2_score, mean_absolute_error\n",
    "\n",
    "r2_scores = []\n",
    "mae_scores = []\n",
    "r_scores = []\n",
    "\n",
    "l1 = []\n",
    "l2 = []\n",
    "\n",
    "colors = ['red', 'blue', 'green', 'orange', 'purple']\n",
    "\n",
    "for fold in best_set:\n",
    "    l1.extend([t.item() for t in fold[0]])\n",
    "    l2.extend([t.item() for t in fold[1]])\n",
    "\n",
    "print(r2_score(l1, l2))\n",
    "print(pearsonr(l1, l2))\n",
    "print(mean_absolute_error(l1,l2))\n",
    "\n",
    "print()\n",
    "\n",
    "total_true = []\n",
    "total_pred = []\n",
    "total_drug = []\n",
    "total_base = []\n",
    "\n",
    "for i, (true, pred, base) in enumerate(best_set):\n",
    "    true = [t.item() for t in true]\n",
    "    pred = [p.item() for p in pred]\n",
    "    drug = [d[0].item() for d in base]\n",
    "    base = [d[1].item() for d in base]\n",
    "    \n",
    "    print(pred)\n",
    "    \n",
    "    total_true.extend(true)\n",
    "    total_pred.extend(pred)\n",
    "    total_drug.extend(drug)\n",
    "    total_base.extend(base)\n",
    "    # Calculate R-squared (Pearson correlation coefficient)\n",
    "    r2 = r2_score(true, pred)\n",
    "    r2_scores.append(r2)\n",
    "\n",
    "    r_scores.append(pearsonr(true, pred))\n",
    "    \n",
    "    # Calculate Mean Absolute Error (MAE)\n",
    "    mae = mean_absolute_error(true, pred)\n",
    "    mae_scores.append(mae)\n",
    "    \n",
    "    for t, p, d in zip(true, pred, drug):\n",
    "        marker = 'x' if d == -1 else 'o'\n",
    "        plt.scatter(t, p, color='red', marker=marker)\n",
    "\n",
    "        \n",
    "min_val = min(min(true), min(pred))\n",
    "max_val = max(max(true), max(pred))\n",
    "plt.plot([min_val, max_val], [min_val, max_val], 'k--')\n",
    "        \n",
    "plt.xlabel('True BDI')\n",
    "plt.ylabel('Predicted BDI')\n",
    "plt.title('MLP trained with feature VGAE')\n",
    "plt.legend(['Psilocybin', 'Escitalopram'])\n",
    "plt.savefig('mlp_feature_vgae.png', bbox_inches='tight')\n",
    "plt.show()\n",
    "\n",
    "# Calculate average R-squared and MAE across all folds\n",
    "avg_r2 = np.mean(r2_scores)\n",
    "avg_mae = np.mean(mae_scores)\n",
    "\n",
    "import csv\n",
    "head = ['r2', 'pearson_r', 'pval']\n",
    "with open('use_nf.csv', 'w', newline='') as f:\n",
    "    writer = csv.writer(f)\n",
    "\n",
    "    # Write the header\n",
    "    writer.writerow(head)\n",
    "\n",
    "    # Write the data rows\n",
    "    for i in range(5):\n",
    "        writer.writerow([r2_scores[i], r_scores[i][0], r_scores[i][1]])\n",
    "        \n",
    "# Specify the filename for the CSV file\n",
    "filename = 'feature-vgae-full-val-resultss.csv'\n",
    "\n",
    "# Create a list of rows with headers\n",
    "rows = [['true_post_bdi', 'predicted_post_bdi', 'drug (1 for psilo)', 'base_bdi']]\n",
    "for true, pred, drug, base in zip(total_true, total_pred, total_drug, total_base):\n",
    "    rows.append([true, pred, drug, base])\n",
    "\n",
    "# Write the rows to the CSV file\n",
    "with open(filename, 'w', newline='') as file:\n",
    "    writer = csv.writer(file)\n",
    "    writer.writerows(rows)\n",
    "        \n",
    "print('Average R-squared:', avg_r2)\n",
    "print('Average MAE:', avg_mae)"
   ]
  },
  {
   "cell_type": "code",
   "execution_count": null,
   "metadata": {},
   "outputs": [],
   "source": []
  }
 ],
 "metadata": {
  "kernelspec": {
   "display_name": "FYP",
   "language": "python",
   "name": "fyp"
  },
  "language_info": {
   "codemirror_mode": {
    "name": "ipython",
    "version": 3
   },
   "file_extension": ".py",
   "mimetype": "text/x-python",
   "name": "python",
   "nbconvert_exporter": "python",
   "pygments_lexer": "ipython3",
   "version": "3.10.8"
  }
 },
 "nbformat": 4,
 "nbformat_minor": 2
}
