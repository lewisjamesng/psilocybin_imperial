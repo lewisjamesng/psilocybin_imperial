{
 "cells": [
  {
   "cell_type": "code",
   "execution_count": 2,
   "metadata": {},
   "outputs": [
    {
     "name": "stdout",
     "output_type": "stream",
     "text": [
      "Processing psilo_aal_before\n"
     ]
    },
    {
     "name": "stderr",
     "output_type": "stream",
     "text": [
      "  0%|          | 0/50 [00:00<?, ?it/s]"
     ]
    },
    {
     "name": "stdout",
     "output_type": "stream",
     "text": [
      "[NiftiLabelsMasker.wrapped] loading data from /rds/general/user/ljn19/home/nilearn_data/aal_SPM12/aal/atlas/AAL.nii\n",
      "[NiftiLabelsMasker.transform_single_imgs] Loading data from /rds/general/user/ljn19/home/big/container/psilocybrain/../../initial_data/PSILODEP2/before/rest/MNI152/scrubbed_FD_040/clean_with_intact/S01/before_rest_rdsmffms6FWHM_bd_M_V_DV_WMlocal2_modecorr.nii.gz\n",
      "[NiftiLabelsMasker.transform_single_imgs] Extracting region signals\n"
     ]
    },
    {
     "name": "stderr",
     "output_type": "stream",
     "text": [
      "  2%|▏         | 1/50 [00:23<19:33, 23.96s/it]"
     ]
    },
    {
     "name": "stdout",
     "output_type": "stream",
     "text": [
      "[NiftiLabelsMasker.transform_single_imgs] Cleaning extracted signals\n",
      "[NiftiLabelsMasker.wrapped] loading data from /rds/general/user/ljn19/home/nilearn_data/aal_SPM12/aal/atlas/AAL.nii\n",
      "[NiftiLabelsMasker.transform_single_imgs] Loading data from /rds/general/user/ljn19/home/big/container/psilocybrain/../../initial_data/PSILODEP2/before/rest/MNI152/scrubbed_FD_040/clean_with_intact/S02/before_rest_rdsmffms6FWHM_bd_M_V_DV_WMlocal2_modecorr.nii.gz\n",
      "[NiftiLabelsMasker.transform_single_imgs] Extracting region signals\n"
     ]
    },
    {
     "name": "stderr",
     "output_type": "stream",
     "text": [
      "  4%|▍         | 2/50 [00:47<19:03, 23.81s/it]"
     ]
    },
    {
     "name": "stdout",
     "output_type": "stream",
     "text": [
      "[NiftiLabelsMasker.transform_single_imgs] Cleaning extracted signals\n",
      "[NiftiLabelsMasker.wrapped] loading data from /rds/general/user/ljn19/home/nilearn_data/aal_SPM12/aal/atlas/AAL.nii\n",
      "[NiftiLabelsMasker.transform_single_imgs] Loading data from /rds/general/user/ljn19/home/big/container/psilocybrain/../../initial_data/PSILODEP2/before/rest/MNI152/scrubbed_FD_040/clean_with_intact/S03/before_rest_rdsmffms6FWHM_bd_M_V_DV_WMlocal2_modecorr.nii.gz\n",
      "[NiftiLabelsMasker.transform_single_imgs] Extracting region signals\n"
     ]
    },
    {
     "name": "stderr",
     "output_type": "stream",
     "text": [
      "  6%|▌         | 3/50 [01:11<18:30, 23.63s/it]"
     ]
    },
    {
     "name": "stdout",
     "output_type": "stream",
     "text": [
      "[NiftiLabelsMasker.transform_single_imgs] Cleaning extracted signals\n",
      "[NiftiLabelsMasker.wrapped] loading data from /rds/general/user/ljn19/home/nilearn_data/aal_SPM12/aal/atlas/AAL.nii\n",
      "[NiftiLabelsMasker.transform_single_imgs] Loading data from /rds/general/user/ljn19/home/big/container/psilocybrain/../../initial_data/PSILODEP2/before/rest/MNI152/scrubbed_FD_040/clean_with_intact/S04/before_rest_rdsmffms6FWHM_bd_M_V_DV_WMlocal2_modecorr.nii.gz\n",
      "[NiftiLabelsMasker.transform_single_imgs] Extracting region signals\n"
     ]
    },
    {
     "name": "stderr",
     "output_type": "stream",
     "text": [
      "  8%|▊         | 4/50 [01:34<18:05, 23.60s/it]"
     ]
    },
    {
     "name": "stdout",
     "output_type": "stream",
     "text": [
      "[NiftiLabelsMasker.transform_single_imgs] Cleaning extracted signals\n",
      "[NiftiLabelsMasker.wrapped] loading data from /rds/general/user/ljn19/home/nilearn_data/aal_SPM12/aal/atlas/AAL.nii\n",
      "[NiftiLabelsMasker.transform_single_imgs] Loading data from /rds/general/user/ljn19/home/big/container/psilocybrain/../../initial_data/PSILODEP2/before/rest/MNI152/scrubbed_FD_040/clean_with_intact/S06/before_rest_rdsmffms6FWHM_bd_M_V_DV_WMlocal2_modecorr.nii.gz\n",
      "[NiftiLabelsMasker.transform_single_imgs] Extracting region signals\n"
     ]
    },
    {
     "name": "stderr",
     "output_type": "stream",
     "text": [
      " 12%|█▏        | 6/50 [01:58<12:44, 17.38s/it]"
     ]
    },
    {
     "name": "stdout",
     "output_type": "stream",
     "text": [
      "[NiftiLabelsMasker.transform_single_imgs] Cleaning extracted signals\n",
      "[NiftiLabelsMasker.wrapped] loading data from /rds/general/user/ljn19/home/nilearn_data/aal_SPM12/aal/atlas/AAL.nii\n",
      "[NiftiLabelsMasker.transform_single_imgs] Loading data from /rds/general/user/ljn19/home/big/container/psilocybrain/../../initial_data/PSILODEP2/before/rest/MNI152/scrubbed_FD_040/clean_with_intact/S07/before_rest_rdsmffms6FWHM_bd_M_V_DV_WMlocal2_modecorr.nii.gz\n",
      "[NiftiLabelsMasker.transform_single_imgs] Extracting region signals\n"
     ]
    },
    {
     "name": "stderr",
     "output_type": "stream",
     "text": [
      " 14%|█▍        | 7/50 [02:21<13:41, 19.09s/it]"
     ]
    },
    {
     "name": "stdout",
     "output_type": "stream",
     "text": [
      "[NiftiLabelsMasker.transform_single_imgs] Cleaning extracted signals\n",
      "[NiftiLabelsMasker.wrapped] loading data from /rds/general/user/ljn19/home/nilearn_data/aal_SPM12/aal/atlas/AAL.nii\n",
      "[NiftiLabelsMasker.transform_single_imgs] Loading data from /rds/general/user/ljn19/home/big/container/psilocybrain/../../initial_data/PSILODEP2/before/rest/MNI152/scrubbed_FD_040/clean_with_intact/S08/before_rest_rdsmffms6FWHM_bd_M_V_DV_WMlocal2_modecorr.nii.gz\n",
      "[NiftiLabelsMasker.transform_single_imgs] Extracting region signals\n"
     ]
    },
    {
     "name": "stderr",
     "output_type": "stream",
     "text": [
      " 16%|█▌        | 8/50 [02:45<14:16, 20.40s/it]"
     ]
    },
    {
     "name": "stdout",
     "output_type": "stream",
     "text": [
      "[NiftiLabelsMasker.transform_single_imgs] Cleaning extracted signals\n",
      "[NiftiLabelsMasker.wrapped] loading data from /rds/general/user/ljn19/home/nilearn_data/aal_SPM12/aal/atlas/AAL.nii\n",
      "[NiftiLabelsMasker.transform_single_imgs] Loading data from /rds/general/user/ljn19/home/big/container/psilocybrain/../../initial_data/PSILODEP2/before/rest/MNI152/scrubbed_FD_040/clean_with_intact/S10/before_rest_rdsmffms6FWHM_bd_M_V_DV_WMlocal2_modecorr.nii.gz\n",
      "[NiftiLabelsMasker.transform_single_imgs] Extracting region signals\n"
     ]
    },
    {
     "name": "stderr",
     "output_type": "stream",
     "text": [
      " 20%|██        | 10/50 [03:09<11:03, 16.58s/it]"
     ]
    },
    {
     "name": "stdout",
     "output_type": "stream",
     "text": [
      "[NiftiLabelsMasker.transform_single_imgs] Cleaning extracted signals\n",
      "[NiftiLabelsMasker.wrapped] loading data from /rds/general/user/ljn19/home/nilearn_data/aal_SPM12/aal/atlas/AAL.nii\n",
      "[NiftiLabelsMasker.transform_single_imgs] Loading data from /rds/general/user/ljn19/home/big/container/psilocybrain/../../initial_data/PSILODEP2/before/rest/MNI152/scrubbed_FD_040/clean_with_intact/S11/before_rest_rdsmffms6FWHM_bd_M_V_DV_WMlocal2_modecorr.nii.gz\n",
      "[NiftiLabelsMasker.transform_single_imgs] Extracting region signals\n"
     ]
    },
    {
     "name": "stderr",
     "output_type": "stream",
     "text": [
      " 22%|██▏       | 11/50 [03:33<11:53, 18.30s/it]"
     ]
    },
    {
     "name": "stdout",
     "output_type": "stream",
     "text": [
      "[NiftiLabelsMasker.transform_single_imgs] Cleaning extracted signals\n",
      "[NiftiLabelsMasker.wrapped] loading data from /rds/general/user/ljn19/home/nilearn_data/aal_SPM12/aal/atlas/AAL.nii\n",
      "[NiftiLabelsMasker.transform_single_imgs] Loading data from /rds/general/user/ljn19/home/big/container/psilocybrain/../../initial_data/PSILODEP2/before/rest/MNI152/scrubbed_FD_040/clean_with_intact/S12/before_rest_rdsmffms6FWHM_bd_M_V_DV_WMlocal2_modecorr.nii.gz\n",
      "[NiftiLabelsMasker.transform_single_imgs] Extracting region signals\n"
     ]
    },
    {
     "name": "stderr",
     "output_type": "stream",
     "text": [
      " 24%|██▍       | 12/50 [03:56<12:27, 19.67s/it]"
     ]
    },
    {
     "name": "stdout",
     "output_type": "stream",
     "text": [
      "[NiftiLabelsMasker.transform_single_imgs] Cleaning extracted signals\n",
      "[NiftiLabelsMasker.wrapped] loading data from /rds/general/user/ljn19/home/nilearn_data/aal_SPM12/aal/atlas/AAL.nii\n",
      "[NiftiLabelsMasker.transform_single_imgs] Loading data from /rds/general/user/ljn19/home/big/container/psilocybrain/../../initial_data/PSILODEP2/before/rest/MNI152/scrubbed_FD_040/clean_with_intact/S13/before_rest_rdsmffms6FWHM_bd_M_V_DV_WMlocal2_modecorr.nii.gz\n",
      "[NiftiLabelsMasker.transform_single_imgs] Extracting region signals\n"
     ]
    },
    {
     "name": "stderr",
     "output_type": "stream",
     "text": [
      " 26%|██▌       | 13/50 [04:20<12:47, 20.74s/it]"
     ]
    },
    {
     "name": "stdout",
     "output_type": "stream",
     "text": [
      "[NiftiLabelsMasker.transform_single_imgs] Cleaning extracted signals\n",
      "[NiftiLabelsMasker.wrapped] loading data from /rds/general/user/ljn19/home/nilearn_data/aal_SPM12/aal/atlas/AAL.nii\n",
      "[NiftiLabelsMasker.transform_single_imgs] Loading data from /rds/general/user/ljn19/home/big/container/psilocybrain/../../initial_data/PSILODEP2/before/rest/MNI152/scrubbed_FD_040/clean_with_intact/S14/before_rest_rdsmffms6FWHM_bd_M_V_DV_WMlocal2_modecorr.nii.gz\n",
      "[NiftiLabelsMasker.transform_single_imgs] Extracting region signals\n"
     ]
    },
    {
     "name": "stderr",
     "output_type": "stream",
     "text": [
      " 28%|██▊       | 14/50 [04:44<12:56, 21.57s/it]"
     ]
    },
    {
     "name": "stdout",
     "output_type": "stream",
     "text": [
      "[NiftiLabelsMasker.transform_single_imgs] Cleaning extracted signals\n",
      "[NiftiLabelsMasker.wrapped] loading data from /rds/general/user/ljn19/home/nilearn_data/aal_SPM12/aal/atlas/AAL.nii\n",
      "[NiftiLabelsMasker.transform_single_imgs] Loading data from /rds/general/user/ljn19/home/big/container/psilocybrain/../../initial_data/PSILODEP2/before/rest/MNI152/scrubbed_FD_040/clean_with_intact/S16/before_rest_rdsmffms6FWHM_bd_M_V_DV_WMlocal2_modecorr.nii.gz\n",
      "[NiftiLabelsMasker.transform_single_imgs] Extracting region signals\n"
     ]
    },
    {
     "name": "stderr",
     "output_type": "stream",
     "text": [
      " 32%|███▏      | 16/50 [05:07<09:48, 17.32s/it]"
     ]
    },
    {
     "name": "stdout",
     "output_type": "stream",
     "text": [
      "[NiftiLabelsMasker.transform_single_imgs] Cleaning extracted signals\n",
      "[NiftiLabelsMasker.wrapped] loading data from /rds/general/user/ljn19/home/nilearn_data/aal_SPM12/aal/atlas/AAL.nii\n",
      "[NiftiLabelsMasker.transform_single_imgs] Loading data from /rds/general/user/ljn19/home/big/container/psilocybrain/../../initial_data/PSILODEP2/before/rest/MNI152/scrubbed_FD_040/clean_with_intact/S18/before_rest_rdsmffms6FWHM_bd_M_V_DV_WMlocal2_modecorr.nii.gz\n",
      "[NiftiLabelsMasker.transform_single_imgs] Extracting region signals\n"
     ]
    },
    {
     "name": "stderr",
     "output_type": "stream",
     "text": [
      " 36%|███▌      | 18/50 [05:31<08:05, 15.16s/it]"
     ]
    },
    {
     "name": "stdout",
     "output_type": "stream",
     "text": [
      "[NiftiLabelsMasker.transform_single_imgs] Cleaning extracted signals\n",
      "[NiftiLabelsMasker.wrapped] loading data from /rds/general/user/ljn19/home/nilearn_data/aal_SPM12/aal/atlas/AAL.nii\n",
      "[NiftiLabelsMasker.transform_single_imgs] Loading data from /rds/general/user/ljn19/home/big/container/psilocybrain/../../initial_data/PSILODEP2/before/rest/MNI152/scrubbed_FD_040/clean_with_intact/S20/before_rest_rdsmffms6FWHM_bd_M_V_DV_WMlocal2_modecorr.nii.gz\n",
      "[NiftiLabelsMasker.transform_single_imgs] Extracting region signals\n"
     ]
    },
    {
     "name": "stderr",
     "output_type": "stream",
     "text": [
      " 40%|████      | 20/50 [05:55<06:59, 14.00s/it]"
     ]
    },
    {
     "name": "stdout",
     "output_type": "stream",
     "text": [
      "[NiftiLabelsMasker.transform_single_imgs] Cleaning extracted signals\n",
      "[NiftiLabelsMasker.wrapped] loading data from /rds/general/user/ljn19/home/nilearn_data/aal_SPM12/aal/atlas/AAL.nii\n",
      "[NiftiLabelsMasker.transform_single_imgs] Loading data from /rds/general/user/ljn19/home/big/container/psilocybrain/../../initial_data/PSILODEP2/before/rest/MNI152/scrubbed_FD_040/clean_with_intact/S21/before_rest_rdsmffms6FWHM_bd_M_V_DV_WMlocal2_modecorr.nii.gz\n",
      "[NiftiLabelsMasker.transform_single_imgs] Extracting region signals\n"
     ]
    },
    {
     "name": "stderr",
     "output_type": "stream",
     "text": [
      " 42%|████▏     | 21/50 [06:18<07:42, 15.95s/it]"
     ]
    },
    {
     "name": "stdout",
     "output_type": "stream",
     "text": [
      "[NiftiLabelsMasker.transform_single_imgs] Cleaning extracted signals\n",
      "[NiftiLabelsMasker.wrapped] loading data from /rds/general/user/ljn19/home/nilearn_data/aal_SPM12/aal/atlas/AAL.nii\n",
      "[NiftiLabelsMasker.transform_single_imgs] Loading data from /rds/general/user/ljn19/home/big/container/psilocybrain/../../initial_data/PSILODEP2/before/rest/MNI152/scrubbed_FD_040/clean_with_intact/S22/before_rest_rdsmffms6FWHM_bd_M_V_DV_WMlocal2_modecorr.nii.gz\n",
      "[NiftiLabelsMasker.transform_single_imgs] Extracting region signals\n"
     ]
    },
    {
     "name": "stderr",
     "output_type": "stream",
     "text": [
      " 44%|████▍     | 22/50 [06:42<08:15, 17.70s/it]"
     ]
    },
    {
     "name": "stdout",
     "output_type": "stream",
     "text": [
      "[NiftiLabelsMasker.transform_single_imgs] Cleaning extracted signals\n",
      "[NiftiLabelsMasker.wrapped] loading data from /rds/general/user/ljn19/home/nilearn_data/aal_SPM12/aal/atlas/AAL.nii\n",
      "[NiftiLabelsMasker.transform_single_imgs] Loading data from /rds/general/user/ljn19/home/big/container/psilocybrain/../../initial_data/PSILODEP2/before/rest/MNI152/scrubbed_FD_040/clean_with_intact/S23/before_rest_rdsmffms6FWHM_bd_M_V_DV_WMlocal2_modecorr.nii.gz\n",
      "[NiftiLabelsMasker.transform_single_imgs] Extracting region signals\n"
     ]
    },
    {
     "name": "stderr",
     "output_type": "stream",
     "text": [
      " 46%|████▌     | 23/50 [07:06<08:37, 19.17s/it]"
     ]
    },
    {
     "name": "stdout",
     "output_type": "stream",
     "text": [
      "[NiftiLabelsMasker.transform_single_imgs] Cleaning extracted signals\n",
      "[NiftiLabelsMasker.wrapped] loading data from /rds/general/user/ljn19/home/nilearn_data/aal_SPM12/aal/atlas/AAL.nii\n",
      "[NiftiLabelsMasker.transform_single_imgs] Loading data from /rds/general/user/ljn19/home/big/container/psilocybrain/../../initial_data/PSILODEP2/before/rest/MNI152/scrubbed_FD_040/clean_with_intact/S25/before_rest_rdsmffms6FWHM_bd_M_V_DV_WMlocal2_modecorr.nii.gz\n",
      "[NiftiLabelsMasker.transform_single_imgs] Extracting region signals\n"
     ]
    },
    {
     "name": "stderr",
     "output_type": "stream",
     "text": [
      " 50%|█████     | 25/50 [07:30<06:44, 16.16s/it]"
     ]
    },
    {
     "name": "stdout",
     "output_type": "stream",
     "text": [
      "[NiftiLabelsMasker.transform_single_imgs] Cleaning extracted signals\n",
      "[NiftiLabelsMasker.wrapped] loading data from /rds/general/user/ljn19/home/nilearn_data/aal_SPM12/aal/atlas/AAL.nii\n",
      "[NiftiLabelsMasker.transform_single_imgs] Loading data from /rds/general/user/ljn19/home/big/container/psilocybrain/../../initial_data/PSILODEP2/before/rest/MNI152/scrubbed_FD_040/clean_with_intact/S26/before_rest_rdsmffms6FWHM_bd_M_V_DV_WMlocal2_modecorr.nii.gz\n",
      "[NiftiLabelsMasker.transform_single_imgs] Extracting region signals\n"
     ]
    },
    {
     "name": "stderr",
     "output_type": "stream",
     "text": [
      " 52%|█████▏    | 26/50 [07:54<07:10, 17.92s/it]"
     ]
    },
    {
     "name": "stdout",
     "output_type": "stream",
     "text": [
      "[NiftiLabelsMasker.transform_single_imgs] Cleaning extracted signals\n",
      "[NiftiLabelsMasker.wrapped] loading data from /rds/general/user/ljn19/home/nilearn_data/aal_SPM12/aal/atlas/AAL.nii\n",
      "[NiftiLabelsMasker.transform_single_imgs] Loading data from /rds/general/user/ljn19/home/big/container/psilocybrain/../../initial_data/PSILODEP2/before/rest/MNI152/scrubbed_FD_040/clean_with_intact/S27/before_rest_rdsmffms6FWHM_bd_M_V_DV_WMlocal2_modecorr.nii.gz\n",
      "[NiftiLabelsMasker.transform_single_imgs] Extracting region signals\n"
     ]
    },
    {
     "name": "stderr",
     "output_type": "stream",
     "text": [
      " 54%|█████▍    | 27/50 [08:17<07:25, 19.36s/it]"
     ]
    },
    {
     "name": "stdout",
     "output_type": "stream",
     "text": [
      "[NiftiLabelsMasker.transform_single_imgs] Cleaning extracted signals\n",
      "[NiftiLabelsMasker.wrapped] loading data from /rds/general/user/ljn19/home/nilearn_data/aal_SPM12/aal/atlas/AAL.nii\n",
      "[NiftiLabelsMasker.transform_single_imgs] Loading data from /rds/general/user/ljn19/home/big/container/psilocybrain/../../initial_data/PSILODEP2/before/rest/MNI152/scrubbed_FD_040/clean_with_intact/S28/before_rest_rdsmffms6FWHM_bd_M_V_DV_WMlocal2_modecorr.nii.gz\n",
      "[NiftiLabelsMasker.transform_single_imgs] Extracting region signals\n"
     ]
    },
    {
     "name": "stderr",
     "output_type": "stream",
     "text": [
      " 56%|█████▌    | 28/50 [08:41<07:30, 20.50s/it]"
     ]
    },
    {
     "name": "stdout",
     "output_type": "stream",
     "text": [
      "[NiftiLabelsMasker.transform_single_imgs] Cleaning extracted signals\n",
      "[NiftiLabelsMasker.wrapped] loading data from /rds/general/user/ljn19/home/nilearn_data/aal_SPM12/aal/atlas/AAL.nii\n",
      "[NiftiLabelsMasker.transform_single_imgs] Loading data from /rds/general/user/ljn19/home/big/container/psilocybrain/../../initial_data/PSILODEP2/before/rest/MNI152/scrubbed_FD_040/clean_with_intact/S29/before_rest_rdsmffms6FWHM_bd_M_V_DV_WMlocal2_modecorr.nii.gz\n",
      "[NiftiLabelsMasker.transform_single_imgs] Extracting region signals\n"
     ]
    },
    {
     "name": "stderr",
     "output_type": "stream",
     "text": [
      " 58%|█████▊    | 29/50 [09:05<07:28, 21.37s/it]"
     ]
    },
    {
     "name": "stdout",
     "output_type": "stream",
     "text": [
      "[NiftiLabelsMasker.transform_single_imgs] Cleaning extracted signals\n",
      "[NiftiLabelsMasker.wrapped] loading data from /rds/general/user/ljn19/home/nilearn_data/aal_SPM12/aal/atlas/AAL.nii\n",
      "[NiftiLabelsMasker.transform_single_imgs] Loading data from /rds/general/user/ljn19/home/big/container/psilocybrain/../../initial_data/PSILODEP2/before/rest/MNI152/scrubbed_FD_040/clean_with_intact/S30/before_rest_rdsmffms6FWHM_bd_M_V_DV_WMlocal2_modecorr.nii.gz\n",
      "[NiftiLabelsMasker.transform_single_imgs] Extracting region signals\n"
     ]
    },
    {
     "name": "stderr",
     "output_type": "stream",
     "text": [
      " 60%|██████    | 30/50 [09:28<07:20, 22.02s/it]"
     ]
    },
    {
     "name": "stdout",
     "output_type": "stream",
     "text": [
      "[NiftiLabelsMasker.transform_single_imgs] Cleaning extracted signals\n",
      "[NiftiLabelsMasker.wrapped] loading data from /rds/general/user/ljn19/home/nilearn_data/aal_SPM12/aal/atlas/AAL.nii\n",
      "[NiftiLabelsMasker.transform_single_imgs] Loading data from /rds/general/user/ljn19/home/big/container/psilocybrain/../../initial_data/PSILODEP2/before/rest/MNI152/scrubbed_FD_040/clean_with_intact/S31/before_rest_rdsmffms6FWHM_bd_M_V_DV_WMlocal2_modecorr.nii.gz\n",
      "[NiftiLabelsMasker.transform_single_imgs] Extracting region signals\n"
     ]
    },
    {
     "name": "stderr",
     "output_type": "stream",
     "text": [
      " 62%|██████▏   | 31/50 [09:52<07:07, 22.51s/it]"
     ]
    },
    {
     "name": "stdout",
     "output_type": "stream",
     "text": [
      "[NiftiLabelsMasker.transform_single_imgs] Cleaning extracted signals\n",
      "[NiftiLabelsMasker.wrapped] loading data from /rds/general/user/ljn19/home/nilearn_data/aal_SPM12/aal/atlas/AAL.nii\n",
      "[NiftiLabelsMasker.transform_single_imgs] Loading data from /rds/general/user/ljn19/home/big/container/psilocybrain/../../initial_data/PSILODEP2/before/rest/MNI152/scrubbed_FD_040/clean_with_intact/S32/before_rest_rdsmffms6FWHM_bd_M_V_DV_WMlocal2_modecorr.nii.gz\n",
      "[NiftiLabelsMasker.transform_single_imgs] Extracting region signals\n"
     ]
    },
    {
     "name": "stderr",
     "output_type": "stream",
     "text": [
      " 64%|██████▍   | 32/50 [10:16<06:52, 22.90s/it]"
     ]
    },
    {
     "name": "stdout",
     "output_type": "stream",
     "text": [
      "[NiftiLabelsMasker.transform_single_imgs] Cleaning extracted signals\n",
      "[NiftiLabelsMasker.wrapped] loading data from /rds/general/user/ljn19/home/nilearn_data/aal_SPM12/aal/atlas/AAL.nii\n",
      "[NiftiLabelsMasker.transform_single_imgs] Loading data from /rds/general/user/ljn19/home/big/container/psilocybrain/../../initial_data/PSILODEP2/before/rest/MNI152/scrubbed_FD_040/clean_with_intact/S33/before_rest_rdsmffms6FWHM_bd_M_V_DV_WMlocal2_modecorr.nii.gz\n",
      "[NiftiLabelsMasker.transform_single_imgs] Extracting region signals\n"
     ]
    },
    {
     "name": "stderr",
     "output_type": "stream",
     "text": [
      " 66%|██████▌   | 33/50 [10:41<06:37, 23.39s/it]"
     ]
    },
    {
     "name": "stdout",
     "output_type": "stream",
     "text": [
      "[NiftiLabelsMasker.transform_single_imgs] Cleaning extracted signals\n",
      "[NiftiLabelsMasker.wrapped] loading data from /rds/general/user/ljn19/home/nilearn_data/aal_SPM12/aal/atlas/AAL.nii\n",
      "[NiftiLabelsMasker.transform_single_imgs] Loading data from /rds/general/user/ljn19/home/big/container/psilocybrain/../../initial_data/PSILODEP2/before/rest/MNI152/scrubbed_FD_040/clean_with_intact/S34/before_rest_rdsmffms6FWHM_bd_M_V_DV_WMlocal2_modecorr.nii.gz\n",
      "[NiftiLabelsMasker.transform_single_imgs] Extracting region signals\n"
     ]
    },
    {
     "name": "stderr",
     "output_type": "stream",
     "text": [
      " 68%|██████▊   | 34/50 [11:05<06:17, 23.59s/it]"
     ]
    },
    {
     "name": "stdout",
     "output_type": "stream",
     "text": [
      "[NiftiLabelsMasker.transform_single_imgs] Cleaning extracted signals\n",
      "[NiftiLabelsMasker.wrapped] loading data from /rds/general/user/ljn19/home/nilearn_data/aal_SPM12/aal/atlas/AAL.nii\n",
      "[NiftiLabelsMasker.transform_single_imgs] Loading data from /rds/general/user/ljn19/home/big/container/psilocybrain/../../initial_data/PSILODEP2/before/rest/MNI152/scrubbed_FD_040/clean_with_intact/S35/before_rest_rdsmffms6FWHM_bd_M_V_DV_WMlocal2_modecorr.nii.gz\n",
      "[NiftiLabelsMasker.transform_single_imgs] Extracting region signals\n"
     ]
    },
    {
     "name": "stderr",
     "output_type": "stream",
     "text": [
      " 70%|███████   | 35/50 [11:29<05:54, 23.64s/it]"
     ]
    },
    {
     "name": "stdout",
     "output_type": "stream",
     "text": [
      "[NiftiLabelsMasker.transform_single_imgs] Cleaning extracted signals\n",
      "[NiftiLabelsMasker.wrapped] loading data from /rds/general/user/ljn19/home/nilearn_data/aal_SPM12/aal/atlas/AAL.nii\n",
      "[NiftiLabelsMasker.transform_single_imgs] Loading data from /rds/general/user/ljn19/home/big/container/psilocybrain/../../initial_data/PSILODEP2/before/rest/MNI152/scrubbed_FD_040/clean_with_intact/S36/before_rest_rdsmffms6FWHM_bd_M_V_DV_WMlocal2_modecorr.nii.gz\n",
      "[NiftiLabelsMasker.transform_single_imgs] Extracting region signals\n"
     ]
    },
    {
     "name": "stderr",
     "output_type": "stream",
     "text": [
      " 72%|███████▏  | 36/50 [11:52<05:31, 23.67s/it]"
     ]
    },
    {
     "name": "stdout",
     "output_type": "stream",
     "text": [
      "[NiftiLabelsMasker.transform_single_imgs] Cleaning extracted signals\n",
      "[NiftiLabelsMasker.wrapped] loading data from /rds/general/user/ljn19/home/nilearn_data/aal_SPM12/aal/atlas/AAL.nii\n",
      "[NiftiLabelsMasker.transform_single_imgs] Loading data from /rds/general/user/ljn19/home/big/container/psilocybrain/../../initial_data/PSILODEP2/before/rest/MNI152/scrubbed_FD_040/clean_with_intact/S37/before_rest_rdsmffms6FWHM_bd_M_V_DV_WMlocal2_modecorr.nii.gz\n",
      "[NiftiLabelsMasker.transform_single_imgs] Extracting region signals\n"
     ]
    },
    {
     "name": "stderr",
     "output_type": "stream",
     "text": [
      " 74%|███████▍  | 37/50 [12:16<05:08, 23.71s/it]"
     ]
    },
    {
     "name": "stdout",
     "output_type": "stream",
     "text": [
      "[NiftiLabelsMasker.transform_single_imgs] Cleaning extracted signals\n",
      "[NiftiLabelsMasker.wrapped] loading data from /rds/general/user/ljn19/home/nilearn_data/aal_SPM12/aal/atlas/AAL.nii\n",
      "[NiftiLabelsMasker.transform_single_imgs] Loading data from /rds/general/user/ljn19/home/big/container/psilocybrain/../../initial_data/PSILODEP2/before/rest/MNI152/scrubbed_FD_040/clean_with_intact/S38/before_rest_rdsmffms6FWHM_bd_M_V_DV_WMlocal2_modecorr.nii.gz\n",
      "[NiftiLabelsMasker.transform_single_imgs] Extracting region signals\n"
     ]
    },
    {
     "name": "stderr",
     "output_type": "stream",
     "text": [
      " 76%|███████▌  | 38/50 [12:40<04:44, 23.67s/it]"
     ]
    },
    {
     "name": "stdout",
     "output_type": "stream",
     "text": [
      "[NiftiLabelsMasker.transform_single_imgs] Cleaning extracted signals\n",
      "[NiftiLabelsMasker.wrapped] loading data from /rds/general/user/ljn19/home/nilearn_data/aal_SPM12/aal/atlas/AAL.nii\n",
      "[NiftiLabelsMasker.transform_single_imgs] Loading data from /rds/general/user/ljn19/home/big/container/psilocybrain/../../initial_data/PSILODEP2/before/rest/MNI152/scrubbed_FD_040/clean_with_intact/S39/before_rest_rdsmffms6FWHM_bd_M_V_DV_WMlocal2_modecorr.nii.gz\n",
      "[NiftiLabelsMasker.transform_single_imgs] Extracting region signals\n",
      "[NiftiLabelsMasker.transform_single_imgs] Cleaning extracted signals\n"
     ]
    },
    {
     "name": "stderr",
     "output_type": "stream",
     "text": [
      " 78%|███████▊  | 39/50 [13:13<04:50, 26.45s/it]"
     ]
    },
    {
     "name": "stdout",
     "output_type": "stream",
     "text": [
      "[NiftiLabelsMasker.wrapped] loading data from /rds/general/user/ljn19/home/nilearn_data/aal_SPM12/aal/atlas/AAL.nii\n",
      "[NiftiLabelsMasker.transform_single_imgs] Loading data from /rds/general/user/ljn19/home/big/container/psilocybrain/../../initial_data/PSILODEP2/before/rest/MNI152/scrubbed_FD_040/clean_with_intact/S40/before_rest_rdsmffms6FWHM_bd_M_V_DV_WMlocal2_modecorr.nii.gz\n",
      "[NiftiLabelsMasker.transform_single_imgs] Extracting region signals\n"
     ]
    },
    {
     "name": "stderr",
     "output_type": "stream",
     "text": [
      " 80%|████████  | 40/50 [13:36<04:16, 25.65s/it]"
     ]
    },
    {
     "name": "stdout",
     "output_type": "stream",
     "text": [
      "[NiftiLabelsMasker.transform_single_imgs] Cleaning extracted signals\n",
      "[NiftiLabelsMasker.wrapped] loading data from /rds/general/user/ljn19/home/nilearn_data/aal_SPM12/aal/atlas/AAL.nii\n",
      "[NiftiLabelsMasker.transform_single_imgs] Loading data from /rds/general/user/ljn19/home/big/container/psilocybrain/../../initial_data/PSILODEP2/before/rest/MNI152/scrubbed_FD_040/clean_with_intact/S41/before_rest_rdsmffms6FWHM_bd_M_V_DV_WMlocal2_modecorr.nii.gz\n",
      "[NiftiLabelsMasker.transform_single_imgs] Extracting region signals\n"
     ]
    },
    {
     "name": "stderr",
     "output_type": "stream",
     "text": [
      " 82%|████████▏ | 41/50 [14:00<03:45, 25.10s/it]"
     ]
    },
    {
     "name": "stdout",
     "output_type": "stream",
     "text": [
      "[NiftiLabelsMasker.transform_single_imgs] Cleaning extracted signals\n",
      "[NiftiLabelsMasker.wrapped] loading data from /rds/general/user/ljn19/home/nilearn_data/aal_SPM12/aal/atlas/AAL.nii\n",
      "[NiftiLabelsMasker.transform_single_imgs] Loading data from /rds/general/user/ljn19/home/big/container/psilocybrain/../../initial_data/PSILODEP2/before/rest/MNI152/scrubbed_FD_040/clean_with_intact/S42/before_rest_rdsmffms6FWHM_bd_M_V_DV_WMlocal2_modecorr.nii.gz\n",
      "[NiftiLabelsMasker.transform_single_imgs] Extracting region signals\n"
     ]
    },
    {
     "name": "stderr",
     "output_type": "stream",
     "text": [
      " 84%|████████▍ | 42/50 [14:24<03:17, 24.70s/it]"
     ]
    },
    {
     "name": "stdout",
     "output_type": "stream",
     "text": [
      "[NiftiLabelsMasker.transform_single_imgs] Cleaning extracted signals\n",
      "[NiftiLabelsMasker.wrapped] loading data from /rds/general/user/ljn19/home/nilearn_data/aal_SPM12/aal/atlas/AAL.nii\n",
      "[NiftiLabelsMasker.transform_single_imgs] Loading data from /rds/general/user/ljn19/home/big/container/psilocybrain/../../initial_data/PSILODEP2/before/rest/MNI152/scrubbed_FD_040/clean_with_intact/S44/before_rest_rdsmffms6FWHM_bd_M_V_DV_WMlocal2_modecorr.nii.gz\n",
      "[NiftiLabelsMasker.transform_single_imgs] Extracting region signals\n"
     ]
    },
    {
     "name": "stderr",
     "output_type": "stream",
     "text": [
      " 88%|████████▊ | 44/50 [14:48<01:52, 18.79s/it]"
     ]
    },
    {
     "name": "stdout",
     "output_type": "stream",
     "text": [
      "[NiftiLabelsMasker.transform_single_imgs] Cleaning extracted signals\n",
      "[NiftiLabelsMasker.wrapped] loading data from /rds/general/user/ljn19/home/nilearn_data/aal_SPM12/aal/atlas/AAL.nii\n",
      "[NiftiLabelsMasker.transform_single_imgs] Loading data from /rds/general/user/ljn19/home/big/container/psilocybrain/../../initial_data/PSILODEP2/before/rest/MNI152/scrubbed_FD_040/clean_with_intact/S45/before_rest_rdsmffms6FWHM_bd_M_V_DV_WMlocal2_modecorr.nii.gz\n",
      "[NiftiLabelsMasker.transform_single_imgs] Extracting region signals\n"
     ]
    },
    {
     "name": "stderr",
     "output_type": "stream",
     "text": [
      " 90%|█████████ | 45/50 [15:12<01:40, 20.05s/it]"
     ]
    },
    {
     "name": "stdout",
     "output_type": "stream",
     "text": [
      "[NiftiLabelsMasker.transform_single_imgs] Cleaning extracted signals\n",
      "[NiftiLabelsMasker.wrapped] loading data from /rds/general/user/ljn19/home/nilearn_data/aal_SPM12/aal/atlas/AAL.nii\n",
      "[NiftiLabelsMasker.transform_single_imgs] Loading data from /rds/general/user/ljn19/home/big/container/psilocybrain/../../initial_data/PSILODEP2/before/rest/MNI152/scrubbed_FD_040/clean_with_intact/S47/before_rest_rdsmffms6FWHM_bd_M_V_DV_WMlocal2_modecorr.nii.gz\n",
      "[NiftiLabelsMasker.transform_single_imgs] Extracting region signals\n"
     ]
    },
    {
     "name": "stderr",
     "output_type": "stream",
     "text": [
      " 94%|█████████▍| 47/50 [15:35<00:49, 16.64s/it]"
     ]
    },
    {
     "name": "stdout",
     "output_type": "stream",
     "text": [
      "[NiftiLabelsMasker.transform_single_imgs] Cleaning extracted signals\n",
      "[NiftiLabelsMasker.wrapped] loading data from /rds/general/user/ljn19/home/nilearn_data/aal_SPM12/aal/atlas/AAL.nii\n",
      "[NiftiLabelsMasker.transform_single_imgs] Loading data from /rds/general/user/ljn19/home/big/container/psilocybrain/../../initial_data/PSILODEP2/before/rest/MNI152/scrubbed_FD_040/clean_with_intact/S48/before_rest_rdsmffms6FWHM_bd_M_V_DV_WMlocal2_modecorr.nii.gz\n",
      "[NiftiLabelsMasker.transform_single_imgs] Extracting region signals\n"
     ]
    },
    {
     "name": "stderr",
     "output_type": "stream",
     "text": [
      " 96%|█████████▌| 48/50 [15:59<00:36, 18.26s/it]"
     ]
    },
    {
     "name": "stdout",
     "output_type": "stream",
     "text": [
      "[NiftiLabelsMasker.transform_single_imgs] Cleaning extracted signals\n",
      "[NiftiLabelsMasker.wrapped] loading data from /rds/general/user/ljn19/home/nilearn_data/aal_SPM12/aal/atlas/AAL.nii\n",
      "[NiftiLabelsMasker.transform_single_imgs] Loading data from /rds/general/user/ljn19/home/big/container/psilocybrain/../../initial_data/PSILODEP2/before/rest/MNI152/scrubbed_FD_040/clean_with_intact/S49/before_rest_rdsmffms6FWHM_bd_M_V_DV_WMlocal2_modecorr.nii.gz\n",
      "[NiftiLabelsMasker.transform_single_imgs] Extracting region signals\n"
     ]
    },
    {
     "name": "stderr",
     "output_type": "stream",
     "text": [
      " 98%|█████████▊| 49/50 [16:23<00:19, 19.61s/it]"
     ]
    },
    {
     "name": "stdout",
     "output_type": "stream",
     "text": [
      "[NiftiLabelsMasker.transform_single_imgs] Cleaning extracted signals\n",
      "[NiftiLabelsMasker.wrapped] loading data from /rds/general/user/ljn19/home/nilearn_data/aal_SPM12/aal/atlas/AAL.nii\n",
      "[NiftiLabelsMasker.transform_single_imgs] Loading data from /rds/general/user/ljn19/home/big/container/psilocybrain/../../initial_data/PSILODEP2/before/rest/MNI152/scrubbed_FD_040/clean_with_intact/S50/before_rest_rdsmffms6FWHM_bd_M_V_DV_WMlocal2_modecorr.nii.gz\n",
      "[NiftiLabelsMasker.transform_single_imgs] Extracting region signals\n"
     ]
    },
    {
     "name": "stderr",
     "output_type": "stream",
     "text": [
      "100%|██████████| 50/50 [16:46<00:00, 20.14s/it]\n"
     ]
    },
    {
     "name": "stdout",
     "output_type": "stream",
     "text": [
      "[NiftiLabelsMasker.transform_single_imgs] Cleaning extracted signals\n",
      "Processing psilo_aal_after\n"
     ]
    },
    {
     "name": "stderr",
     "output_type": "stream",
     "text": [
      "  0%|          | 0/50 [00:00<?, ?it/s]"
     ]
    },
    {
     "name": "stdout",
     "output_type": "stream",
     "text": [
      "[NiftiLabelsMasker.wrapped] loading data from /rds/general/user/ljn19/home/nilearn_data/aal_SPM12/aal/atlas/AAL.nii\n",
      "[NiftiLabelsMasker.transform_single_imgs] Loading data from /rds/general/user/ljn19/home/big/container/psilocybrain/../../initial_data/PSILODEP2/after/rest/MNI152/scrubbed_FD_040/clean_with_intact/S01/after_rest_rdsmffms6FWHM_bd_M_V_DV_WMlocal2_modecorr.nii.gz\n",
      "[NiftiLabelsMasker.transform_single_imgs] Extracting region signals\n"
     ]
    },
    {
     "name": "stderr",
     "output_type": "stream",
     "text": [
      "  2%|▏         | 1/50 [00:23<19:17, 23.62s/it]"
     ]
    },
    {
     "name": "stdout",
     "output_type": "stream",
     "text": [
      "[NiftiLabelsMasker.transform_single_imgs] Cleaning extracted signals\n",
      "[NiftiLabelsMasker.wrapped] loading data from /rds/general/user/ljn19/home/nilearn_data/aal_SPM12/aal/atlas/AAL.nii\n",
      "[NiftiLabelsMasker.transform_single_imgs] Loading data from /rds/general/user/ljn19/home/big/container/psilocybrain/../../initial_data/PSILODEP2/after/rest/MNI152/scrubbed_FD_040/clean_with_intact/S02/after_rest_rdsmffms6FWHM_bd_M_V_DV_WMlocal2_modecorr.nii.gz\n",
      "[NiftiLabelsMasker.transform_single_imgs] Extracting region signals\n"
     ]
    },
    {
     "name": "stderr",
     "output_type": "stream",
     "text": [
      "  4%|▍         | 2/50 [00:47<18:59, 23.73s/it]"
     ]
    },
    {
     "name": "stdout",
     "output_type": "stream",
     "text": [
      "[NiftiLabelsMasker.transform_single_imgs] Cleaning extracted signals\n",
      "[NiftiLabelsMasker.wrapped] loading data from /rds/general/user/ljn19/home/nilearn_data/aal_SPM12/aal/atlas/AAL.nii\n",
      "[NiftiLabelsMasker.transform_single_imgs] Loading data from /rds/general/user/ljn19/home/big/container/psilocybrain/../../initial_data/PSILODEP2/after/rest/MNI152/scrubbed_FD_040/clean_with_intact/S03/after_rest_rdsmffms6FWHM_bd_M_V_DV_WMlocal2_modecorr.nii.gz\n",
      "[NiftiLabelsMasker.transform_single_imgs] Extracting region signals\n"
     ]
    },
    {
     "name": "stderr",
     "output_type": "stream",
     "text": [
      "  6%|▌         | 3/50 [01:11<18:34, 23.72s/it]"
     ]
    },
    {
     "name": "stdout",
     "output_type": "stream",
     "text": [
      "[NiftiLabelsMasker.transform_single_imgs] Cleaning extracted signals\n",
      "[NiftiLabelsMasker.wrapped] loading data from /rds/general/user/ljn19/home/nilearn_data/aal_SPM12/aal/atlas/AAL.nii\n",
      "[NiftiLabelsMasker.transform_single_imgs] Loading data from /rds/general/user/ljn19/home/big/container/psilocybrain/../../initial_data/PSILODEP2/after/rest/MNI152/scrubbed_FD_040/clean_with_intact/S04/after_rest_rdsmffms6FWHM_bd_M_V_DV_WMlocal2_modecorr.nii.gz\n",
      "[NiftiLabelsMasker.transform_single_imgs] Extracting region signals\n"
     ]
    },
    {
     "name": "stderr",
     "output_type": "stream",
     "text": [
      "  8%|▊         | 4/50 [01:35<18:14, 23.80s/it]"
     ]
    },
    {
     "name": "stdout",
     "output_type": "stream",
     "text": [
      "[NiftiLabelsMasker.transform_single_imgs] Cleaning extracted signals\n",
      "[NiftiLabelsMasker.wrapped] loading data from /rds/general/user/ljn19/home/nilearn_data/aal_SPM12/aal/atlas/AAL.nii\n",
      "[NiftiLabelsMasker.transform_single_imgs] Loading data from /rds/general/user/ljn19/home/big/container/psilocybrain/../../initial_data/PSILODEP2/after/rest/MNI152/scrubbed_FD_040/clean_with_intact/S06/after_rest_rdsmffms6FWHM_bd_M_V_DV_WMlocal2_modecorr.nii.gz\n",
      "[NiftiLabelsMasker.transform_single_imgs] Extracting region signals\n"
     ]
    },
    {
     "name": "stderr",
     "output_type": "stream",
     "text": [
      " 12%|█▏        | 6/50 [01:58<12:49, 17.49s/it]"
     ]
    },
    {
     "name": "stdout",
     "output_type": "stream",
     "text": [
      "[NiftiLabelsMasker.transform_single_imgs] Cleaning extracted signals\n",
      "[NiftiLabelsMasker.wrapped] loading data from /rds/general/user/ljn19/home/nilearn_data/aal_SPM12/aal/atlas/AAL.nii\n",
      "[NiftiLabelsMasker.transform_single_imgs] Loading data from /rds/general/user/ljn19/home/big/container/psilocybrain/../../initial_data/PSILODEP2/after/rest/MNI152/scrubbed_FD_040/clean_with_intact/S07/after_rest_rdsmffms6FWHM_bd_M_V_DV_WMlocal2_modecorr.nii.gz\n",
      "[NiftiLabelsMasker.transform_single_imgs] Extracting region signals\n"
     ]
    },
    {
     "name": "stderr",
     "output_type": "stream",
     "text": [
      " 14%|█▍        | 7/50 [02:22<13:46, 19.21s/it]"
     ]
    },
    {
     "name": "stdout",
     "output_type": "stream",
     "text": [
      "[NiftiLabelsMasker.transform_single_imgs] Cleaning extracted signals\n",
      "[NiftiLabelsMasker.wrapped] loading data from /rds/general/user/ljn19/home/nilearn_data/aal_SPM12/aal/atlas/AAL.nii\n",
      "[NiftiLabelsMasker.transform_single_imgs] Loading data from /rds/general/user/ljn19/home/big/container/psilocybrain/../../initial_data/PSILODEP2/after/rest/MNI152/scrubbed_FD_040/clean_with_intact/S08/after_rest_rdsmffms6FWHM_bd_M_V_DV_WMlocal2_modecorr.nii.gz\n",
      "[NiftiLabelsMasker.transform_single_imgs] Extracting region signals\n"
     ]
    },
    {
     "name": "stderr",
     "output_type": "stream",
     "text": [
      " 16%|█▌        | 8/50 [02:46<14:20, 20.49s/it]"
     ]
    },
    {
     "name": "stdout",
     "output_type": "stream",
     "text": [
      "[NiftiLabelsMasker.transform_single_imgs] Cleaning extracted signals\n",
      "[NiftiLabelsMasker.wrapped] loading data from /rds/general/user/ljn19/home/nilearn_data/aal_SPM12/aal/atlas/AAL.nii\n",
      "[NiftiLabelsMasker.transform_single_imgs] Loading data from /rds/general/user/ljn19/home/big/container/psilocybrain/../../initial_data/PSILODEP2/after/rest/MNI152/scrubbed_FD_040/clean_with_intact/S10/after_rest_rdsmffms6FWHM_bd_M_V_DV_WMlocal2_modecorr.nii.gz\n",
      "[NiftiLabelsMasker.transform_single_imgs] Extracting region signals\n"
     ]
    },
    {
     "name": "stderr",
     "output_type": "stream",
     "text": [
      " 20%|██        | 10/50 [03:10<11:05, 16.64s/it]"
     ]
    },
    {
     "name": "stdout",
     "output_type": "stream",
     "text": [
      "[NiftiLabelsMasker.transform_single_imgs] Cleaning extracted signals\n",
      "[NiftiLabelsMasker.wrapped] loading data from /rds/general/user/ljn19/home/nilearn_data/aal_SPM12/aal/atlas/AAL.nii\n",
      "[NiftiLabelsMasker.transform_single_imgs] Loading data from /rds/general/user/ljn19/home/big/container/psilocybrain/../../initial_data/PSILODEP2/after/rest/MNI152/scrubbed_FD_040/clean_with_intact/S11/after_rest_rdsmffms6FWHM_bd_M_V_DV_WMlocal2_modecorr.nii.gz\n",
      "[NiftiLabelsMasker.transform_single_imgs] Extracting region signals\n"
     ]
    },
    {
     "name": "stderr",
     "output_type": "stream",
     "text": [
      " 22%|██▏       | 11/50 [03:33<11:56, 18.38s/it]"
     ]
    },
    {
     "name": "stdout",
     "output_type": "stream",
     "text": [
      "[NiftiLabelsMasker.transform_single_imgs] Cleaning extracted signals\n",
      "[NiftiLabelsMasker.wrapped] loading data from /rds/general/user/ljn19/home/nilearn_data/aal_SPM12/aal/atlas/AAL.nii\n",
      "[NiftiLabelsMasker.transform_single_imgs] Loading data from /rds/general/user/ljn19/home/big/container/psilocybrain/../../initial_data/PSILODEP2/after/rest/MNI152/scrubbed_FD_040/clean_with_intact/S12/after_rest_rdsmffms6FWHM_bd_M_V_DV_WMlocal2_modecorr.nii.gz\n",
      "[NiftiLabelsMasker.transform_single_imgs] Extracting region signals\n"
     ]
    },
    {
     "name": "stderr",
     "output_type": "stream",
     "text": [
      " 24%|██▍       | 12/50 [03:57<12:29, 19.72s/it]"
     ]
    },
    {
     "name": "stdout",
     "output_type": "stream",
     "text": [
      "[NiftiLabelsMasker.transform_single_imgs] Cleaning extracted signals\n",
      "[NiftiLabelsMasker.wrapped] loading data from /rds/general/user/ljn19/home/nilearn_data/aal_SPM12/aal/atlas/AAL.nii\n",
      "[NiftiLabelsMasker.transform_single_imgs] Loading data from /rds/general/user/ljn19/home/big/container/psilocybrain/../../initial_data/PSILODEP2/after/rest/MNI152/scrubbed_FD_040/clean_with_intact/S13/after_rest_rdsmffms6FWHM_bd_M_V_DV_WMlocal2_modecorr.nii.gz\n",
      "[NiftiLabelsMasker.transform_single_imgs] Extracting region signals\n"
     ]
    },
    {
     "name": "stderr",
     "output_type": "stream",
     "text": [
      " 26%|██▌       | 13/50 [04:21<12:49, 20.81s/it]"
     ]
    },
    {
     "name": "stdout",
     "output_type": "stream",
     "text": [
      "[NiftiLabelsMasker.transform_single_imgs] Cleaning extracted signals\n",
      "[NiftiLabelsMasker.wrapped] loading data from /rds/general/user/ljn19/home/nilearn_data/aal_SPM12/aal/atlas/AAL.nii\n",
      "[NiftiLabelsMasker.transform_single_imgs] Loading data from /rds/general/user/ljn19/home/big/container/psilocybrain/../../initial_data/PSILODEP2/after/rest/MNI152/scrubbed_FD_040/clean_with_intact/S14/after_rest_rdsmffms6FWHM_bd_M_V_DV_WMlocal2_modecorr.nii.gz\n",
      "[NiftiLabelsMasker.transform_single_imgs] Extracting region signals\n"
     ]
    },
    {
     "name": "stderr",
     "output_type": "stream",
     "text": [
      " 28%|██▊       | 14/50 [04:45<12:58, 21.63s/it]"
     ]
    },
    {
     "name": "stdout",
     "output_type": "stream",
     "text": [
      "[NiftiLabelsMasker.transform_single_imgs] Cleaning extracted signals\n",
      "[NiftiLabelsMasker.wrapped] loading data from /rds/general/user/ljn19/home/nilearn_data/aal_SPM12/aal/atlas/AAL.nii\n",
      "[NiftiLabelsMasker.transform_single_imgs] Loading data from /rds/general/user/ljn19/home/big/container/psilocybrain/../../initial_data/PSILODEP2/after/rest/MNI152/scrubbed_FD_040/clean_with_intact/S16/after_rest_rdsmffms6FWHM_bd_M_V_DV_WMlocal2_modecorr.nii.gz\n",
      "[NiftiLabelsMasker.transform_single_imgs] Extracting region signals\n"
     ]
    },
    {
     "name": "stderr",
     "output_type": "stream",
     "text": [
      " 32%|███▏      | 16/50 [05:08<09:48, 17.31s/it]"
     ]
    },
    {
     "name": "stdout",
     "output_type": "stream",
     "text": [
      "[NiftiLabelsMasker.transform_single_imgs] Cleaning extracted signals\n",
      "[NiftiLabelsMasker.wrapped] loading data from /rds/general/user/ljn19/home/nilearn_data/aal_SPM12/aal/atlas/AAL.nii\n",
      "[NiftiLabelsMasker.transform_single_imgs] Loading data from /rds/general/user/ljn19/home/big/container/psilocybrain/../../initial_data/PSILODEP2/after/rest/MNI152/scrubbed_FD_040/clean_with_intact/S18/after_rest_rdsmffms6FWHM_bd_M_V_DV_WMlocal2_modecorr.nii.gz\n",
      "[NiftiLabelsMasker.transform_single_imgs] Extracting region signals\n"
     ]
    },
    {
     "name": "stderr",
     "output_type": "stream",
     "text": [
      " 36%|███▌      | 18/50 [05:32<08:06, 15.22s/it]"
     ]
    },
    {
     "name": "stdout",
     "output_type": "stream",
     "text": [
      "[NiftiLabelsMasker.transform_single_imgs] Cleaning extracted signals\n",
      "[NiftiLabelsMasker.wrapped] loading data from /rds/general/user/ljn19/home/nilearn_data/aal_SPM12/aal/atlas/AAL.nii\n",
      "[NiftiLabelsMasker.transform_single_imgs] Loading data from /rds/general/user/ljn19/home/big/container/psilocybrain/../../initial_data/PSILODEP2/after/rest/MNI152/scrubbed_FD_040/clean_with_intact/S20/after_rest_rdsmffms6FWHM_bd_M_V_DV_WMlocal2_modecorr.nii.gz\n",
      "[NiftiLabelsMasker.transform_single_imgs] Extracting region signals\n"
     ]
    },
    {
     "name": "stderr",
     "output_type": "stream",
     "text": [
      " 40%|████      | 20/50 [05:56<07:00, 14.03s/it]"
     ]
    },
    {
     "name": "stdout",
     "output_type": "stream",
     "text": [
      "[NiftiLabelsMasker.transform_single_imgs] Cleaning extracted signals\n",
      "[NiftiLabelsMasker.wrapped] loading data from /rds/general/user/ljn19/home/nilearn_data/aal_SPM12/aal/atlas/AAL.nii\n",
      "[NiftiLabelsMasker.transform_single_imgs] Loading data from /rds/general/user/ljn19/home/big/container/psilocybrain/../../initial_data/PSILODEP2/after/rest/MNI152/scrubbed_FD_040/clean_with_intact/S21/after_rest_rdsmffms6FWHM_bd_M_V_DV_WMlocal2_modecorr.nii.gz\n",
      "[NiftiLabelsMasker.transform_single_imgs] Extracting region signals\n"
     ]
    },
    {
     "name": "stderr",
     "output_type": "stream",
     "text": [
      " 42%|████▏     | 21/50 [06:20<07:43, 15.98s/it]"
     ]
    },
    {
     "name": "stdout",
     "output_type": "stream",
     "text": [
      "[NiftiLabelsMasker.transform_single_imgs] Cleaning extracted signals\n",
      "[NiftiLabelsMasker.wrapped] loading data from /rds/general/user/ljn19/home/nilearn_data/aal_SPM12/aal/atlas/AAL.nii\n",
      "[NiftiLabelsMasker.transform_single_imgs] Loading data from /rds/general/user/ljn19/home/big/container/psilocybrain/../../initial_data/PSILODEP2/after/rest/MNI152/scrubbed_FD_040/clean_with_intact/S22/after_rest_rdsmffms6FWHM_bd_M_V_DV_WMlocal2_modecorr.nii.gz\n",
      "[NiftiLabelsMasker.transform_single_imgs] Extracting region signals\n"
     ]
    },
    {
     "name": "stderr",
     "output_type": "stream",
     "text": [
      " 44%|████▍     | 22/50 [06:43<08:16, 17.72s/it]"
     ]
    },
    {
     "name": "stdout",
     "output_type": "stream",
     "text": [
      "[NiftiLabelsMasker.transform_single_imgs] Cleaning extracted signals\n",
      "[NiftiLabelsMasker.wrapped] loading data from /rds/general/user/ljn19/home/nilearn_data/aal_SPM12/aal/atlas/AAL.nii\n",
      "[NiftiLabelsMasker.transform_single_imgs] Loading data from /rds/general/user/ljn19/home/big/container/psilocybrain/../../initial_data/PSILODEP2/after/rest/MNI152/scrubbed_FD_040/clean_with_intact/S23/after_rest_rdsmffms6FWHM_bd_M_V_DV_WMlocal2_modecorr.nii.gz\n",
      "[NiftiLabelsMasker.transform_single_imgs] Extracting region signals\n"
     ]
    },
    {
     "name": "stderr",
     "output_type": "stream",
     "text": [
      " 46%|████▌     | 23/50 [07:07<08:37, 19.17s/it]"
     ]
    },
    {
     "name": "stdout",
     "output_type": "stream",
     "text": [
      "[NiftiLabelsMasker.transform_single_imgs] Cleaning extracted signals\n",
      "[NiftiLabelsMasker.wrapped] loading data from /rds/general/user/ljn19/home/nilearn_data/aal_SPM12/aal/atlas/AAL.nii\n",
      "[NiftiLabelsMasker.transform_single_imgs] Loading data from /rds/general/user/ljn19/home/big/container/psilocybrain/../../initial_data/PSILODEP2/after/rest/MNI152/scrubbed_FD_040/clean_with_intact/S25/after_rest_rdsmffms6FWHM_bd_M_V_DV_WMlocal2_modecorr.nii.gz\n",
      "[NiftiLabelsMasker.transform_single_imgs] Extracting region signals\n"
     ]
    },
    {
     "name": "stderr",
     "output_type": "stream",
     "text": [
      " 50%|█████     | 25/50 [07:31<06:44, 16.17s/it]"
     ]
    },
    {
     "name": "stdout",
     "output_type": "stream",
     "text": [
      "[NiftiLabelsMasker.transform_single_imgs] Cleaning extracted signals\n",
      "[NiftiLabelsMasker.wrapped] loading data from /rds/general/user/ljn19/home/nilearn_data/aal_SPM12/aal/atlas/AAL.nii\n",
      "[NiftiLabelsMasker.transform_single_imgs] Loading data from /rds/general/user/ljn19/home/big/container/psilocybrain/../../initial_data/PSILODEP2/after/rest/MNI152/scrubbed_FD_040/clean_with_intact/S26/after_rest_rdsmffms6FWHM_bd_M_V_DV_WMlocal2_modecorr.nii.gz\n",
      "[NiftiLabelsMasker.transform_single_imgs] Extracting region signals\n"
     ]
    },
    {
     "name": "stderr",
     "output_type": "stream",
     "text": [
      " 52%|█████▏    | 26/50 [07:54<07:09, 17.92s/it]"
     ]
    },
    {
     "name": "stdout",
     "output_type": "stream",
     "text": [
      "[NiftiLabelsMasker.transform_single_imgs] Cleaning extracted signals\n",
      "[NiftiLabelsMasker.wrapped] loading data from /rds/general/user/ljn19/home/nilearn_data/aal_SPM12/aal/atlas/AAL.nii\n",
      "[NiftiLabelsMasker.transform_single_imgs] Loading data from /rds/general/user/ljn19/home/big/container/psilocybrain/../../initial_data/PSILODEP2/after/rest/MNI152/scrubbed_FD_040/clean_with_intact/S27/after_rest_rdsmffms6FWHM_bd_M_V_DV_WMlocal2_modecorr.nii.gz\n",
      "[NiftiLabelsMasker.transform_single_imgs] Extracting region signals\n"
     ]
    },
    {
     "name": "stderr",
     "output_type": "stream",
     "text": [
      " 54%|█████▍    | 27/50 [08:18<07:24, 19.34s/it]"
     ]
    },
    {
     "name": "stdout",
     "output_type": "stream",
     "text": [
      "[NiftiLabelsMasker.transform_single_imgs] Cleaning extracted signals\n",
      "[NiftiLabelsMasker.wrapped] loading data from /rds/general/user/ljn19/home/nilearn_data/aal_SPM12/aal/atlas/AAL.nii\n",
      "[NiftiLabelsMasker.transform_single_imgs] Loading data from /rds/general/user/ljn19/home/big/container/psilocybrain/../../initial_data/PSILODEP2/after/rest/MNI152/scrubbed_FD_040/clean_with_intact/S28/after_rest_rdsmffms6FWHM_bd_M_V_DV_WMlocal2_modecorr.nii.gz\n",
      "[NiftiLabelsMasker.transform_single_imgs] Extracting region signals\n"
     ]
    },
    {
     "name": "stderr",
     "output_type": "stream",
     "text": [
      " 56%|█████▌    | 28/50 [08:42<07:30, 20.48s/it]"
     ]
    },
    {
     "name": "stdout",
     "output_type": "stream",
     "text": [
      "[NiftiLabelsMasker.transform_single_imgs] Cleaning extracted signals\n",
      "[NiftiLabelsMasker.wrapped] loading data from /rds/general/user/ljn19/home/nilearn_data/aal_SPM12/aal/atlas/AAL.nii\n",
      "[NiftiLabelsMasker.transform_single_imgs] Loading data from /rds/general/user/ljn19/home/big/container/psilocybrain/../../initial_data/PSILODEP2/after/rest/MNI152/scrubbed_FD_040/clean_with_intact/S29/after_rest_rdsmffms6FWHM_bd_M_V_DV_WMlocal2_modecorr.nii.gz\n",
      "[NiftiLabelsMasker.transform_single_imgs] Extracting region signals\n"
     ]
    },
    {
     "name": "stderr",
     "output_type": "stream",
     "text": [
      " 58%|█████▊    | 29/50 [09:06<07:28, 21.36s/it]"
     ]
    },
    {
     "name": "stdout",
     "output_type": "stream",
     "text": [
      "[NiftiLabelsMasker.transform_single_imgs] Cleaning extracted signals\n",
      "[NiftiLabelsMasker.wrapped] loading data from /rds/general/user/ljn19/home/nilearn_data/aal_SPM12/aal/atlas/AAL.nii\n",
      "[NiftiLabelsMasker.transform_single_imgs] Loading data from /rds/general/user/ljn19/home/big/container/psilocybrain/../../initial_data/PSILODEP2/after/rest/MNI152/scrubbed_FD_040/clean_with_intact/S30/after_rest_rdsmffms6FWHM_bd_M_V_DV_WMlocal2_modecorr.nii.gz\n",
      "[NiftiLabelsMasker.transform_single_imgs] Extracting region signals\n"
     ]
    },
    {
     "name": "stderr",
     "output_type": "stream",
     "text": [
      " 60%|██████    | 30/50 [09:29<07:20, 22.01s/it]"
     ]
    },
    {
     "name": "stdout",
     "output_type": "stream",
     "text": [
      "[NiftiLabelsMasker.transform_single_imgs] Cleaning extracted signals\n",
      "[NiftiLabelsMasker.wrapped] loading data from /rds/general/user/ljn19/home/nilearn_data/aal_SPM12/aal/atlas/AAL.nii\n",
      "[NiftiLabelsMasker.transform_single_imgs] Loading data from /rds/general/user/ljn19/home/big/container/psilocybrain/../../initial_data/PSILODEP2/after/rest/MNI152/scrubbed_FD_040/clean_with_intact/S31/after_rest_rdsmffms6FWHM_bd_M_V_DV_WMlocal2_modecorr.nii.gz\n",
      "[NiftiLabelsMasker.transform_single_imgs] Extracting region signals\n"
     ]
    },
    {
     "name": "stderr",
     "output_type": "stream",
     "text": [
      " 62%|██████▏   | 31/50 [09:53<07:08, 22.53s/it]"
     ]
    },
    {
     "name": "stdout",
     "output_type": "stream",
     "text": [
      "[NiftiLabelsMasker.transform_single_imgs] Cleaning extracted signals\n",
      "[NiftiLabelsMasker.wrapped] loading data from /rds/general/user/ljn19/home/nilearn_data/aal_SPM12/aal/atlas/AAL.nii\n",
      "[NiftiLabelsMasker.transform_single_imgs] Loading data from /rds/general/user/ljn19/home/big/container/psilocybrain/../../initial_data/PSILODEP2/after/rest/MNI152/scrubbed_FD_040/clean_with_intact/S32/after_rest_rdsmffms6FWHM_bd_M_V_DV_WMlocal2_modecorr.nii.gz\n",
      "[NiftiLabelsMasker.transform_single_imgs] Extracting region signals\n"
     ]
    },
    {
     "name": "stderr",
     "output_type": "stream",
     "text": [
      " 64%|██████▍   | 32/50 [10:17<06:52, 22.90s/it]"
     ]
    },
    {
     "name": "stdout",
     "output_type": "stream",
     "text": [
      "[NiftiLabelsMasker.transform_single_imgs] Cleaning extracted signals\n",
      "[NiftiLabelsMasker.wrapped] loading data from /rds/general/user/ljn19/home/nilearn_data/aal_SPM12/aal/atlas/AAL.nii\n",
      "[NiftiLabelsMasker.transform_single_imgs] Loading data from /rds/general/user/ljn19/home/big/container/psilocybrain/../../initial_data/PSILODEP2/after/rest/MNI152/scrubbed_FD_040/clean_with_intact/S33/after_rest_rdsmffms6FWHM_bd_M_V_DV_WMlocal2_modecorr.nii.gz\n",
      "[NiftiLabelsMasker.transform_single_imgs] Extracting region signals\n"
     ]
    },
    {
     "name": "stderr",
     "output_type": "stream",
     "text": [
      " 66%|██████▌   | 33/50 [10:41<06:33, 23.13s/it]"
     ]
    },
    {
     "name": "stdout",
     "output_type": "stream",
     "text": [
      "[NiftiLabelsMasker.transform_single_imgs] Cleaning extracted signals\n",
      "[NiftiLabelsMasker.wrapped] loading data from /rds/general/user/ljn19/home/nilearn_data/aal_SPM12/aal/atlas/AAL.nii\n",
      "[NiftiLabelsMasker.transform_single_imgs] Loading data from /rds/general/user/ljn19/home/big/container/psilocybrain/../../initial_data/PSILODEP2/after/rest/MNI152/scrubbed_FD_040/clean_with_intact/S34/after_rest_rdsmffms6FWHM_bd_M_V_DV_WMlocal2_modecorr.nii.gz\n",
      "[NiftiLabelsMasker.transform_single_imgs] Extracting region signals\n"
     ]
    },
    {
     "name": "stderr",
     "output_type": "stream",
     "text": [
      " 68%|██████▊   | 34/50 [11:04<06:12, 23.31s/it]"
     ]
    },
    {
     "name": "stdout",
     "output_type": "stream",
     "text": [
      "[NiftiLabelsMasker.transform_single_imgs] Cleaning extracted signals\n",
      "[NiftiLabelsMasker.wrapped] loading data from /rds/general/user/ljn19/home/nilearn_data/aal_SPM12/aal/atlas/AAL.nii\n",
      "[NiftiLabelsMasker.transform_single_imgs] Loading data from /rds/general/user/ljn19/home/big/container/psilocybrain/../../initial_data/PSILODEP2/after/rest/MNI152/scrubbed_FD_040/clean_with_intact/S35/after_rest_rdsmffms6FWHM_bd_M_V_DV_WMlocal2_modecorr.nii.gz\n",
      "[NiftiLabelsMasker.transform_single_imgs] Extracting region signals\n"
     ]
    },
    {
     "name": "stderr",
     "output_type": "stream",
     "text": [
      " 70%|███████   | 35/50 [11:28<05:51, 23.43s/it]"
     ]
    },
    {
     "name": "stdout",
     "output_type": "stream",
     "text": [
      "[NiftiLabelsMasker.transform_single_imgs] Cleaning extracted signals\n",
      "[NiftiLabelsMasker.wrapped] loading data from /rds/general/user/ljn19/home/nilearn_data/aal_SPM12/aal/atlas/AAL.nii\n",
      "[NiftiLabelsMasker.transform_single_imgs] Loading data from /rds/general/user/ljn19/home/big/container/psilocybrain/../../initial_data/PSILODEP2/after/rest/MNI152/scrubbed_FD_040/clean_with_intact/S36/after_rest_rdsmffms6FWHM_bd_M_V_DV_WMlocal2_modecorr.nii.gz\n",
      "[NiftiLabelsMasker.transform_single_imgs] Extracting region signals\n"
     ]
    },
    {
     "name": "stderr",
     "output_type": "stream",
     "text": [
      " 72%|███████▏  | 36/50 [11:52<05:29, 23.52s/it]"
     ]
    },
    {
     "name": "stdout",
     "output_type": "stream",
     "text": [
      "[NiftiLabelsMasker.transform_single_imgs] Cleaning extracted signals\n",
      "[NiftiLabelsMasker.wrapped] loading data from /rds/general/user/ljn19/home/nilearn_data/aal_SPM12/aal/atlas/AAL.nii\n",
      "[NiftiLabelsMasker.transform_single_imgs] Loading data from /rds/general/user/ljn19/home/big/container/psilocybrain/../../initial_data/PSILODEP2/after/rest/MNI152/scrubbed_FD_040/clean_with_intact/S37/after_rest_rdsmffms6FWHM_bd_M_V_DV_WMlocal2_modecorr.nii.gz\n",
      "[NiftiLabelsMasker.transform_single_imgs] Extracting region signals\n"
     ]
    },
    {
     "name": "stderr",
     "output_type": "stream",
     "text": [
      " 74%|███████▍  | 37/50 [12:16<05:06, 23.59s/it]"
     ]
    },
    {
     "name": "stdout",
     "output_type": "stream",
     "text": [
      "[NiftiLabelsMasker.transform_single_imgs] Cleaning extracted signals\n",
      "[NiftiLabelsMasker.wrapped] loading data from /rds/general/user/ljn19/home/nilearn_data/aal_SPM12/aal/atlas/AAL.nii\n",
      "[NiftiLabelsMasker.transform_single_imgs] Loading data from /rds/general/user/ljn19/home/big/container/psilocybrain/../../initial_data/PSILODEP2/after/rest/MNI152/scrubbed_FD_040/clean_with_intact/S38/after_rest_rdsmffms6FWHM_bd_M_V_DV_WMlocal2_modecorr.nii.gz\n",
      "[NiftiLabelsMasker.transform_single_imgs] Extracting region signals\n"
     ]
    },
    {
     "name": "stderr",
     "output_type": "stream",
     "text": [
      " 76%|███████▌  | 38/50 [12:39<04:43, 23.64s/it]"
     ]
    },
    {
     "name": "stdout",
     "output_type": "stream",
     "text": [
      "[NiftiLabelsMasker.transform_single_imgs] Cleaning extracted signals\n",
      "[NiftiLabelsMasker.wrapped] loading data from /rds/general/user/ljn19/home/nilearn_data/aal_SPM12/aal/atlas/AAL.nii\n",
      "[NiftiLabelsMasker.transform_single_imgs] Loading data from /rds/general/user/ljn19/home/big/container/psilocybrain/../../initial_data/PSILODEP2/after/rest/MNI152/scrubbed_FD_040/clean_with_intact/S39/after_rest_rdsmffms6FWHM_bd_M_V_DV_WMlocal2_modecorr.nii.gz\n",
      "[NiftiLabelsMasker.transform_single_imgs] Extracting region signals\n"
     ]
    },
    {
     "name": "stderr",
     "output_type": "stream",
     "text": [
      " 78%|███████▊  | 39/50 [13:03<04:20, 23.68s/it]"
     ]
    },
    {
     "name": "stdout",
     "output_type": "stream",
     "text": [
      "[NiftiLabelsMasker.transform_single_imgs] Cleaning extracted signals\n",
      "[NiftiLabelsMasker.wrapped] loading data from /rds/general/user/ljn19/home/nilearn_data/aal_SPM12/aal/atlas/AAL.nii\n",
      "[NiftiLabelsMasker.transform_single_imgs] Loading data from /rds/general/user/ljn19/home/big/container/psilocybrain/../../initial_data/PSILODEP2/after/rest/MNI152/scrubbed_FD_040/clean_with_intact/S40/after_rest_rdsmffms6FWHM_bd_M_V_DV_WMlocal2_modecorr.nii.gz\n",
      "[NiftiLabelsMasker.transform_single_imgs] Extracting region signals\n"
     ]
    },
    {
     "name": "stderr",
     "output_type": "stream",
     "text": [
      " 80%|████████  | 40/50 [13:27<03:56, 23.68s/it]"
     ]
    },
    {
     "name": "stdout",
     "output_type": "stream",
     "text": [
      "[NiftiLabelsMasker.transform_single_imgs] Cleaning extracted signals\n",
      "[NiftiLabelsMasker.wrapped] loading data from /rds/general/user/ljn19/home/nilearn_data/aal_SPM12/aal/atlas/AAL.nii\n",
      "[NiftiLabelsMasker.transform_single_imgs] Loading data from /rds/general/user/ljn19/home/big/container/psilocybrain/../../initial_data/PSILODEP2/after/rest/MNI152/scrubbed_FD_040/clean_with_intact/S41/after_rest_rdsmffms6FWHM_bd_M_V_DV_WMlocal2_modecorr.nii.gz\n",
      "[NiftiLabelsMasker.transform_single_imgs] Extracting region signals\n"
     ]
    },
    {
     "name": "stderr",
     "output_type": "stream",
     "text": [
      " 82%|████████▏ | 41/50 [13:51<03:33, 23.68s/it]"
     ]
    },
    {
     "name": "stdout",
     "output_type": "stream",
     "text": [
      "[NiftiLabelsMasker.transform_single_imgs] Cleaning extracted signals\n",
      "[NiftiLabelsMasker.wrapped] loading data from /rds/general/user/ljn19/home/nilearn_data/aal_SPM12/aal/atlas/AAL.nii\n",
      "[NiftiLabelsMasker.transform_single_imgs] Loading data from /rds/general/user/ljn19/home/big/container/psilocybrain/../../initial_data/PSILODEP2/after/rest/MNI152/scrubbed_FD_040/clean_with_intact/S42/after_rest_rdsmffms6FWHM_bd_M_V_DV_WMlocal2_modecorr.nii.gz\n",
      "[NiftiLabelsMasker.transform_single_imgs] Extracting region signals\n"
     ]
    },
    {
     "name": "stderr",
     "output_type": "stream",
     "text": [
      " 84%|████████▍ | 42/50 [14:14<03:09, 23.69s/it]"
     ]
    },
    {
     "name": "stdout",
     "output_type": "stream",
     "text": [
      "[NiftiLabelsMasker.transform_single_imgs] Cleaning extracted signals\n",
      "[NiftiLabelsMasker.wrapped] loading data from /rds/general/user/ljn19/home/nilearn_data/aal_SPM12/aal/atlas/AAL.nii\n",
      "[NiftiLabelsMasker.transform_single_imgs] Loading data from /rds/general/user/ljn19/home/big/container/psilocybrain/../../initial_data/PSILODEP2/after/rest/MNI152/scrubbed_FD_040/clean_with_intact/S44/after_rest_rdsmffms6FWHM_bd_M_V_DV_WMlocal2_modecorr.nii.gz\n",
      "[NiftiLabelsMasker.transform_single_imgs] Extracting region signals\n"
     ]
    },
    {
     "name": "stderr",
     "output_type": "stream",
     "text": [
      " 88%|████████▊ | 44/50 [14:38<01:49, 18.21s/it]"
     ]
    },
    {
     "name": "stdout",
     "output_type": "stream",
     "text": [
      "[NiftiLabelsMasker.transform_single_imgs] Cleaning extracted signals\n",
      "[NiftiLabelsMasker.wrapped] loading data from /rds/general/user/ljn19/home/nilearn_data/aal_SPM12/aal/atlas/AAL.nii\n",
      "[NiftiLabelsMasker.transform_single_imgs] Loading data from /rds/general/user/ljn19/home/big/container/psilocybrain/../../initial_data/PSILODEP2/after/rest/MNI152/scrubbed_FD_040/clean_with_intact/S45/after_rest_rdsmffms6FWHM_bd_M_V_DV_WMlocal2_modecorr.nii.gz\n",
      "[NiftiLabelsMasker.transform_single_imgs] Extracting region signals\n"
     ]
    },
    {
     "name": "stderr",
     "output_type": "stream",
     "text": [
      " 90%|█████████ | 45/50 [15:02<01:37, 19.57s/it]"
     ]
    },
    {
     "name": "stdout",
     "output_type": "stream",
     "text": [
      "[NiftiLabelsMasker.transform_single_imgs] Cleaning extracted signals\n",
      "[NiftiLabelsMasker.wrapped] loading data from /rds/general/user/ljn19/home/nilearn_data/aal_SPM12/aal/atlas/AAL.nii\n",
      "[NiftiLabelsMasker.transform_single_imgs] Loading data from /rds/general/user/ljn19/home/big/container/psilocybrain/../../initial_data/PSILODEP2/after/rest/MNI152/scrubbed_FD_040/clean_with_intact/S47/after_rest_rdsmffms6FWHM_bd_M_V_DV_WMlocal2_modecorr.nii.gz\n",
      "[NiftiLabelsMasker.transform_single_imgs] Extracting region signals\n"
     ]
    },
    {
     "name": "stderr",
     "output_type": "stream",
     "text": [
      " 94%|█████████▍| 47/50 [15:25<00:49, 16.37s/it]"
     ]
    },
    {
     "name": "stdout",
     "output_type": "stream",
     "text": [
      "[NiftiLabelsMasker.transform_single_imgs] Cleaning extracted signals\n",
      "[NiftiLabelsMasker.wrapped] loading data from /rds/general/user/ljn19/home/nilearn_data/aal_SPM12/aal/atlas/AAL.nii\n",
      "[NiftiLabelsMasker.transform_single_imgs] Loading data from /rds/general/user/ljn19/home/big/container/psilocybrain/../../initial_data/PSILODEP2/after/rest/MNI152/scrubbed_FD_040/clean_with_intact/S48/after_rest_rdsmffms6FWHM_bd_M_V_DV_WMlocal2_modecorr.nii.gz\n",
      "[NiftiLabelsMasker.transform_single_imgs] Extracting region signals\n"
     ]
    },
    {
     "name": "stderr",
     "output_type": "stream",
     "text": [
      " 96%|█████████▌| 48/50 [15:49<00:36, 18.04s/it]"
     ]
    },
    {
     "name": "stdout",
     "output_type": "stream",
     "text": [
      "[NiftiLabelsMasker.transform_single_imgs] Cleaning extracted signals\n",
      "[NiftiLabelsMasker.wrapped] loading data from /rds/general/user/ljn19/home/nilearn_data/aal_SPM12/aal/atlas/AAL.nii\n",
      "[NiftiLabelsMasker.transform_single_imgs] Loading data from /rds/general/user/ljn19/home/big/container/psilocybrain/../../initial_data/PSILODEP2/after/rest/MNI152/scrubbed_FD_040/clean_with_intact/S49/after_rest_rdsmffms6FWHM_bd_M_V_DV_WMlocal2_modecorr.nii.gz\n",
      "[NiftiLabelsMasker.transform_single_imgs] Extracting region signals\n"
     ]
    },
    {
     "name": "stderr",
     "output_type": "stream",
     "text": [
      " 98%|█████████▊| 49/50 [16:13<00:19, 19.43s/it]"
     ]
    },
    {
     "name": "stdout",
     "output_type": "stream",
     "text": [
      "[NiftiLabelsMasker.transform_single_imgs] Cleaning extracted signals\n",
      "[NiftiLabelsMasker.wrapped] loading data from /rds/general/user/ljn19/home/nilearn_data/aal_SPM12/aal/atlas/AAL.nii\n",
      "[NiftiLabelsMasker.transform_single_imgs] Loading data from /rds/general/user/ljn19/home/big/container/psilocybrain/../../initial_data/PSILODEP2/after/rest/MNI152/scrubbed_FD_040/clean_with_intact/S50/after_rest_rdsmffms6FWHM_bd_M_V_DV_WMlocal2_modecorr.nii.gz\n",
      "[NiftiLabelsMasker.transform_single_imgs] Extracting region signals\n"
     ]
    },
    {
     "name": "stderr",
     "output_type": "stream",
     "text": [
      "100%|██████████| 50/50 [16:36<00:00, 19.94s/it]"
     ]
    },
    {
     "name": "stdout",
     "output_type": "stream",
     "text": [
      "[NiftiLabelsMasker.transform_single_imgs] Cleaning extracted signals\n"
     ]
    },
    {
     "name": "stderr",
     "output_type": "stream",
     "text": [
      "\n"
     ]
    }
   ],
   "source": [
    "import numpy as np\n",
    "import csv\n",
    "import os\n",
    "\n",
    "from nilearn import datasets, plotting\n",
    "from nilearn.maskers import NiftiMapsMasker, NiftiLabelsMasker\n",
    "from nilearn.connectome import ConnectivityMeasure\n",
    "from nilearn.image import load_img\n",
    "\n",
    "from numpy import savetxt\n",
    "from sklearn.utils import Bunch\n",
    "import nibabel as nib\n",
    "import sys\n",
    "sys.path.append('../')\n",
    "from utils import project_root\n",
    "\n",
    "def get_num(i):\n",
    "    if i < 9:\n",
    "        return '0' + str(i+1)\n",
    "    return str(i+1)\n",
    "\n",
    "N = 50\n",
    "root = project_root()\n",
    "connectivity_kind = 'correlation'\n",
    "connectivity_measure = ConnectivityMeasure(kind=connectivity_kind)\n",
    "disqualified = [5, 9, 15, 17, 19, 24, 43, 46]\n",
    "\n",
    "for case in ['before', 'after']:\n",
    "    for atlas_name in ['aal']:\n",
    "        if atlas_name == 'ica':\n",
    "            atlas_filename = os.path.join(root, 'ica_100/melodic_IC_sum.nii.gz')\n",
    "            folder = f'psilo_ica_100_{case}'\n",
    "\n",
    "        elif atlas_name == 'schaefer':\n",
    "            atlas = datasets.fetch_atlas_schaefer_2018(n_rois=100, resolution_mm=2, yeo_networks=7)\n",
    "            atlas_filename = atlas['maps']\n",
    "            folder = f'psilo_schaefer_{case}'\n",
    "\n",
    "        else:\n",
    "            atlas = datasets.fetch_atlas_aal()\n",
    "            atlas_filename = atlas['maps']\n",
    "            folder = f'psilo_aal_{case}'\n",
    "        \n",
    "        print(f'Processing {folder}')\n",
    "\n",
    "        # Loading atlas image stored in 'maps'\n",
    "        raw_atlas = nib.load(atlas_filename)\n",
    "\n",
    "        # Load the functional datasets\n",
    "        data_folder = f'../../initial_data/PSILODEP2/{case}/rest/MNI152/scrubbed_FD_040/clean_with_intact'\n",
    "        file_name = f'{case}_rest_rdsmffms6FWHM_bd_M_V_DV_WMlocal2_modecorr.nii.gz'\n",
    "\n",
    "        func = [f'{root}/{data_folder}/S{get_num(i)}/{file_name}' for i in range(N)]\n",
    "        data = Bunch(func=func)\n",
    "\n",
    "        if raw_atlas.ndim < 4:\n",
    "            masker = NiftiLabelsMasker(labels_img=atlas_filename, standardize=True, verbose=5)\n",
    "        else:\n",
    "            masker = NiftiMapsMasker(maps_img=atlas_filename, standardize=True, verbose=5)   \n",
    "\n",
    "        output_path_fc = f'{root}/fc_matrices/{folder}/S'\n",
    "        output_path_ts = f'{root}/time_series/{folder}/S'\n",
    "\n",
    "        from tqdm import tqdm\n",
    "        for i in tqdm(range(N)):\n",
    "            if (i + 1) in disqualified:\n",
    "                continue\n",
    "\n",
    "            time_series = masker.fit_transform(data.func[i])\n",
    "            savetxt(f'{output_path_ts}{get_num(i)}.csv', time_series, delimiter=',')\n",
    "\n",
    "            correlation_matrix = connectivity_measure.fit_transform([time_series])[0]\n",
    "            # Mask out the diagonal\n",
    "            np.fill_diagonal(correlation_matrix, 0)\n",
    "            savetxt(f'{output_path_fc}{get_num(i)}.csv', correlation_matrix, delimiter=',')"
   ]
  },
  {
   "cell_type": "code",
   "execution_count": null,
   "metadata": {},
   "outputs": [],
   "source": []
  }
 ],
 "metadata": {
  "kernelspec": {
   "display_name": "FYP",
   "language": "python",
   "name": "fyp"
  },
  "language_info": {
   "codemirror_mode": {
    "name": "ipython",
    "version": 3
   },
   "file_extension": ".py",
   "mimetype": "text/x-python",
   "name": "python",
   "nbconvert_exporter": "python",
   "pygments_lexer": "ipython3",
   "version": "3.10.8"
  }
 },
 "nbformat": 4,
 "nbformat_minor": 2
}
