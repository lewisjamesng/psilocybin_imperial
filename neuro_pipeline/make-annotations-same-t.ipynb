{
 "cells": [
  {
   "cell_type": "code",
   "execution_count": 3,
   "metadata": {},
   "outputs": [],
   "source": [
    "from utils import get_data_labels\n",
    "import os\n",
    "import csv\n",
    "\n",
    "categories = ['patient_n','condition','bdi_before', 'bdi_final_integration']\n",
    "\n",
    "data_labels = get_data_labels()\n",
    "data_labels = data_labels[categories]\n",
    "# data_labels = data_labels[data_labels['condition'] == 'P']\n",
    "    \n",
    "with open(f'{os.getcwd()}/annotations-before.csv', 'w') as file:\n",
    "    writer = csv.writer(file)\n",
    "\n",
    "    for index, row in data_labels.iterrows():\n",
    "        n = row['patient_n']\n",
    "        num = ('0' if n < 10 else '') + str(n)\n",
    "        writer.writerow(['S' + num + '.csv', n, row['bdi_before']])\n",
    "\n",
    "with open(f'{os.getcwd()}/annotations-after.csv', 'w') as file:\n",
    "    writer = csv.writer(file)        \n",
    "    for index, row in data_labels.iterrows():\n",
    "        n = row['patient_n']\n",
    "        num = ('0' if n < 10 else '') + str(n)\n",
    "        writer.writerow(['S' + num + '.csv', n, row['bdi_final_integration']])"
   ]
  }
 ],
 "metadata": {
  "kernelspec": {
   "display_name": "FYP",
   "language": "python",
   "name": "fyp"
  },
  "language_info": {
   "codemirror_mode": {
    "name": "ipython",
    "version": 3
   },
   "file_extension": ".py",
   "mimetype": "text/x-python",
   "name": "python",
   "nbconvert_exporter": "python",
   "pygments_lexer": "ipython3",
   "version": "3.10.8"
  }
 },
 "nbformat": 4,
 "nbformat_minor": 2
}
