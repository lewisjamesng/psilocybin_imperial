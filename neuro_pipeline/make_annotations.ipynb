{
 "cells": [
  {
   "cell_type": "code",
   "execution_count": 1,
   "metadata": {},
   "outputs": [
    {
     "name": "stderr",
     "output_type": "stream",
     "text": [
      "/rds/general/user/ljn19/home/anaconda3/envs/fyp/lib/python3.10/site-packages/tqdm/auto.py:22: TqdmWarning: IProgress not found. Please update jupyter and ipywidgets. See https://ipywidgets.readthedocs.io/en/stable/user_install.html\n",
      "  from .autonotebook import tqdm as notebook_tqdm\n"
     ]
    }
   ],
   "source": [
    "from utils import get_data_labels\n",
    "import os\n",
    "import csv\n",
    "\n",
    "categories = ['patient_n','condition','bdi_before', 'bdi_final_integration']\n",
    "\n",
    "data_labels = get_data_labels()\n",
    "data_labels = data_labels[categories]\n",
    "data_labels = data_labels[data_labels['condition'] == 'P']\n",
    "    \n",
    "with open(f'{os.getcwd()}/psilo_annotations.csv', 'w') as file:\n",
    "    writer = csv.writer(file)\n",
    "\n",
    "    for index, row in data_labels.iterrows():\n",
    "        n = row['patient_n']\n",
    "        num = ('0' if n < 10 else '') + str(n)\n",
    "        writer.writerow(['S' + num + '.csv', n, row['bdi_final_integration']])"
   ]
  }
 ],
 "metadata": {
  "kernelspec": {
   "display_name": "FYP",
   "language": "python",
   "name": "fyp"
  },
  "language_info": {
   "codemirror_mode": {
    "name": "ipython",
    "version": 3
   },
   "file_extension": ".py",
   "mimetype": "text/x-python",
   "name": "python",
   "nbconvert_exporter": "python",
   "pygments_lexer": "ipython3",
   "version": "3.10.8"
  }
 },
 "nbformat": 4,
 "nbformat_minor": 2
}
